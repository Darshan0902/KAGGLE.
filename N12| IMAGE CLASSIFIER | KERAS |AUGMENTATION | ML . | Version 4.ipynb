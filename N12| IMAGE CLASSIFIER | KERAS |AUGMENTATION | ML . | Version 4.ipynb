{
 "cells": [
  {
   "cell_type": "markdown",
   "id": "b6877bbe",
   "metadata": {
    "papermill": {
     "duration": 0.015242,
     "end_time": "2023-06-16T10:24:03.729617",
     "exception": false,
     "start_time": "2023-06-16T10:24:03.714375",
     "status": "completed"
    },
    "tags": []
   },
   "source": [
    "# <div style= \"font-family: Times New Roman; font-weight:bold; letter-spacing: 0px; color:WHITE; font-size:120%; text-align:left;padding:3.0px; background: #FF4550; border-bottom: 8px solid WHITE\" > TABLE OF CONTENTS<br><div>  \n",
    "* [1 - IMPORTING ESSENTIAL LIBRARIES AND FILES](#1)\n",
    "    \n",
    "    \n",
    "* [2 - CREATING DIRECTORIES AND FOLDERS](#2)\n",
    "    * [2.1 -  CREATING DIRECTORIES](#2.1)\n",
    "    * [2.2 -  DISTRIBUTION OF DATA.](#2.2)    \n",
    "    * [2.3 -  MOVING OR SHIFTING OF THE DATA.](#2.3)\n",
    "    * [2.4 -  MOVING OR SHIFTING OF THE PATH TO VARIABLES.](#2.4)\n",
    "    \n",
    "    \n",
    "* [3 - MODEL BUILDING](#3)\n",
    "    * [DATA AUGMENTATION](#3.0)\n",
    "    * [3.1 -  XCEPTION KERAS MODEL.](#3.1) \n",
    "    * [3.2 - GENERATING IMAGES AND PREPROCESSING INPUT.](#3.2)\n",
    "        * [3.2.1 - VERBOSE :](#3.2.1)\n",
    "        * [3.2.2 - DENSE:](#3.2.2)\n",
    "        * [3.2.3 - FLATTEN:](#3.2.3)\n",
    "    * [3.3 - ADDING A CHECKPOINT TO OUR CODE.](#3.3)\n",
    "    * [3.4 - FITTING OF DATA INTO OUR MODEL.](#3.4)\n",
    "    * [3.5 - CREATING A RUNTIME MODEL.](#3.5)\n",
    "    * [3.6 - SAVING THE RUNTIME MODEL.](#3.6)    \n",
    "    * [3.7 - LOADING THE MODEL.](#3.7)\n",
    "    * [3.8 - LOADING THE TEST DATA](#3.8) \n",
    "    \n",
    "    \n",
    "* [4 - PREDICTION](#4)  \n",
    "    * [4.1 - RAW PREDICTIONS.](#4.1)   \n",
    "    * [4.2 - CONVERTING THE PREDICTED VALUES INTO CATS & DOGS CLASSES](#4.2)\n",
    "    * [4.3 -  LETS PREDICT THE FIRST 10 VALUES.](#4.3)\n",
    "    \n",
    "    \n",
    "* [5 - MODEL EVALUATION:](#5)\n",
    "    * [5.1 - CHECKING THE LENGTH OF OUR PREDICTED VALUES.](#5.1)\n",
    "    * [5.2 - CALCULATING THE LENGTH OF \"true_labels\"](#5.2)\n",
    "    * [5.3 - CALCULATING THE ACCURACY OF OUR MODEL . ](#5.3)\n",
    "    "
   ]
  },
  {
   "cell_type": "markdown",
   "id": "3a8c0f5f",
   "metadata": {
    "papermill": {
     "duration": 0.014114,
     "end_time": "2023-06-16T10:24:03.759070",
     "exception": false,
     "start_time": "2023-06-16T10:24:03.744956",
     "status": "completed"
    },
    "tags": []
   },
   "source": [
    "<a id=\"1\"></a>\n",
    "# <div style= \"font-family: Times New Roman; font-weight:bold; letter-spacing: 0px; color:WHITE; font-size:120%; text-align:left;padding:3.0px; background: #FF4550; border-bottom: 8px solid WHITE\" >1 -  IMPORTING LIBRARIES AND FILES<br><div>  "
   ]
  },
  {
   "cell_type": "code",
   "execution_count": 1,
   "id": "2b5ca672",
   "metadata": {
    "_cell_guid": "b1076dfc-b9ad-4769-8c92-a6c4dae69d19",
    "_uuid": "8f2839f25d086af736a60e9eeb907d3b93b6e0e5",
    "execution": {
     "iopub.execute_input": "2023-06-16T10:24:03.789511Z",
     "iopub.status.busy": "2023-06-16T10:24:03.789105Z",
     "iopub.status.idle": "2023-06-16T10:24:08.343308Z",
     "shell.execute_reply": "2023-06-16T10:24:08.341935Z"
    },
    "papermill": {
     "duration": 4.572048,
     "end_time": "2023-06-16T10:24:08.345504",
     "exception": false,
     "start_time": "2023-06-16T10:24:03.773456",
     "status": "completed"
    },
    "tags": []
   },
   "outputs": [
    {
     "name": "stdout",
     "output_type": "stream",
     "text": [
      "/kaggle/input/cat-and-dog/test_set/test_set/dogs/dog.4329.jpg\n",
      "/kaggle/input/cat-and-dog/test_set/test_set/dogs/dog.4223.jpg\n",
      "/kaggle/input/cat-and-dog/test_set/test_set/cats/cat.4414.jpg\n",
      "/kaggle/input/cat-and-dog/test_set/test_set/cats/cat.4420.jpg\n",
      "/kaggle/input/cat-and-dog/training_set/training_set/dogs/dog.3443.jpg\n",
      "/kaggle/input/cat-and-dog/training_set/training_set/dogs/dog.1942.jpg\n",
      "/kaggle/input/cat-and-dog/training_set/training_set/cats/cat.3498.jpg\n",
      "/kaggle/input/cat-and-dog/training_set/training_set/cats/cat.891.jpg\n"
     ]
    }
   ],
   "source": [
    "import os\n",
    "\n",
    "# Traverse through files and directories in '/kaggle/input' directory\n",
    "for dirname, _, filenames in os.walk('/kaggle/input'):\n",
    "    # Iterate over filenames (first two files only)\n",
    "    for filename in filenames[:2]:\n",
    "        # Print the path of the current file\n",
    "        print(os.path.join(dirname, filename))\n"
   ]
  },
  {
   "cell_type": "markdown",
   "id": "0dabc949",
   "metadata": {
    "papermill": {
     "duration": 0.010792,
     "end_time": "2023-06-16T10:24:08.368256",
     "exception": false,
     "start_time": "2023-06-16T10:24:08.357464",
     "status": "completed"
    },
    "tags": []
   },
   "source": [
    "<a id=\"2\"></a>\n",
    "# <div style= \"font-family: Times New Roman; font-weight:bold; letter-spacing: 0px; color:WHITE; font-size:120%; text-align:left;padding:3.0px; background: #FF4550; border-bottom: 8px solid WHITE\" > 2 - CREATING NEW DIRECTORIES. <br><div>  "
   ]
  },
  {
   "cell_type": "markdown",
   "id": "67dc805d",
   "metadata": {
    "papermill": {
     "duration": 0.010359,
     "end_time": "2023-06-16T10:24:08.389359",
     "exception": false,
     "start_time": "2023-06-16T10:24:08.379000",
     "status": "completed"
    },
    "tags": []
   },
   "source": [
    "<a id=\"2.1\"></a>\n",
    "## <span style=\"color: YELLOW;\"> 2.1 -  CREATING DIRECTORIES </span>\n"
   ]
  },
  {
   "cell_type": "code",
   "execution_count": 2,
   "id": "5cd62927",
   "metadata": {
    "execution": {
     "iopub.execute_input": "2023-06-16T10:24:08.413346Z",
     "iopub.status.busy": "2023-06-16T10:24:08.412472Z",
     "iopub.status.idle": "2023-06-16T10:24:08.419825Z",
     "shell.execute_reply": "2023-06-16T10:24:08.418965Z"
    },
    "papermill": {
     "duration": 0.021359,
     "end_time": "2023-06-16T10:24:08.421876",
     "exception": false,
     "start_time": "2023-06-16T10:24:08.400517",
     "status": "completed"
    },
    "tags": []
   },
   "outputs": [],
   "source": [
    "import os\n",
    "\n",
    "# Main directory for the data .\n",
    "os.makedirs('/kaggle/working/data')\n",
    "\n",
    "\n",
    "# Content of the above folder data.\n",
    "os.makedirs('/kaggle/working/data/train')\n",
    "os.makedirs('/kaggle/working/data/val')\n",
    "os.makedirs('/kaggle/working/data/test')\n",
    "\n",
    "\n",
    "# Filling in Training data.\n",
    "os.makedirs('/kaggle/working/data/train/cats')\n",
    "os.makedirs('/kaggle/working/data/train/dogs')\n",
    "\n",
    "# Filling in Testing data.\n",
    "os.makedirs('/kaggle/working/data/test/cats')\n",
    "os.makedirs('/kaggle/working/data/test/dogs')\n",
    "\n",
    "# Filling in Validation data.\n",
    "os.makedirs('/kaggle/working/data/val/cats')\n",
    "os.makedirs('/kaggle/working/data/val/dogs')\n",
    "\n",
    "\n",
    "# Making a new directory or Folder model.\n",
    "os.makedirs('/kaggle/working/model')"
   ]
  },
  {
   "cell_type": "markdown",
   "id": "d1c283de",
   "metadata": {
    "papermill": {
     "duration": 0.010427,
     "end_time": "2023-06-16T10:24:08.443020",
     "exception": false,
     "start_time": "2023-06-16T10:24:08.432593",
     "status": "completed"
    },
    "tags": []
   },
   "source": [
    "<a id=\"2.2\"></a>\n",
    "## <span style=\"color: YELLOW;\"> 2.2 -  DISTRIBUTION OF DATA. </span>\n"
   ]
  },
  {
   "cell_type": "code",
   "execution_count": 3,
   "id": "2806aa2d",
   "metadata": {
    "execution": {
     "iopub.execute_input": "2023-06-16T10:24:08.466223Z",
     "iopub.status.busy": "2023-06-16T10:24:08.465333Z",
     "iopub.status.idle": "2023-06-16T10:24:08.472398Z",
     "shell.execute_reply": "2023-06-16T10:24:08.471511Z"
    },
    "papermill": {
     "duration": 0.020767,
     "end_time": "2023-06-16T10:24:08.474357",
     "exception": false,
     "start_time": "2023-06-16T10:24:08.453590",
     "status": "completed"
    },
    "tags": []
   },
   "outputs": [],
   "source": [
    "import shutil  # Importing the shutil module for file operations\n",
    "\n",
    "def move(source, dest, half=\"\"):  # Defining a function named \"move\" that takes in source, destination, and optional half parameter\n",
    "    source_file_lst = os.listdir(source)  # Creating a list of files in the source directory\n",
    "    \n",
    "    if half == \"left\":  # If half parameter is \"left\"\n",
    "        source_file_lst = source_file_lst[:len(source_file_lst)//2]  # Selecting the files from the left half of the list\n",
    "    elif half == \"right\":  # If half parameter is \"right\"\n",
    "        source_file_lst = source_file_lst[len(source_file_lst)//2:]  # Selecting the files from the right half of the list\n",
    "    \n",
    "    for f in source_file_lst:  # Looping through each file in the source file list\n",
    "        shutil.copy(source + f, dest)  # Copying the file from the source directory to the destination directory\n",
    "    \n",
    "    print(str(len(source_file_lst)) + \" files copied from \" + source + \" to \" + dest)  # Printing the number of files copied\n",
    "\n"
   ]
  },
  {
   "cell_type": "markdown",
   "id": "3c01b0ac",
   "metadata": {
    "papermill": {
     "duration": 0.010589,
     "end_time": "2023-06-16T10:24:08.495543",
     "exception": false,
     "start_time": "2023-06-16T10:24:08.484954",
     "status": "completed"
    },
    "tags": []
   },
   "source": [
    "<a id=\"2.3\"></a>\n",
    "## <span style=\"color: YELLOW;\"> 2.3 -  MOVING OR SHIFTING OF THE DATA. </span>\n"
   ]
  },
  {
   "cell_type": "code",
   "execution_count": 4,
   "id": "e60ec8c2",
   "metadata": {
    "execution": {
     "iopub.execute_input": "2023-06-16T10:24:08.519839Z",
     "iopub.status.busy": "2023-06-16T10:24:08.518940Z",
     "iopub.status.idle": "2023-06-16T10:24:52.865303Z",
     "shell.execute_reply": "2023-06-16T10:24:52.864323Z"
    },
    "papermill": {
     "duration": 44.3609,
     "end_time": "2023-06-16T10:24:52.867703",
     "exception": false,
     "start_time": "2023-06-16T10:24:08.506803",
     "status": "completed"
    },
    "tags": []
   },
   "outputs": [
    {
     "name": "stdout",
     "output_type": "stream",
     "text": [
      "4006 files copied from /kaggle/input/cat-and-dog/training_set/training_set/dogs/ to /kaggle/working/data/train/dogs\n",
      "4001 files copied from /kaggle/input/cat-and-dog/training_set/training_set/cats/ to /kaggle/working/data/train/cats\n",
      "506 files copied from /kaggle/input/cat-and-dog/test_set/test_set/dogs/ to /kaggle/working/data/test/dogs\n",
      "506 files copied from /kaggle/input/cat-and-dog/test_set/test_set/cats/ to /kaggle/working/data/test/cats\n",
      "507 files copied from /kaggle/input/cat-and-dog/test_set/test_set/dogs/ to /kaggle/working/data/val/dogs\n",
      "506 files copied from /kaggle/input/cat-and-dog/test_set/test_set/cats/ to /kaggle/working/data/val/cats\n"
     ]
    }
   ],
   "source": [
    "# Moving original Training data to our new directory data.\n",
    "move('/kaggle/input/cat-and-dog/training_set/training_set/dogs/', '/kaggle/working/data/train/dogs')\n",
    "move('/kaggle/input/cat-and-dog/training_set/training_set/cats/', '/kaggle/working/data/train/cats')\n",
    "\n",
    "\n",
    "# Moving the Testing dataset left portion to new testing dataset folder in new directory.\n",
    "move('/kaggle/input/cat-and-dog/test_set/test_set/dogs/', '/kaggle/working/data/test/dogs', half=\"left\")\n",
    "move('/kaggle/input/cat-and-dog/test_set/test_set/cats/', '/kaggle/working/data/test/cats', half=\"left\")\n",
    "\n",
    "# Moving the Testing dataset right portion to new validation dataset folder in new directory.\n",
    "move('/kaggle/input/cat-and-dog/test_set/test_set/dogs/', '/kaggle/working/data/val/dogs', half=\"right\")\n",
    "move('/kaggle/input/cat-and-dog/test_set/test_set/cats/', '/kaggle/working/data/val/cats', half=\"right\")"
   ]
  },
  {
   "cell_type": "markdown",
   "id": "a1da0e09",
   "metadata": {
    "papermill": {
     "duration": 0.010959,
     "end_time": "2023-06-16T10:24:52.890367",
     "exception": false,
     "start_time": "2023-06-16T10:24:52.879408",
     "status": "completed"
    },
    "tags": []
   },
   "source": [
    "<a id=\"2.4\"></a>\n",
    "## <span style=\"color: YELLOW;\"> 2.4 -  MOVING OR SHIFTING OF THE PATH TO VARIABLES. </span>\n",
    "\n"
   ]
  },
  {
   "cell_type": "code",
   "execution_count": 5,
   "id": "e846ef9c",
   "metadata": {
    "execution": {
     "iopub.execute_input": "2023-06-16T10:24:52.915367Z",
     "iopub.status.busy": "2023-06-16T10:24:52.913835Z",
     "iopub.status.idle": "2023-06-16T10:24:52.920535Z",
     "shell.execute_reply": "2023-06-16T10:24:52.919659Z"
    },
    "papermill": {
     "duration": 0.020728,
     "end_time": "2023-06-16T10:24:52.922518",
     "exception": false,
     "start_time": "2023-06-16T10:24:52.901790",
     "status": "completed"
    },
    "tags": []
   },
   "outputs": [],
   "source": [
    "from os import path  # Importing the \"path\" module from the \"os\" package\n",
    "\n",
    "# Paths\n",
    "DATA_PATH = \"/kaggle/working/data/\"  # Setting the data path as \"/kaggle/working/data/\"\n",
    "\n",
    "TRAIN_DIR = path.join(DATA_PATH, 'train')  # Creating the path for the training directory by joining DATA_PATH and 'train'\n",
    "VAL_DIR = path.join(DATA_PATH, 'val')  # Creating the path for the validation directory by joining DATA_PATH and 'val'\n",
    "TEST_DIR = path.join(DATA_PATH, 'test')  # Creating the path for the test directory by joining DATA_PATH and 'test'\n",
    "\n",
    "MODEL_DIR = \"/kaggle/working/model/\"  # Setting the model directory path as \"/kaggle/working/model/\"\n"
   ]
  },
  {
   "cell_type": "markdown",
   "id": "d1370004",
   "metadata": {
    "papermill": {
     "duration": 0.010717,
     "end_time": "2023-06-16T10:24:52.944127",
     "exception": false,
     "start_time": "2023-06-16T10:24:52.933410",
     "status": "completed"
    },
    "tags": []
   },
   "source": [
    "<a id=\"3\"></a>\n",
    "# <div style= \"font-family: Times New Roman; font-weight:bold; letter-spacing: 0px; color:WHITE; font-size:120%; text-align:left;padding:3.0px; background: #FF4550; border-bottom: 8px solid WHITE\" >3 - MODEL BUILDING <br><div>  "
   ]
  },
  {
   "cell_type": "markdown",
   "id": "1ae6d985",
   "metadata": {
    "papermill": {
     "duration": 0.010854,
     "end_time": "2023-06-16T10:24:52.965973",
     "exception": false,
     "start_time": "2023-06-16T10:24:52.955119",
     "status": "completed"
    },
    "tags": []
   },
   "source": [
    "<a id=\"3.0\"></a>\n",
    "# <span style=\"color: YELLOW;\">  DATA AUGMENTATION  :</span>\n",
    "\n",
    "\n",
    "Data augmentation refers to the technique of applying various transformations and modifications to existing training data to create new synthetic data samples. It is commonly used in machine learning and deep learning tasks, especially in computer vision, to increase the size and diversity of the training dataset.\n"
   ]
  },
  {
   "cell_type": "markdown",
   "id": "88d5f8b8",
   "metadata": {
    "papermill": {
     "duration": 0.01086,
     "end_time": "2023-06-16T10:24:52.988017",
     "exception": false,
     "start_time": "2023-06-16T10:24:52.977157",
     "status": "completed"
    },
    "tags": []
   },
   "source": [
    "<a id=\"3.1\"></a>\n",
    "\n",
    "## <span style=\"color: YELLOW;\"> 3.1 -  XCEPTION KERAS MODEL. </span>\n",
    "The name \"Xception\" stands for \"Extreme Inception,\" and it is derived from the Inception architecture. Xception takes the idea of separating the spatial and channel-wise transformations from the Inception modules to an extreme level."
   ]
  },
  {
   "cell_type": "code",
   "execution_count": 6,
   "id": "6a110a7c",
   "metadata": {
    "execution": {
     "iopub.execute_input": "2023-06-16T10:24:53.013431Z",
     "iopub.status.busy": "2023-06-16T10:24:53.012370Z",
     "iopub.status.idle": "2023-06-16T10:25:07.142993Z",
     "shell.execute_reply": "2023-06-16T10:25:07.142122Z"
    },
    "papermill": {
     "duration": 14.145708,
     "end_time": "2023-06-16T10:25:07.145583",
     "exception": false,
     "start_time": "2023-06-16T10:24:52.999875",
     "status": "completed"
    },
    "tags": []
   },
   "outputs": [
    {
     "name": "stderr",
     "output_type": "stream",
     "text": [
      "/opt/conda/lib/python3.10/site-packages/tensorflow_io/python/ops/__init__.py:98: UserWarning: unable to load libtensorflow_io_plugins.so: unable to open file: libtensorflow_io_plugins.so, from paths: ['/opt/conda/lib/python3.10/site-packages/tensorflow_io/python/ops/libtensorflow_io_plugins.so']\n",
      "caused by: ['/opt/conda/lib/python3.10/site-packages/tensorflow_io/python/ops/libtensorflow_io_plugins.so: undefined symbol: _ZN3tsl6StatusC1EN10tensorflow5error4CodeESt17basic_string_viewIcSt11char_traitsIcEENS_14SourceLocationE']\n",
      "  warnings.warn(f\"unable to load libtensorflow_io_plugins.so: {e}\")\n",
      "/opt/conda/lib/python3.10/site-packages/tensorflow_io/python/ops/__init__.py:104: UserWarning: file system plugins are not loaded: unable to open file: libtensorflow_io.so, from paths: ['/opt/conda/lib/python3.10/site-packages/tensorflow_io/python/ops/libtensorflow_io.so']\n",
      "caused by: ['/opt/conda/lib/python3.10/site-packages/tensorflow_io/python/ops/libtensorflow_io.so: undefined symbol: _ZTVN10tensorflow13GcsFileSystemE']\n",
      "  warnings.warn(f\"file system plugins are not loaded: {e}\")\n"
     ]
    },
    {
     "name": "stdout",
     "output_type": "stream",
     "text": [
      "Downloading data from https://storage.googleapis.com/tensorflow/keras-applications/xception/xception_weights_tf_dim_ordering_tf_kernels_notop.h5\n",
      "83683744/83683744 [==============================] - 1s 0us/step\n",
      "Model: \"sequential\"\n",
      "_________________________________________________________________\n",
      " Layer (type)                Output Shape              Param #   \n",
      "=================================================================\n",
      " xception (Functional)       (None, 10, 10, 2048)      20861480  \n",
      "                                                                 \n",
      " flatten (Flatten)           (None, 204800)            0         \n",
      "                                                                 \n",
      " out (Dense)                 (None, 2)                 409602    \n",
      "                                                                 \n",
      "=================================================================\n",
      "Total params: 21,271,082\n",
      "Trainable params: 409,602\n",
      "Non-trainable params: 20,861,480\n",
      "_________________________________________________________________\n"
     ]
    }
   ],
   "source": [
    "from tensorflow.keras.applications import Xception  # Importing the Xception model from Keras applications\n",
    "\n",
    "# Create the base model and freeze its layers for transfer learning\n",
    "base_model = Xception(input_shape=(299, 299, 3), include_top=False)\n",
    "# Creating the Xception base model without the fully connected layers\n",
    "# The \"input_shape\" parameter is set to (299, 299, 3) to match the input image dimensions\n",
    "# The \"include_top\" parameter is set to False to exclude the fully connected layers\n",
    "\n",
    "base_model.trainable = False\n",
    "# Freezing the layers of the base model to prevent them from being trained\n",
    "\n",
    "from tensorflow.keras.models import Sequential  # Importing the Sequential model\n",
    "from tensorflow.keras.layers import Dense, Flatten, Input  # Importing necessary layers\n",
    "\n",
    "model = Sequential([base_model, Flatten(), Dense(2, activation='softmax', name=\"out\")])\n",
    "# Creating the final model by stacking the base_model, a Flatten layer, and a Dense layer with 2 units and softmax activation\n",
    "# The \"out\" layer is given a name for identification\n",
    "\n",
    "model.summary()  # Printing the summary of the model\n"
   ]
  },
  {
   "cell_type": "markdown",
   "id": "1179dbc8",
   "metadata": {
    "papermill": {
     "duration": 0.018784,
     "end_time": "2023-06-16T10:25:07.182924",
     "exception": false,
     "start_time": "2023-06-16T10:25:07.164140",
     "status": "completed"
    },
    "tags": []
   },
   "source": [
    "<a id=\"3.2\"></a>\n",
    "## <span style=\"color: YELLOW;\"> 3.2 - GENERATING IMAGES AND PREPROCESSING INPUT. </span>\n"
   ]
  },
  {
   "cell_type": "markdown",
   "id": "54c0209f",
   "metadata": {
    "papermill": {
     "duration": 0.020306,
     "end_time": "2023-06-16T10:25:07.221586",
     "exception": false,
     "start_time": "2023-06-16T10:25:07.201280",
     "status": "completed"
    },
    "tags": []
   },
   "source": [
    "<a id=\"3.2.1\"></a>\n",
    "\n",
    "#### <span style=\"color: YELLOW;\"> 3.2.1 - VERBOSE :</span>\n",
    "In the context of training a model, the term \"verbose\" refers to the level of output that is displayed during the training process. It is a parameter that controls the amount of information shown on the console or output logs. The verbose parameter in the fit method can be set to different values:\n",
    "\n",
    "<a id=\"3.2.2\"></a>\n",
    "\n",
    "#### <span style=\"color: YELLOW;\"> 3.2.2 - DENSE:</span>\n",
    " In the context of neural networks, \"Dense\" refers to a fully connected layer. It is a type of layer in which each neuron is connected to every neuron in the previous layer.\n",
    " \n",
    " <a id=\"3.2.3\"></a>\n",
    "\n",
    " \n",
    "#### <span style=\"color: YELLOW;\"> 3.2.3 - FLATTEN:</span>\n",
    " \"Flatten\" is a layer in a neural network that converts multi-dimensional input into a one-dimensional array. It is typically used to flatten the output from the previous layer into a shape that can be fed into a fully connected layer or other types of layers that require one-dimensional input.\n"
   ]
  },
  {
   "cell_type": "code",
   "execution_count": 7,
   "id": "aaf9c6ff",
   "metadata": {
    "execution": {
     "iopub.execute_input": "2023-06-16T10:25:07.249944Z",
     "iopub.status.busy": "2023-06-16T10:25:07.249582Z",
     "iopub.status.idle": "2023-06-16T10:25:07.515903Z",
     "shell.execute_reply": "2023-06-16T10:25:07.515007Z"
    },
    "papermill": {
     "duration": 0.283413,
     "end_time": "2023-06-16T10:25:07.518320",
     "exception": false,
     "start_time": "2023-06-16T10:25:07.234907",
     "status": "completed"
    },
    "tags": []
   },
   "outputs": [
    {
     "name": "stdout",
     "output_type": "stream",
     "text": [
      "Found 8005 images belonging to 2 classes.\n",
      "Found 1013 images belonging to 2 classes.\n"
     ]
    }
   ],
   "source": [
    "from tensorflow.keras.preprocessing.image import ImageDataGenerator  # Importing the ImageDataGenerator class\n",
    "from tensorflow.keras.applications.xception import preprocess_input  # Importing the preprocess_input function specific to Xception\n",
    "\n",
    "# Creating an ImageDataGenerator for training data with data augmentation\n",
    "train_data_gen = ImageDataGenerator(preprocessing_function=preprocess_input,\n",
    "                                    rotation_range=20,\n",
    "                                    zoom_range=0.1,\n",
    "                                    horizontal_flip=True)\n",
    "# The \"preprocessing_function\" parameter is set to the Xception specific preprocess_input function\n",
    "# The other parameters define the augmentation techniques applied to the training data:\n",
    "# - rotation_range: Random rotation within the range of -20 to +20 degrees\n",
    "# - zoom_range: Random zooming within the range of 0.9 to 1.1\n",
    "# - horizontal_flip: Randomly flipping images horizontally\n",
    "\n",
    "train_generator = train_data_gen.flow_from_directory(TRAIN_DIR,\n",
    "                                                     target_size=(299,299),\n",
    "                                                     color_mode='rgb',\n",
    "                                                     batch_size=128,\n",
    "                                                     class_mode='categorical',\n",
    "                                                     shuffle=True)\n",
    "# Creating a generator for the training data by using the flow_from_directory method\n",
    "# The \"target_size\" parameter sets the size of the input images to (299, 299) as expected by Xception\n",
    "# The \"color_mode\" parameter is set to 'rgb' for color images\n",
    "# The \"batch_size\" parameter determines the number of samples per batch\n",
    "# The \"class_mode\" parameter is set to 'categorical' for multi-class classification\n",
    "# The \"shuffle\" parameter is set to True to shuffle the data\n",
    "\n",
    "# Creating an ImageDataGenerator for validation data\n",
    "val_data_gen = ImageDataGenerator(preprocessing_function=preprocess_input)\n",
    "\n",
    "val_generator = val_data_gen.flow_from_directory(VAL_DIR,\n",
    "                                                 target_size=(299,299),\n",
    "                                                 color_mode='rgb',\n",
    "                                                 batch_size=64,\n",
    "                                                 class_mode='categorical',\n",
    "                                                 shuffle=True)\n",
    "# Creating a generator for the validation data with similar configurations as the training generator\n"
   ]
  },
  {
   "cell_type": "markdown",
   "id": "af01e0d6",
   "metadata": {
    "papermill": {
     "duration": 0.013138,
     "end_time": "2023-06-16T10:25:07.545685",
     "exception": false,
     "start_time": "2023-06-16T10:25:07.532547",
     "status": "completed"
    },
    "tags": []
   },
   "source": [
    "<a id=\"3.3\"></a>\n",
    "\n",
    "## <span style=\"color: YELLOW;\"> 3.3 - ADDING A CHECKPOINT TO OUR CODE. </span>\n"
   ]
  },
  {
   "cell_type": "code",
   "execution_count": 8,
   "id": "00652043",
   "metadata": {
    "execution": {
     "iopub.execute_input": "2023-06-16T10:25:07.574930Z",
     "iopub.status.busy": "2023-06-16T10:25:07.573980Z",
     "iopub.status.idle": "2023-06-16T10:25:07.595352Z",
     "shell.execute_reply": "2023-06-16T10:25:07.594519Z"
    },
    "papermill": {
     "duration": 0.037885,
     "end_time": "2023-06-16T10:25:07.597319",
     "exception": false,
     "start_time": "2023-06-16T10:25:07.559434",
     "status": "completed"
    },
    "tags": []
   },
   "outputs": [],
   "source": [
    "from tensorflow.keras.callbacks import ModelCheckpoint\n",
    "\n",
    "model.compile(optimizer='Adam', loss='categorical_crossentropy', metrics=['accuracy'])\n",
    "checkpoint = ModelCheckpoint(MODEL_DIR, monitor='val_accuracy', verbose=1, save_best_only=True, mode='max')"
   ]
  },
  {
   "cell_type": "markdown",
   "id": "fc505a3b",
   "metadata": {
    "papermill": {
     "duration": 0.01351,
     "end_time": "2023-06-16T10:25:07.624538",
     "exception": false,
     "start_time": "2023-06-16T10:25:07.611028",
     "status": "completed"
    },
    "tags": []
   },
   "source": [
    "<a id=\"3.4\"></a>\n",
    "\n",
    "## <span style=\"color: YELLOW;\"> 3.4 - FITTING OF DATA INTO OUR MODEL. </span>\n"
   ]
  },
  {
   "cell_type": "markdown",
   "id": "966036d1",
   "metadata": {
    "papermill": {
     "duration": 0.01306,
     "end_time": "2023-06-16T10:25:07.651363",
     "exception": false,
     "start_time": "2023-06-16T10:25:07.638303",
     "status": "completed"
    },
    "tags": []
   },
   "source": [
    "epochs=2: The number of epochs specifies how many times the model will iterate over the entire training dataset."
   ]
  },
  {
   "cell_type": "code",
   "execution_count": 9,
   "id": "79b49109",
   "metadata": {
    "execution": {
     "iopub.execute_input": "2023-06-16T10:25:07.679405Z",
     "iopub.status.busy": "2023-06-16T10:25:07.679050Z",
     "iopub.status.idle": "2023-06-16T10:32:56.909146Z",
     "shell.execute_reply": "2023-06-16T10:32:56.908143Z"
    },
    "papermill": {
     "duration": 469.249338,
     "end_time": "2023-06-16T10:32:56.913900",
     "exception": false,
     "start_time": "2023-06-16T10:25:07.664562",
     "status": "completed"
    },
    "tags": []
   },
   "outputs": [
    {
     "name": "stdout",
     "output_type": "stream",
     "text": [
      "Epoch 1/2\n",
      "63/63 [==============================] - ETA: 0s - loss: 0.2114 - accuracy: 0.9808\n",
      "Epoch 1: val_accuracy improved from -inf to 0.99309, saving model to /kaggle/working/model/\n",
      "63/63 [==============================] - 213s 3s/step - loss: 0.2114 - accuracy: 0.9808 - val_loss: 0.1490 - val_accuracy: 0.9931\n",
      "Epoch 2/2\n",
      "63/63 [==============================] - ETA: 0s - loss: 0.1427 - accuracy: 0.9909\n",
      "Epoch 2: val_accuracy improved from 0.99309 to 0.99408, saving model to /kaggle/working/model/\n",
      "63/63 [==============================] - 192s 3s/step - loss: 0.1427 - accuracy: 0.9909 - val_loss: 0.1509 - val_accuracy: 0.9941\n"
     ]
    },
    {
     "data": {
      "text/plain": [
       "<keras.callbacks.History at 0x7afda0002b90>"
      ]
     },
     "execution_count": 9,
     "metadata": {},
     "output_type": "execute_result"
    }
   ],
   "source": [
    "model.fit(train_generator, epochs=2, validation_data=val_generator, callbacks=[checkpoint], verbose=1)"
   ]
  },
  {
   "cell_type": "markdown",
   "id": "9c24fb92",
   "metadata": {
    "papermill": {
     "duration": 0.022857,
     "end_time": "2023-06-16T10:32:56.960885",
     "exception": false,
     "start_time": "2023-06-16T10:32:56.938028",
     "status": "completed"
    },
    "tags": []
   },
   "source": [
    "<a id=\"3.5\"></a>\n",
    "\n",
    "## <span style=\"color: YELLOW;\"> 3.5 - CREATING A RUNTIME MODEL. </span>\n"
   ]
  },
  {
   "cell_type": "code",
   "execution_count": 10,
   "id": "2a274f98",
   "metadata": {
    "execution": {
     "iopub.execute_input": "2023-06-16T10:32:57.012808Z",
     "iopub.status.busy": "2023-06-16T10:32:57.012476Z",
     "iopub.status.idle": "2023-06-16T10:32:57.434112Z",
     "shell.execute_reply": "2023-06-16T10:32:57.433204Z"
    },
    "papermill": {
     "duration": 0.452533,
     "end_time": "2023-06-16T10:32:57.436498",
     "exception": false,
     "start_time": "2023-06-16T10:32:56.983965",
     "status": "completed"
    },
    "tags": []
   },
   "outputs": [],
   "source": [
    "from tensorflow import uint8, float32, cast\n",
    "from tensorflow.keras import Model\n",
    "from tensorflow.keras.layers import Input\n",
    "\n",
    "# Input preprocessing to create runtime model\n",
    "\n",
    "# Define the input layer with shape [299, 299, 3] and data type uint8\n",
    "i = Input([299, 299, 3], dtype=uint8)\n",
    "\n",
    "# Cast the input from uint8 to float32 data type\n",
    "x = cast(i, float32)\n",
    "\n",
    "# Preprocess the input data\n",
    "x = preprocess_input(x)\n",
    "\n",
    "# Pass the preprocessed input through the model\n",
    "x = model(x)\n",
    "\n",
    "# Create a runtime model with input and output defined\n",
    "runtime_model = Model(inputs=[i], outputs=[x])\n"
   ]
  },
  {
   "cell_type": "markdown",
   "id": "10dcaccf",
   "metadata": {
    "papermill": {
     "duration": 0.025944,
     "end_time": "2023-06-16T10:32:57.486404",
     "exception": false,
     "start_time": "2023-06-16T10:32:57.460460",
     "status": "completed"
    },
    "tags": []
   },
   "source": [
    "<a id=\"3.6\"></a>\n",
    "\n",
    "## <span style=\"color: YELLOW;\"> 3.6 - SAVING THE RUNTIME MODEL. </span>\n"
   ]
  },
  {
   "cell_type": "code",
   "execution_count": 11,
   "id": "7a971627",
   "metadata": {
    "execution": {
     "iopub.execute_input": "2023-06-16T10:32:57.533683Z",
     "iopub.status.busy": "2023-06-16T10:32:57.533367Z",
     "iopub.status.idle": "2023-06-16T10:33:19.555152Z",
     "shell.execute_reply": "2023-06-16T10:33:19.554106Z"
    },
    "papermill": {
     "duration": 22.048913,
     "end_time": "2023-06-16T10:33:19.558330",
     "exception": false,
     "start_time": "2023-06-16T10:32:57.509417",
     "status": "completed"
    },
    "tags": []
   },
   "outputs": [],
   "source": [
    "# Save the Model used for inference\n",
    "RUNTIME_MODEL_DIR = path.join(MODEL_DIR, 'runtime')\n",
    "runtime_model.save(RUNTIME_MODEL_DIR)"
   ]
  },
  {
   "cell_type": "markdown",
   "id": "b0d98025",
   "metadata": {
    "papermill": {
     "duration": 0.022745,
     "end_time": "2023-06-16T10:33:19.607881",
     "exception": false,
     "start_time": "2023-06-16T10:33:19.585136",
     "status": "completed"
    },
    "tags": []
   },
   "source": [
    "<a id=\"3.7\"></a>\n",
    "\n",
    "## <span style=\"color: YELLOW;\"> 3.7 - LOADING THE MODEL. </span>\n"
   ]
  },
  {
   "cell_type": "code",
   "execution_count": 12,
   "id": "ed7bdb4e",
   "metadata": {
    "execution": {
     "iopub.execute_input": "2023-06-16T10:33:19.659228Z",
     "iopub.status.busy": "2023-06-16T10:33:19.658859Z",
     "iopub.status.idle": "2023-06-16T10:33:29.289169Z",
     "shell.execute_reply": "2023-06-16T10:33:29.288122Z"
    },
    "papermill": {
     "duration": 9.660552,
     "end_time": "2023-06-16T10:33:29.291913",
     "exception": false,
     "start_time": "2023-06-16T10:33:19.631361",
     "status": "completed"
    },
    "tags": []
   },
   "outputs": [],
   "source": [
    "# Load the model used for inference\n",
    "from tensorflow.keras.models import load_model\n",
    "\n",
    "loaded_model = load_model(RUNTIME_MODEL_DIR)"
   ]
  },
  {
   "cell_type": "markdown",
   "id": "01189969",
   "metadata": {
    "papermill": {
     "duration": 0.022772,
     "end_time": "2023-06-16T10:33:29.338144",
     "exception": false,
     "start_time": "2023-06-16T10:33:29.315372",
     "status": "completed"
    },
    "tags": []
   },
   "source": [
    "<a id=\"3.8\"></a>\n",
    "\n",
    "## <span style=\"color: YELLOW;\"> 3.8 - LOADING THE TEST DATA. </span>\n"
   ]
  },
  {
   "cell_type": "code",
   "execution_count": 13,
   "id": "95ac2306",
   "metadata": {
    "execution": {
     "iopub.execute_input": "2023-06-16T10:33:29.395763Z",
     "iopub.status.busy": "2023-06-16T10:33:29.395433Z",
     "iopub.status.idle": "2023-06-16T10:33:29.435125Z",
     "shell.execute_reply": "2023-06-16T10:33:29.434219Z"
    },
    "papermill": {
     "duration": 0.076446,
     "end_time": "2023-06-16T10:33:29.437261",
     "exception": false,
     "start_time": "2023-06-16T10:33:29.360815",
     "status": "completed"
    },
    "tags": []
   },
   "outputs": [
    {
     "name": "stdout",
     "output_type": "stream",
     "text": [
      "Found 1010 images belonging to 2 classes.\n"
     ]
    }
   ],
   "source": [
    "# Obtain generator for test images\n",
    "\n",
    "# Create an ImageDataGenerator for test data\n",
    "test_data_gen = ImageDataGenerator()\n",
    "\n",
    "# Generate a test data generator using the flow_from_directory method\n",
    "test_generator = test_data_gen.flow_from_directory(TEST_DIR,\n",
    "                                                   target_size=(299,299),\n",
    "                                                   color_mode='rgb',\n",
    "                                                   batch_size=64,\n",
    "                                                   class_mode='categorical',\n",
    "                                                   shuffle=False)\n"
   ]
  },
  {
   "cell_type": "markdown",
   "id": "76b794b1",
   "metadata": {
    "papermill": {
     "duration": 0.022649,
     "end_time": "2023-06-16T10:33:29.482806",
     "exception": false,
     "start_time": "2023-06-16T10:33:29.460157",
     "status": "completed"
    },
    "tags": []
   },
   "source": [
    "<a id=\"4\"></a>\n",
    "# <div style= \"font-family: Times New Roman; font-weight:bold; letter-spacing: 0px; color:WHITE; font-size:120%; text-align:left;padding:3.0px; background: #FF4550; border-bottom: 8px solid WHITE\" >4 - PREDICTION. <br><div>  "
   ]
  },
  {
   "cell_type": "markdown",
   "id": "c99c5690",
   "metadata": {
    "papermill": {
     "duration": 0.022544,
     "end_time": "2023-06-16T10:33:29.528122",
     "exception": false,
     "start_time": "2023-06-16T10:33:29.505578",
     "status": "completed"
    },
    "tags": []
   },
   "source": [
    "<a id=\"4.1\"></a>\n",
    "## <span style=\"color: YELLOW;\"> 4.1 - MAKING RAW PREDICTIONS. </span>\n"
   ]
  },
  {
   "cell_type": "code",
   "execution_count": 14,
   "id": "5a03ca79",
   "metadata": {
    "execution": {
     "iopub.execute_input": "2023-06-16T10:33:29.575343Z",
     "iopub.status.busy": "2023-06-16T10:33:29.574994Z",
     "iopub.status.idle": "2023-06-16T10:33:37.055169Z",
     "shell.execute_reply": "2023-06-16T10:33:37.053883Z"
    },
    "papermill": {
     "duration": 7.506644,
     "end_time": "2023-06-16T10:33:37.057672",
     "exception": false,
     "start_time": "2023-06-16T10:33:29.551028",
     "status": "completed"
    },
    "tags": []
   },
   "outputs": [
    {
     "name": "stdout",
     "output_type": "stream",
     "text": [
      "16/16 [==============================] - 7s 398ms/step\n"
     ]
    },
    {
     "data": {
      "text/plain": [
       "array([[1.0000000e+00, 4.0983155e-37],\n",
       "       [1.0000000e+00, 0.0000000e+00],\n",
       "       [1.0000000e+00, 0.0000000e+00],\n",
       "       ...,\n",
       "       [5.3081809e-25, 1.0000000e+00],\n",
       "       [9.0006737e-31, 1.0000000e+00],\n",
       "       [3.0174775e-27, 1.0000000e+00]], dtype=float32)"
      ]
     },
     "execution_count": 14,
     "metadata": {},
     "output_type": "execute_result"
    }
   ],
   "source": [
    "raw_preds = loaded_model.predict(test_generator)\n",
    "raw_preds"
   ]
  },
  {
   "cell_type": "markdown",
   "id": "bd49bf0b",
   "metadata": {
    "papermill": {
     "duration": 0.024769,
     "end_time": "2023-06-16T10:33:37.108872",
     "exception": false,
     "start_time": "2023-06-16T10:33:37.084103",
     "status": "completed"
    },
    "tags": []
   },
   "source": [
    "<a id=\"4.1\"></a>\n",
    "## <span style=\"color: YELLOW;\"> 4.2 - CONVERTING THE PREDICTED VALUES INTO CATS & DOGS CLASSES. </span>\n"
   ]
  },
  {
   "cell_type": "code",
   "execution_count": 15,
   "id": "52abd25d",
   "metadata": {
    "execution": {
     "iopub.execute_input": "2023-06-16T10:33:37.159442Z",
     "iopub.status.busy": "2023-06-16T10:33:37.158605Z",
     "iopub.status.idle": "2023-06-16T10:33:37.165342Z",
     "shell.execute_reply": "2023-06-16T10:33:37.164425Z"
    },
    "papermill": {
     "duration": 0.034161,
     "end_time": "2023-06-16T10:33:37.167468",
     "exception": false,
     "start_time": "2023-06-16T10:33:37.133307",
     "status": "completed"
    },
    "tags": []
   },
   "outputs": [],
   "source": [
    "import numpy as np\n",
    "\n",
    "# Find the indices of the maximum values along axis 1 in the 'raw_preds' array\n",
    "np.argmax(raw_preds, axis=1)\n",
    "\n",
    "def predict(model=loaded_model, generator=test_generator):\n",
    "    # Make predictions using the 'model' on the data provided by the 'generator'\n",
    "    prediction_probs = model.predict(generator)\n",
    "    \n",
    "    # Find the indices of the maximum values along axis 1 in the prediction probabilities\n",
    "    max_indices = np.argmax(prediction_probs, axis=1).tolist()\n",
    "    \n",
    "    # Create a list of class labels based on the max indices:\n",
    "    # Assign \"Cat\" if the index is 0, and \"Dog\" if the index is 1\n",
    "    class_labels = [\"Cat\" if i == 0 else \"Dog\" for i in max_indices]\n",
    "    \n",
    "    # Return the list of class labels\n",
    "    return class_labels\n"
   ]
  },
  {
   "cell_type": "markdown",
   "id": "f214d343",
   "metadata": {
    "papermill": {
     "duration": 0.023955,
     "end_time": "2023-06-16T10:33:37.217126",
     "exception": false,
     "start_time": "2023-06-16T10:33:37.193171",
     "status": "completed"
    },
    "tags": []
   },
   "source": [
    "<a id=\"4.3\"></a>\n",
    "\n",
    "## <span style=\"color: YELLOW;\">4.3 - PREDICTION OF VALUES BASED ON CLASSES."
   ]
  },
  {
   "cell_type": "code",
   "execution_count": 16,
   "id": "0d3c0ac8",
   "metadata": {
    "execution": {
     "iopub.execute_input": "2023-06-16T10:33:37.267426Z",
     "iopub.status.busy": "2023-06-16T10:33:37.266642Z",
     "iopub.status.idle": "2023-06-16T10:33:41.821662Z",
     "shell.execute_reply": "2023-06-16T10:33:41.820659Z"
    },
    "papermill": {
     "duration": 4.582634,
     "end_time": "2023-06-16T10:33:41.824041",
     "exception": false,
     "start_time": "2023-06-16T10:33:37.241407",
     "status": "completed"
    },
    "tags": []
   },
   "outputs": [
    {
     "name": "stdout",
     "output_type": "stream",
     "text": [
      "16/16 [==============================] - 4s 254ms/step\n"
     ]
    },
    {
     "data": {
      "text/plain": [
       "['Cat',\n",
       " 'Cat',\n",
       " 'Cat',\n",
       " 'Cat',\n",
       " 'Cat',\n",
       " 'Cat',\n",
       " 'Cat',\n",
       " 'Cat',\n",
       " 'Cat',\n",
       " 'Cat',\n",
       " 'Cat',\n",
       " 'Cat',\n",
       " 'Cat',\n",
       " 'Cat',\n",
       " 'Cat',\n",
       " 'Cat',\n",
       " 'Cat',\n",
       " 'Cat',\n",
       " 'Cat',\n",
       " 'Cat',\n",
       " 'Cat',\n",
       " 'Cat',\n",
       " 'Cat',\n",
       " 'Cat',\n",
       " 'Cat',\n",
       " 'Cat',\n",
       " 'Cat',\n",
       " 'Cat',\n",
       " 'Cat',\n",
       " 'Cat',\n",
       " 'Cat',\n",
       " 'Cat',\n",
       " 'Cat',\n",
       " 'Cat',\n",
       " 'Cat',\n",
       " 'Cat',\n",
       " 'Cat',\n",
       " 'Cat',\n",
       " 'Dog',\n",
       " 'Cat',\n",
       " 'Cat',\n",
       " 'Cat',\n",
       " 'Cat',\n",
       " 'Cat',\n",
       " 'Cat',\n",
       " 'Cat',\n",
       " 'Cat',\n",
       " 'Cat',\n",
       " 'Cat',\n",
       " 'Cat',\n",
       " 'Cat',\n",
       " 'Cat',\n",
       " 'Cat',\n",
       " 'Cat',\n",
       " 'Cat',\n",
       " 'Cat',\n",
       " 'Cat',\n",
       " 'Cat',\n",
       " 'Cat',\n",
       " 'Cat',\n",
       " 'Cat',\n",
       " 'Cat',\n",
       " 'Cat',\n",
       " 'Cat',\n",
       " 'Cat',\n",
       " 'Cat',\n",
       " 'Cat',\n",
       " 'Cat',\n",
       " 'Cat',\n",
       " 'Cat',\n",
       " 'Cat',\n",
       " 'Cat',\n",
       " 'Cat',\n",
       " 'Cat',\n",
       " 'Cat',\n",
       " 'Cat',\n",
       " 'Cat',\n",
       " 'Cat',\n",
       " 'Cat',\n",
       " 'Cat',\n",
       " 'Cat',\n",
       " 'Cat',\n",
       " 'Cat',\n",
       " 'Cat',\n",
       " 'Cat',\n",
       " 'Cat',\n",
       " 'Cat',\n",
       " 'Cat',\n",
       " 'Cat',\n",
       " 'Cat',\n",
       " 'Cat',\n",
       " 'Cat',\n",
       " 'Cat',\n",
       " 'Cat',\n",
       " 'Cat',\n",
       " 'Cat',\n",
       " 'Cat',\n",
       " 'Cat',\n",
       " 'Cat',\n",
       " 'Cat',\n",
       " 'Cat',\n",
       " 'Cat',\n",
       " 'Cat',\n",
       " 'Cat',\n",
       " 'Cat',\n",
       " 'Cat',\n",
       " 'Cat',\n",
       " 'Cat',\n",
       " 'Cat',\n",
       " 'Cat',\n",
       " 'Cat',\n",
       " 'Cat',\n",
       " 'Dog',\n",
       " 'Cat',\n",
       " 'Cat',\n",
       " 'Cat',\n",
       " 'Cat',\n",
       " 'Cat',\n",
       " 'Cat',\n",
       " 'Cat',\n",
       " 'Cat',\n",
       " 'Cat',\n",
       " 'Cat',\n",
       " 'Cat',\n",
       " 'Cat',\n",
       " 'Cat',\n",
       " 'Cat',\n",
       " 'Cat',\n",
       " 'Cat',\n",
       " 'Cat',\n",
       " 'Cat',\n",
       " 'Cat',\n",
       " 'Cat',\n",
       " 'Cat',\n",
       " 'Cat',\n",
       " 'Cat',\n",
       " 'Cat',\n",
       " 'Cat',\n",
       " 'Cat',\n",
       " 'Cat',\n",
       " 'Cat',\n",
       " 'Cat',\n",
       " 'Cat',\n",
       " 'Cat',\n",
       " 'Cat',\n",
       " 'Cat',\n",
       " 'Cat',\n",
       " 'Cat',\n",
       " 'Cat',\n",
       " 'Cat',\n",
       " 'Cat',\n",
       " 'Cat',\n",
       " 'Cat',\n",
       " 'Cat',\n",
       " 'Cat',\n",
       " 'Cat',\n",
       " 'Cat',\n",
       " 'Cat',\n",
       " 'Cat',\n",
       " 'Cat',\n",
       " 'Cat',\n",
       " 'Cat',\n",
       " 'Cat',\n",
       " 'Cat',\n",
       " 'Cat',\n",
       " 'Cat',\n",
       " 'Cat',\n",
       " 'Cat',\n",
       " 'Cat',\n",
       " 'Cat',\n",
       " 'Cat',\n",
       " 'Cat',\n",
       " 'Cat',\n",
       " 'Cat',\n",
       " 'Cat',\n",
       " 'Cat',\n",
       " 'Cat',\n",
       " 'Cat',\n",
       " 'Cat',\n",
       " 'Cat',\n",
       " 'Cat',\n",
       " 'Cat',\n",
       " 'Cat',\n",
       " 'Cat',\n",
       " 'Cat',\n",
       " 'Cat',\n",
       " 'Cat',\n",
       " 'Cat',\n",
       " 'Cat',\n",
       " 'Cat',\n",
       " 'Cat',\n",
       " 'Cat',\n",
       " 'Cat',\n",
       " 'Cat',\n",
       " 'Cat',\n",
       " 'Cat',\n",
       " 'Cat',\n",
       " 'Cat',\n",
       " 'Cat',\n",
       " 'Cat',\n",
       " 'Cat',\n",
       " 'Cat',\n",
       " 'Cat',\n",
       " 'Cat',\n",
       " 'Cat',\n",
       " 'Cat',\n",
       " 'Cat',\n",
       " 'Cat',\n",
       " 'Cat',\n",
       " 'Cat',\n",
       " 'Cat',\n",
       " 'Cat',\n",
       " 'Cat',\n",
       " 'Cat',\n",
       " 'Cat',\n",
       " 'Cat',\n",
       " 'Cat',\n",
       " 'Cat',\n",
       " 'Cat',\n",
       " 'Cat',\n",
       " 'Cat',\n",
       " 'Cat',\n",
       " 'Cat',\n",
       " 'Cat',\n",
       " 'Cat',\n",
       " 'Cat',\n",
       " 'Cat',\n",
       " 'Cat',\n",
       " 'Cat',\n",
       " 'Cat',\n",
       " 'Cat',\n",
       " 'Cat',\n",
       " 'Cat',\n",
       " 'Cat',\n",
       " 'Cat',\n",
       " 'Cat',\n",
       " 'Cat',\n",
       " 'Cat',\n",
       " 'Cat',\n",
       " 'Cat',\n",
       " 'Cat',\n",
       " 'Cat',\n",
       " 'Cat',\n",
       " 'Cat',\n",
       " 'Cat',\n",
       " 'Cat',\n",
       " 'Cat',\n",
       " 'Cat',\n",
       " 'Cat',\n",
       " 'Cat',\n",
       " 'Cat',\n",
       " 'Cat',\n",
       " 'Cat',\n",
       " 'Cat',\n",
       " 'Cat',\n",
       " 'Cat',\n",
       " 'Cat',\n",
       " 'Cat',\n",
       " 'Cat',\n",
       " 'Cat',\n",
       " 'Cat',\n",
       " 'Cat',\n",
       " 'Cat',\n",
       " 'Cat',\n",
       " 'Cat',\n",
       " 'Cat',\n",
       " 'Cat',\n",
       " 'Cat',\n",
       " 'Cat',\n",
       " 'Cat',\n",
       " 'Cat',\n",
       " 'Cat',\n",
       " 'Cat',\n",
       " 'Cat',\n",
       " 'Cat',\n",
       " 'Cat',\n",
       " 'Cat',\n",
       " 'Cat',\n",
       " 'Cat',\n",
       " 'Cat',\n",
       " 'Cat',\n",
       " 'Cat',\n",
       " 'Cat',\n",
       " 'Cat',\n",
       " 'Cat',\n",
       " 'Cat',\n",
       " 'Cat',\n",
       " 'Cat',\n",
       " 'Cat',\n",
       " 'Cat',\n",
       " 'Cat',\n",
       " 'Cat',\n",
       " 'Cat',\n",
       " 'Cat',\n",
       " 'Cat',\n",
       " 'Cat',\n",
       " 'Cat',\n",
       " 'Cat',\n",
       " 'Cat',\n",
       " 'Cat',\n",
       " 'Cat',\n",
       " 'Cat',\n",
       " 'Cat',\n",
       " 'Cat',\n",
       " 'Cat',\n",
       " 'Cat',\n",
       " 'Cat',\n",
       " 'Cat',\n",
       " 'Cat',\n",
       " 'Cat',\n",
       " 'Cat',\n",
       " 'Cat',\n",
       " 'Cat',\n",
       " 'Cat',\n",
       " 'Cat',\n",
       " 'Cat',\n",
       " 'Cat',\n",
       " 'Cat',\n",
       " 'Cat',\n",
       " 'Cat',\n",
       " 'Cat',\n",
       " 'Cat',\n",
       " 'Cat',\n",
       " 'Cat',\n",
       " 'Cat',\n",
       " 'Cat',\n",
       " 'Cat',\n",
       " 'Cat',\n",
       " 'Cat',\n",
       " 'Cat',\n",
       " 'Cat',\n",
       " 'Cat',\n",
       " 'Cat',\n",
       " 'Cat',\n",
       " 'Cat',\n",
       " 'Cat',\n",
       " 'Cat',\n",
       " 'Cat',\n",
       " 'Cat',\n",
       " 'Cat',\n",
       " 'Cat',\n",
       " 'Cat',\n",
       " 'Cat',\n",
       " 'Cat',\n",
       " 'Dog',\n",
       " 'Cat',\n",
       " 'Cat',\n",
       " 'Cat',\n",
       " 'Cat',\n",
       " 'Cat',\n",
       " 'Cat',\n",
       " 'Cat',\n",
       " 'Cat',\n",
       " 'Cat',\n",
       " 'Cat',\n",
       " 'Cat',\n",
       " 'Cat',\n",
       " 'Cat',\n",
       " 'Cat',\n",
       " 'Cat',\n",
       " 'Cat',\n",
       " 'Cat',\n",
       " 'Cat',\n",
       " 'Cat',\n",
       " 'Cat',\n",
       " 'Cat',\n",
       " 'Cat',\n",
       " 'Cat',\n",
       " 'Cat',\n",
       " 'Cat',\n",
       " 'Cat',\n",
       " 'Cat',\n",
       " 'Cat',\n",
       " 'Cat',\n",
       " 'Cat',\n",
       " 'Cat',\n",
       " 'Cat',\n",
       " 'Cat',\n",
       " 'Cat',\n",
       " 'Cat',\n",
       " 'Cat',\n",
       " 'Cat',\n",
       " 'Cat',\n",
       " 'Cat',\n",
       " 'Cat',\n",
       " 'Cat',\n",
       " 'Cat',\n",
       " 'Cat',\n",
       " 'Cat',\n",
       " 'Cat',\n",
       " 'Cat',\n",
       " 'Cat',\n",
       " 'Cat',\n",
       " 'Cat',\n",
       " 'Cat',\n",
       " 'Cat',\n",
       " 'Cat',\n",
       " 'Cat',\n",
       " 'Cat',\n",
       " 'Cat',\n",
       " 'Cat',\n",
       " 'Cat',\n",
       " 'Cat',\n",
       " 'Cat',\n",
       " 'Cat',\n",
       " 'Cat',\n",
       " 'Cat',\n",
       " 'Cat',\n",
       " 'Cat',\n",
       " 'Cat',\n",
       " 'Cat',\n",
       " 'Cat',\n",
       " 'Cat',\n",
       " 'Cat',\n",
       " 'Cat',\n",
       " 'Cat',\n",
       " 'Cat',\n",
       " 'Cat',\n",
       " 'Cat',\n",
       " 'Cat',\n",
       " 'Cat',\n",
       " 'Cat',\n",
       " 'Cat',\n",
       " 'Cat',\n",
       " 'Cat',\n",
       " 'Cat',\n",
       " 'Cat',\n",
       " 'Cat',\n",
       " 'Cat',\n",
       " 'Cat',\n",
       " 'Cat',\n",
       " 'Cat',\n",
       " 'Cat',\n",
       " 'Cat',\n",
       " 'Cat',\n",
       " 'Cat',\n",
       " 'Cat',\n",
       " 'Cat',\n",
       " 'Cat',\n",
       " 'Cat',\n",
       " 'Cat',\n",
       " 'Cat',\n",
       " 'Cat',\n",
       " 'Cat',\n",
       " 'Cat',\n",
       " 'Cat',\n",
       " 'Cat',\n",
       " 'Cat',\n",
       " 'Cat',\n",
       " 'Cat',\n",
       " 'Cat',\n",
       " 'Cat',\n",
       " 'Cat',\n",
       " 'Cat',\n",
       " 'Cat',\n",
       " 'Cat',\n",
       " 'Cat',\n",
       " 'Cat',\n",
       " 'Cat',\n",
       " 'Cat',\n",
       " 'Cat',\n",
       " 'Cat',\n",
       " 'Cat',\n",
       " 'Cat',\n",
       " 'Cat',\n",
       " 'Cat',\n",
       " 'Cat',\n",
       " 'Cat',\n",
       " 'Cat',\n",
       " 'Cat',\n",
       " 'Cat',\n",
       " 'Cat',\n",
       " 'Cat',\n",
       " 'Cat',\n",
       " 'Cat',\n",
       " 'Cat',\n",
       " 'Cat',\n",
       " 'Cat',\n",
       " 'Cat',\n",
       " 'Cat',\n",
       " 'Cat',\n",
       " 'Cat',\n",
       " 'Cat',\n",
       " 'Cat',\n",
       " 'Cat',\n",
       " 'Cat',\n",
       " 'Cat',\n",
       " 'Cat',\n",
       " 'Cat',\n",
       " 'Cat',\n",
       " 'Cat',\n",
       " 'Cat',\n",
       " 'Cat',\n",
       " 'Cat',\n",
       " 'Cat',\n",
       " 'Cat',\n",
       " 'Cat',\n",
       " 'Cat',\n",
       " 'Cat',\n",
       " 'Cat',\n",
       " 'Cat',\n",
       " 'Cat',\n",
       " 'Cat',\n",
       " 'Cat',\n",
       " 'Cat',\n",
       " 'Dog',\n",
       " 'Dog',\n",
       " 'Dog',\n",
       " 'Dog',\n",
       " 'Dog',\n",
       " 'Dog',\n",
       " 'Dog',\n",
       " 'Dog',\n",
       " 'Dog',\n",
       " 'Dog',\n",
       " 'Dog',\n",
       " 'Dog',\n",
       " 'Dog',\n",
       " 'Dog',\n",
       " 'Dog',\n",
       " 'Dog',\n",
       " 'Dog',\n",
       " 'Dog',\n",
       " 'Dog',\n",
       " 'Dog',\n",
       " 'Dog',\n",
       " 'Dog',\n",
       " 'Dog',\n",
       " 'Dog',\n",
       " 'Dog',\n",
       " 'Dog',\n",
       " 'Dog',\n",
       " 'Dog',\n",
       " 'Dog',\n",
       " 'Dog',\n",
       " 'Dog',\n",
       " 'Dog',\n",
       " 'Dog',\n",
       " 'Dog',\n",
       " 'Dog',\n",
       " 'Dog',\n",
       " 'Dog',\n",
       " 'Dog',\n",
       " 'Dog',\n",
       " 'Dog',\n",
       " 'Dog',\n",
       " 'Dog',\n",
       " 'Dog',\n",
       " 'Dog',\n",
       " 'Dog',\n",
       " 'Dog',\n",
       " 'Dog',\n",
       " 'Dog',\n",
       " 'Dog',\n",
       " 'Dog',\n",
       " 'Dog',\n",
       " 'Dog',\n",
       " 'Dog',\n",
       " 'Dog',\n",
       " 'Dog',\n",
       " 'Dog',\n",
       " 'Dog',\n",
       " 'Dog',\n",
       " 'Dog',\n",
       " 'Dog',\n",
       " 'Dog',\n",
       " 'Dog',\n",
       " 'Dog',\n",
       " 'Dog',\n",
       " 'Dog',\n",
       " 'Dog',\n",
       " 'Dog',\n",
       " 'Dog',\n",
       " 'Dog',\n",
       " 'Dog',\n",
       " 'Dog',\n",
       " 'Dog',\n",
       " 'Dog',\n",
       " 'Dog',\n",
       " 'Dog',\n",
       " 'Dog',\n",
       " 'Dog',\n",
       " 'Dog',\n",
       " 'Dog',\n",
       " 'Dog',\n",
       " 'Dog',\n",
       " 'Dog',\n",
       " 'Dog',\n",
       " 'Dog',\n",
       " 'Dog',\n",
       " 'Dog',\n",
       " 'Dog',\n",
       " 'Dog',\n",
       " 'Dog',\n",
       " 'Dog',\n",
       " 'Dog',\n",
       " 'Cat',\n",
       " 'Dog',\n",
       " 'Dog',\n",
       " 'Dog',\n",
       " 'Dog',\n",
       " 'Dog',\n",
       " 'Dog',\n",
       " 'Dog',\n",
       " 'Dog',\n",
       " 'Dog',\n",
       " 'Dog',\n",
       " 'Dog',\n",
       " 'Dog',\n",
       " 'Dog',\n",
       " 'Dog',\n",
       " 'Dog',\n",
       " 'Dog',\n",
       " 'Dog',\n",
       " 'Dog',\n",
       " 'Dog',\n",
       " 'Dog',\n",
       " 'Dog',\n",
       " 'Dog',\n",
       " 'Dog',\n",
       " 'Dog',\n",
       " 'Dog',\n",
       " 'Dog',\n",
       " 'Dog',\n",
       " 'Dog',\n",
       " 'Dog',\n",
       " 'Dog',\n",
       " 'Dog',\n",
       " 'Dog',\n",
       " 'Dog',\n",
       " 'Dog',\n",
       " 'Dog',\n",
       " 'Dog',\n",
       " 'Dog',\n",
       " 'Dog',\n",
       " 'Dog',\n",
       " 'Dog',\n",
       " 'Dog',\n",
       " 'Dog',\n",
       " 'Dog',\n",
       " 'Dog',\n",
       " 'Dog',\n",
       " 'Dog',\n",
       " 'Dog',\n",
       " 'Dog',\n",
       " 'Dog',\n",
       " 'Dog',\n",
       " 'Dog',\n",
       " 'Dog',\n",
       " 'Dog',\n",
       " 'Dog',\n",
       " 'Dog',\n",
       " 'Dog',\n",
       " 'Dog',\n",
       " 'Dog',\n",
       " 'Dog',\n",
       " 'Dog',\n",
       " 'Dog',\n",
       " 'Dog',\n",
       " 'Dog',\n",
       " 'Dog',\n",
       " 'Dog',\n",
       " 'Dog',\n",
       " 'Dog',\n",
       " 'Dog',\n",
       " 'Dog',\n",
       " 'Dog',\n",
       " 'Dog',\n",
       " 'Dog',\n",
       " 'Dog',\n",
       " 'Dog',\n",
       " 'Dog',\n",
       " 'Dog',\n",
       " 'Cat',\n",
       " 'Dog',\n",
       " 'Dog',\n",
       " 'Dog',\n",
       " 'Dog',\n",
       " 'Dog',\n",
       " 'Dog',\n",
       " 'Dog',\n",
       " 'Dog',\n",
       " 'Dog',\n",
       " 'Dog',\n",
       " 'Dog',\n",
       " 'Dog',\n",
       " 'Dog',\n",
       " 'Dog',\n",
       " 'Dog',\n",
       " 'Dog',\n",
       " 'Dog',\n",
       " 'Dog',\n",
       " 'Dog',\n",
       " 'Dog',\n",
       " 'Dog',\n",
       " 'Dog',\n",
       " 'Dog',\n",
       " 'Dog',\n",
       " 'Dog',\n",
       " 'Dog',\n",
       " 'Dog',\n",
       " 'Dog',\n",
       " 'Dog',\n",
       " 'Dog',\n",
       " 'Dog',\n",
       " 'Dog',\n",
       " 'Dog',\n",
       " 'Dog',\n",
       " 'Dog',\n",
       " 'Dog',\n",
       " 'Dog',\n",
       " 'Dog',\n",
       " 'Dog',\n",
       " 'Dog',\n",
       " 'Dog',\n",
       " 'Dog',\n",
       " 'Dog',\n",
       " 'Dog',\n",
       " 'Dog',\n",
       " 'Dog',\n",
       " 'Dog',\n",
       " 'Dog',\n",
       " 'Dog',\n",
       " 'Dog',\n",
       " 'Dog',\n",
       " 'Dog',\n",
       " 'Dog',\n",
       " 'Dog',\n",
       " 'Dog',\n",
       " 'Dog',\n",
       " 'Dog',\n",
       " 'Dog',\n",
       " 'Dog',\n",
       " 'Dog',\n",
       " 'Dog',\n",
       " 'Dog',\n",
       " 'Dog',\n",
       " 'Dog',\n",
       " 'Dog',\n",
       " 'Dog',\n",
       " 'Dog',\n",
       " 'Dog',\n",
       " 'Dog',\n",
       " 'Dog',\n",
       " 'Dog',\n",
       " 'Dog',\n",
       " 'Dog',\n",
       " 'Dog',\n",
       " 'Dog',\n",
       " 'Dog',\n",
       " 'Dog',\n",
       " 'Dog',\n",
       " 'Dog',\n",
       " 'Dog',\n",
       " 'Dog',\n",
       " 'Dog',\n",
       " 'Dog',\n",
       " 'Dog',\n",
       " 'Dog',\n",
       " 'Dog',\n",
       " 'Dog',\n",
       " 'Dog',\n",
       " 'Dog',\n",
       " 'Dog',\n",
       " 'Dog',\n",
       " 'Dog',\n",
       " 'Dog',\n",
       " 'Dog',\n",
       " 'Dog',\n",
       " 'Dog',\n",
       " 'Dog',\n",
       " 'Dog',\n",
       " 'Dog',\n",
       " 'Dog',\n",
       " 'Dog',\n",
       " 'Dog',\n",
       " 'Dog',\n",
       " 'Dog',\n",
       " 'Dog',\n",
       " 'Dog',\n",
       " 'Dog',\n",
       " 'Dog',\n",
       " 'Dog',\n",
       " 'Dog',\n",
       " 'Dog',\n",
       " 'Dog',\n",
       " 'Dog',\n",
       " 'Dog',\n",
       " 'Dog',\n",
       " 'Dog',\n",
       " 'Dog',\n",
       " 'Dog',\n",
       " 'Dog',\n",
       " 'Dog',\n",
       " 'Dog',\n",
       " 'Dog',\n",
       " 'Dog',\n",
       " 'Dog',\n",
       " 'Dog',\n",
       " 'Dog',\n",
       " 'Dog',\n",
       " 'Dog',\n",
       " 'Dog',\n",
       " 'Dog',\n",
       " 'Dog',\n",
       " 'Dog',\n",
       " 'Dog',\n",
       " 'Dog',\n",
       " 'Dog',\n",
       " 'Dog',\n",
       " 'Dog',\n",
       " 'Dog',\n",
       " 'Dog',\n",
       " 'Dog',\n",
       " 'Dog',\n",
       " 'Dog',\n",
       " 'Dog',\n",
       " 'Dog',\n",
       " 'Dog',\n",
       " 'Dog',\n",
       " 'Dog',\n",
       " 'Dog',\n",
       " 'Dog',\n",
       " 'Dog',\n",
       " 'Dog',\n",
       " 'Dog',\n",
       " 'Dog',\n",
       " 'Dog',\n",
       " 'Dog',\n",
       " 'Dog',\n",
       " 'Dog',\n",
       " 'Dog',\n",
       " 'Dog',\n",
       " 'Dog',\n",
       " 'Dog',\n",
       " 'Dog',\n",
       " 'Dog',\n",
       " 'Dog',\n",
       " 'Dog',\n",
       " 'Dog',\n",
       " 'Dog',\n",
       " 'Dog',\n",
       " 'Dog',\n",
       " 'Dog',\n",
       " 'Dog',\n",
       " 'Dog',\n",
       " 'Dog',\n",
       " 'Dog',\n",
       " 'Dog',\n",
       " 'Dog',\n",
       " 'Dog',\n",
       " 'Dog',\n",
       " 'Dog',\n",
       " 'Dog',\n",
       " 'Dog',\n",
       " 'Dog',\n",
       " 'Dog',\n",
       " 'Dog',\n",
       " 'Dog',\n",
       " 'Dog',\n",
       " 'Dog',\n",
       " 'Dog',\n",
       " 'Dog',\n",
       " 'Dog',\n",
       " 'Dog',\n",
       " 'Dog',\n",
       " 'Dog',\n",
       " 'Dog',\n",
       " 'Dog',\n",
       " 'Dog',\n",
       " 'Dog',\n",
       " 'Dog',\n",
       " 'Dog',\n",
       " 'Dog',\n",
       " 'Cat',\n",
       " 'Dog',\n",
       " 'Dog',\n",
       " 'Dog',\n",
       " 'Dog',\n",
       " 'Dog',\n",
       " 'Dog',\n",
       " 'Dog',\n",
       " 'Dog',\n",
       " 'Dog',\n",
       " 'Dog',\n",
       " 'Dog',\n",
       " 'Dog',\n",
       " 'Dog',\n",
       " 'Dog',\n",
       " 'Dog',\n",
       " 'Dog',\n",
       " 'Dog',\n",
       " 'Dog',\n",
       " 'Dog',\n",
       " 'Dog',\n",
       " 'Dog',\n",
       " 'Dog',\n",
       " 'Dog',\n",
       " 'Dog',\n",
       " 'Dog',\n",
       " 'Dog',\n",
       " 'Dog',\n",
       " 'Dog',\n",
       " 'Dog',\n",
       " 'Cat',\n",
       " 'Dog',\n",
       " 'Dog',\n",
       " 'Dog',\n",
       " 'Dog',\n",
       " 'Dog',\n",
       " 'Dog',\n",
       " 'Dog',\n",
       " 'Dog',\n",
       " 'Dog',\n",
       " 'Dog',\n",
       " 'Dog',\n",
       " 'Dog',\n",
       " 'Dog',\n",
       " 'Dog',\n",
       " 'Dog',\n",
       " 'Dog',\n",
       " 'Dog',\n",
       " 'Dog',\n",
       " 'Dog',\n",
       " 'Dog',\n",
       " 'Dog',\n",
       " 'Dog',\n",
       " 'Dog',\n",
       " 'Dog',\n",
       " 'Dog',\n",
       " 'Dog',\n",
       " 'Dog',\n",
       " 'Dog',\n",
       " 'Dog',\n",
       " 'Dog',\n",
       " 'Dog',\n",
       " 'Dog',\n",
       " 'Dog',\n",
       " 'Dog',\n",
       " 'Dog',\n",
       " 'Dog',\n",
       " 'Dog',\n",
       " 'Dog',\n",
       " 'Dog',\n",
       " 'Dog',\n",
       " 'Dog',\n",
       " 'Dog',\n",
       " 'Dog',\n",
       " 'Dog',\n",
       " 'Dog',\n",
       " 'Dog',\n",
       " 'Dog',\n",
       " 'Dog',\n",
       " 'Dog',\n",
       " 'Dog',\n",
       " 'Dog',\n",
       " 'Dog',\n",
       " 'Dog',\n",
       " 'Dog',\n",
       " 'Dog',\n",
       " 'Dog',\n",
       " 'Dog',\n",
       " 'Dog',\n",
       " 'Dog',\n",
       " 'Dog',\n",
       " 'Dog',\n",
       " 'Dog',\n",
       " 'Dog',\n",
       " 'Dog',\n",
       " 'Dog',\n",
       " 'Dog',\n",
       " 'Dog',\n",
       " 'Dog',\n",
       " 'Dog',\n",
       " 'Dog',\n",
       " 'Dog',\n",
       " 'Dog',\n",
       " 'Dog',\n",
       " 'Dog',\n",
       " 'Dog',\n",
       " 'Dog',\n",
       " 'Dog',\n",
       " 'Dog',\n",
       " 'Dog',\n",
       " 'Dog',\n",
       " 'Dog',\n",
       " 'Dog',\n",
       " 'Dog',\n",
       " 'Dog',\n",
       " 'Dog',\n",
       " 'Dog',\n",
       " 'Dog',\n",
       " 'Dog',\n",
       " 'Dog',\n",
       " 'Dog',\n",
       " 'Dog',\n",
       " 'Dog',\n",
       " 'Dog',\n",
       " 'Dog',\n",
       " 'Dog',\n",
       " ...]"
      ]
     },
     "execution_count": 16,
     "metadata": {},
     "output_type": "execute_result"
    }
   ],
   "source": [
    "predict()"
   ]
  },
  {
   "cell_type": "markdown",
   "id": "19f2c0d2",
   "metadata": {
    "papermill": {
     "duration": 0.026611,
     "end_time": "2023-06-16T10:33:41.879901",
     "exception": false,
     "start_time": "2023-06-16T10:33:41.853290",
     "status": "completed"
    },
    "tags": []
   },
   "source": [
    "<a id=\"5\"></a>\n",
    "# <div style= \"font-family: Times New Roman; font-weight:bold; letter-spacing: 0px; color:WHITE; font-size:120%; text-align:left;padding:3.0px; background: #FF4550; border-bottom: 8px solid WHITE\" >5 - MODEL EVALUATION <br><div>  "
   ]
  },
  {
   "cell_type": "markdown",
   "id": "5a7c92eb",
   "metadata": {
    "papermill": {
     "duration": 0.026197,
     "end_time": "2023-06-16T10:33:41.932492",
     "exception": false,
     "start_time": "2023-06-16T10:33:41.906295",
     "status": "completed"
    },
    "tags": []
   },
   "source": [
    "<a id=\"5.1\"></a>\n",
    "## <span style=\"color: YELLOW;\"> 5.1 - CHECKING THE LENGTH OF OUR PREDICTED VALUES."
   ]
  },
  {
   "cell_type": "code",
   "execution_count": 17,
   "id": "0c7f9828",
   "metadata": {
    "execution": {
     "iopub.execute_input": "2023-06-16T10:33:41.986830Z",
     "iopub.status.busy": "2023-06-16T10:33:41.986500Z",
     "iopub.status.idle": "2023-06-16T10:33:46.518112Z",
     "shell.execute_reply": "2023-06-16T10:33:46.517062Z"
    },
    "papermill": {
     "duration": 4.561609,
     "end_time": "2023-06-16T10:33:46.520394",
     "exception": false,
     "start_time": "2023-06-16T10:33:41.958785",
     "status": "completed"
    },
    "tags": []
   },
   "outputs": [
    {
     "name": "stdout",
     "output_type": "stream",
     "text": [
      "16/16 [==============================] - 4s 254ms/step\n"
     ]
    },
    {
     "data": {
      "text/plain": [
       "1010"
      ]
     },
     "execution_count": 17,
     "metadata": {},
     "output_type": "execute_result"
    }
   ],
   "source": [
    "predicted_labels = predict()\n",
    "len(predicted_labels)"
   ]
  },
  {
   "cell_type": "markdown",
   "id": "f3eabb0f",
   "metadata": {
    "papermill": {
     "duration": 0.028222,
     "end_time": "2023-06-16T10:33:46.578535",
     "exception": false,
     "start_time": "2023-06-16T10:33:46.550313",
     "status": "completed"
    },
    "tags": []
   },
   "source": [
    "<a id=\"5.2\"></a>\n",
    "## <span style=\"color: YELLOW;\"> 5.2 - Calculating the length of true_labels"
   ]
  },
  {
   "cell_type": "code",
   "execution_count": 18,
   "id": "cb8c49e0",
   "metadata": {
    "execution": {
     "iopub.execute_input": "2023-06-16T10:33:46.637551Z",
     "iopub.status.busy": "2023-06-16T10:33:46.636600Z",
     "iopub.status.idle": "2023-06-16T10:33:46.643879Z",
     "shell.execute_reply": "2023-06-16T10:33:46.642904Z"
    },
    "papermill": {
     "duration": 0.039128,
     "end_time": "2023-06-16T10:33:46.645858",
     "exception": false,
     "start_time": "2023-06-16T10:33:46.606730",
     "status": "completed"
    },
    "tags": []
   },
   "outputs": [
    {
     "data": {
      "text/plain": [
       "1010"
      ]
     },
     "execution_count": 18,
     "metadata": {},
     "output_type": "execute_result"
    }
   ],
   "source": [
    "true_labels = [\"Cat\" for i in range(505)] + [\"Dog\" for i in range(505)]\n",
    "len(true_labels)"
   ]
  },
  {
   "cell_type": "markdown",
   "id": "9fe945bd",
   "metadata": {
    "papermill": {
     "duration": 0.028159,
     "end_time": "2023-06-16T10:33:46.702022",
     "exception": false,
     "start_time": "2023-06-16T10:33:46.673863",
     "status": "completed"
    },
    "tags": []
   },
   "source": [
    "<a id=\"5.3\"></a>\n",
    "## <span style=\"color: YELLOW;\">5.3  - FUNCTION TO CHECK ACCURACY OF OUR MODEL . "
   ]
  },
  {
   "cell_type": "code",
   "execution_count": 19,
   "id": "16b72754",
   "metadata": {
    "execution": {
     "iopub.execute_input": "2023-06-16T10:33:46.765473Z",
     "iopub.status.busy": "2023-06-16T10:33:46.764436Z",
     "iopub.status.idle": "2023-06-16T10:33:46.771026Z",
     "shell.execute_reply": "2023-06-16T10:33:46.770193Z"
    },
    "papermill": {
     "duration": 0.038789,
     "end_time": "2023-06-16T10:33:46.772970",
     "exception": false,
     "start_time": "2023-06-16T10:33:46.734181",
     "status": "completed"
    },
    "tags": []
   },
   "outputs": [],
   "source": [
    "def get_accuracy(predicted_labels=predicted_labels, true_labels=true_labels):\n",
    "    # Initialize a counter to keep track of the number of correct predictions\n",
    "    correct_amount = 0\n",
    "    \n",
    "    # Iterate through each predicted label and true label using zip\n",
    "    for p_label, t_label in zip(predicted_labels, true_labels):\n",
    "        # Check if the predicted label matches the true label\n",
    "        if p_label == t_label:\n",
    "            # If they match, increment the correct prediction counter\n",
    "            correct_amount += 1\n",
    "    \n",
    "    # Calculate the accuracy by dividing the correct predictions by the total number of predicted labels\n",
    "    accuracy = correct_amount / len(predicted_labels)\n",
    "    \n",
    "    # Return the accuracy value\n",
    "    return accuracy\n"
   ]
  },
  {
   "cell_type": "markdown",
   "id": "92479633",
   "metadata": {
    "papermill": {
     "duration": 0.028298,
     "end_time": "2023-06-16T10:33:46.830390",
     "exception": false,
     "start_time": "2023-06-16T10:33:46.802092",
     "status": "completed"
    },
    "tags": []
   },
   "source": [
    "<a id=\"5.4\"></a>\n",
    "## <span style=\"color: YELLOW;\">5.4  - CALCULATING THE ACCURACY OF OUR MODEL . "
   ]
  },
  {
   "cell_type": "code",
   "execution_count": 20,
   "id": "e39ae3b1",
   "metadata": {
    "execution": {
     "iopub.execute_input": "2023-06-16T10:33:46.890169Z",
     "iopub.status.busy": "2023-06-16T10:33:46.889187Z",
     "iopub.status.idle": "2023-06-16T10:33:46.895944Z",
     "shell.execute_reply": "2023-06-16T10:33:46.894971Z"
    },
    "papermill": {
     "duration": 0.038365,
     "end_time": "2023-06-16T10:33:46.897938",
     "exception": false,
     "start_time": "2023-06-16T10:33:46.859573",
     "status": "completed"
    },
    "tags": []
   },
   "outputs": [
    {
     "data": {
      "text/plain": [
       "0.9930693069306931"
      ]
     },
     "execution_count": 20,
     "metadata": {},
     "output_type": "execute_result"
    }
   ],
   "source": [
    "get_accuracy()"
   ]
  }
 ],
 "metadata": {
  "kernelspec": {
   "display_name": "Python 3",
   "language": "python",
   "name": "python3"
  },
  "language_info": {
   "codemirror_mode": {
    "name": "ipython",
    "version": 3
   },
   "file_extension": ".py",
   "mimetype": "text/x-python",
   "name": "python",
   "nbconvert_exporter": "python",
   "pygments_lexer": "ipython3",
   "version": "3.10.10"
  },
  "papermill": {
   "default_parameters": {},
   "duration": 597.020444,
   "end_time": "2023-06-16T10:33:49.864501",
   "environment_variables": {},
   "exception": null,
   "input_path": "__notebook__.ipynb",
   "output_path": "__notebook__.ipynb",
   "parameters": {},
   "start_time": "2023-06-16T10:23:52.844057",
   "version": "2.4.0"
  }
 },
 "nbformat": 4,
 "nbformat_minor": 5
}

{
 "cells": [
  {
   "cell_type": "markdown",
   "id": "f9779c5a",
   "metadata": {},
   "source": [
    "<a href=\"https://www.kaggle.com/code/darshanprabhu09/n6-pandas-playground-eda-constant-experimentation?scriptVersionId=135450379\" target=\"_blank\"><img align=\"left\" alt=\"Kaggle\" title=\"Open in Kaggle\" src=\"https://kaggle.com/static/images/open-in-kaggle.svg\"></a>"
   ]
  },
  {
   "cell_type": "markdown",
   "id": "8d256dfe",
   "metadata": {
    "papermill": {
     "duration": 0.02516,
     "end_time": "2023-07-01T19:09:23.25999",
     "exception": false,
     "start_time": "2023-07-01T19:09:23.23483",
     "status": "completed"
    },
    "tags": []
   },
   "source": [
    "# <div style= \"font-family: Times New Roman; font-weight:bold; letter-spacing: 0px; color:WHITE; font-size:120%; text-align:left;padding:3.0px; background: #FF4500; border-bottom: 8px solid WHITE\" > TABLE OF CONTENTS<br><div>  \n",
    "\n",
    "    \n",
    "* [1 - INSTALLING PANDAS](#1)\n",
    "* [2 - READING THE FILE](#2)\n",
    "* [3 -  HEAD()](#3)\n",
    "* [4 - TAIL()](#4)\n",
    "* [5 - DTYPES](#5)\n",
    "* [6 - PRINTING COLUMNS WITH PARTICULAR DTYPES ](#6)\n",
    "    * [6.1 -  PRINT ROWS AND COLUMNS HAVING THE DATATYPE AS \"OBJECT\".](#6.1)\n",
    "    * [6.2 -  PRINT ROWS AND COLUMNS HAVING THE DATATYPE AS \"int64\".](#6.2)\n",
    "* [7 - RETRIEVING COLUMNS HEADERS.](#7)\n",
    "    * [7.1 - INT64](#7.1)\n",
    "    * [7.2 - OBJECT](#7.2)\n",
    "* [8 - FORMATTING DATATYPES](#8)\n",
    "* [9 - ROUNDING OF THE DATA](#9)\n",
    "* [10 - BEGINNING & END OF DATA ](#10)\n",
    "* [11 - EXPLORATORY DATA ANALYSIS](#11)\n",
    "    * [11.1 - Descrpition about index of data](#11.1)\n",
    "    * [11.2 - Statistical description of Dataframe](#11.2)\n",
    "    * [11.3 -  TO GET TOTAL NUMBER OF ROWS](#11.3)\n",
    "* [12 - GROUPBY()](#12)\n",
    "* [13 - CROSSTAB()](#13)\n",
    "* [14 - WHERE()](#14)\n",
    "* [15 - nUNIQUE()](#15)\n",
    "* [16 - VALUE_COUNTS()](#16)\n",
    "* [17 - CUT()](#17)\n",
    "* [18 - MELT()](#18)\n",
    "* [19 - PIVOT TABLE](#19)\n",
    "* [20 - CATEGORICAL](#20)\n",
    "* [21 - FACTORIZE](#21)\n",
    "* [22 - AGGREGRATION](#22)\n",
    "* [23 - GET_DUMMIES](#23)\n",
    "* [24 - PERIOD RANGE](#24)\n",
    "* [25 - QCUT](#25)"
   ]
  },
  {
   "cell_type": "markdown",
   "id": "d530b528",
   "metadata": {
    "papermill": {
     "duration": 0.024268,
     "end_time": "2023-07-01T19:09:23.309028",
     "exception": false,
     "start_time": "2023-07-01T19:09:23.28476",
     "status": "completed"
    },
    "tags": []
   },
   "source": [
    "# <a id=\"1\"></a>\n",
    "# <div style= \"font-family: Times New Roman; font-weight:bold; letter-spacing: 0px; color:WHITE; font-size:120%; text-align:left;padding:3.0px; background: brown; border-bottom: 8px solid WHITE\" >1 -  Installing Pandas .  <br><div>\n",
    "\n",
    "To install pandas, you can use the following command , Make sure you have pip installed on your system before running the command.\n",
    "\n",
    "\n",
    "\n",
    "\n",
    "```\n",
    "pip install pandas\n",
    "\n",
    "```\n",
    "\n",
    "Use the above statement in \"Console\" of your notebook or Command prompt of your device . "
   ]
  },
  {
   "cell_type": "code",
   "execution_count": 1,
   "id": "73e3617a",
   "metadata": {
    "execution": {
     "iopub.execute_input": "2023-07-01T19:09:23.364216Z",
     "iopub.status.busy": "2023-07-01T19:09:23.363651Z",
     "iopub.status.idle": "2023-07-01T19:09:23.376997Z",
     "shell.execute_reply": "2023-07-01T19:09:23.37537Z"
    },
    "papermill": {
     "duration": 0.045265,
     "end_time": "2023-07-01T19:09:23.380857",
     "exception": false,
     "start_time": "2023-07-01T19:09:23.335592",
     "status": "completed"
    },
    "tags": []
   },
   "outputs": [],
   "source": [
    "import pandas as pd\n",
    "import os "
   ]
  },
  {
   "cell_type": "markdown",
   "id": "cfd8894e",
   "metadata": {
    "papermill": {
     "duration": 0.024565,
     "end_time": "2023-07-01T19:09:23.431559",
     "exception": false,
     "start_time": "2023-07-01T19:09:23.406994",
     "status": "completed"
    },
    "tags": []
   },
   "source": [
    "# <a id=\"2\"></a>\n",
    "# <div style= \"font-family: Times New Roman; font-weight:bold; letter-spacing: 0px; color:WHITE; font-size:120%; text-align:left;padding:3.0px; background: brown; border-bottom: 8px solid WHITE\" > 2 - Reading the csv file into tabular format .  <br><div>\n",
    "\n",
    "\n",
    "## <span style=\"color: #FF4450;\">  To read a file using pandas, you can use the read_csv()\n"
   ]
  },
  {
   "cell_type": "markdown",
   "id": "7d322a93",
   "metadata": {
    "papermill": {
     "duration": 0.025198,
     "end_time": "2023-07-01T19:09:23.481337",
     "exception": false,
     "start_time": "2023-07-01T19:09:23.456139",
     "status": "completed"
    },
    "tags": []
   },
   "source": [
    "## <span style=\"color: #FF4450;\"> First Data . "
   ]
  },
  {
   "cell_type": "code",
   "execution_count": 2,
   "id": "5f7063e0",
   "metadata": {
    "execution": {
     "iopub.execute_input": "2023-07-01T19:09:23.532983Z",
     "iopub.status.busy": "2023-07-01T19:09:23.532364Z",
     "iopub.status.idle": "2023-07-01T19:09:23.614372Z",
     "shell.execute_reply": "2023-07-01T19:09:23.612938Z"
    },
    "papermill": {
     "duration": 0.112002,
     "end_time": "2023-07-01T19:09:23.617835",
     "exception": false,
     "start_time": "2023-07-01T19:09:23.505833",
     "status": "completed"
    },
    "tags": []
   },
   "outputs": [
    {
     "data": {
      "text/html": [
       "<div>\n",
       "<style scoped>\n",
       "    .dataframe tbody tr th:only-of-type {\n",
       "        vertical-align: middle;\n",
       "    }\n",
       "\n",
       "    .dataframe tbody tr th {\n",
       "        vertical-align: top;\n",
       "    }\n",
       "\n",
       "    .dataframe thead th {\n",
       "        text-align: right;\n",
       "    }\n",
       "</style>\n",
       "<table border=\"1\" class=\"dataframe\">\n",
       "  <thead>\n",
       "    <tr style=\"text-align: right;\">\n",
       "      <th></th>\n",
       "      <th>Country</th>\n",
       "      <th>Region</th>\n",
       "      <th>Population</th>\n",
       "      <th>Area (sq. mi.)</th>\n",
       "      <th>Pop. Density (per sq. mi.)</th>\n",
       "      <th>Coastline (coast/area ratio)</th>\n",
       "      <th>Net migration</th>\n",
       "      <th>Infant mortality (per 1000 births)</th>\n",
       "      <th>GDP ($ per capita)</th>\n",
       "      <th>Literacy (%)</th>\n",
       "      <th>Phones (per 1000)</th>\n",
       "      <th>Arable (%)</th>\n",
       "      <th>Crops (%)</th>\n",
       "      <th>Other (%)</th>\n",
       "      <th>Climate</th>\n",
       "      <th>Birthrate</th>\n",
       "      <th>Deathrate</th>\n",
       "      <th>Agriculture</th>\n",
       "      <th>Industry</th>\n",
       "      <th>Service</th>\n",
       "    </tr>\n",
       "  </thead>\n",
       "  <tbody>\n",
       "    <tr>\n",
       "      <th>0</th>\n",
       "      <td>Afghanistan</td>\n",
       "      <td>ASIA (EX. NEAR EAST)</td>\n",
       "      <td>31056997</td>\n",
       "      <td>647500</td>\n",
       "      <td>48,0</td>\n",
       "      <td>0,00</td>\n",
       "      <td>23,06</td>\n",
       "      <td>163,07</td>\n",
       "      <td>700.0</td>\n",
       "      <td>36,0</td>\n",
       "      <td>3,2</td>\n",
       "      <td>12,13</td>\n",
       "      <td>0,22</td>\n",
       "      <td>87,65</td>\n",
       "      <td>1</td>\n",
       "      <td>46,6</td>\n",
       "      <td>20,34</td>\n",
       "      <td>0,38</td>\n",
       "      <td>0,24</td>\n",
       "      <td>0,38</td>\n",
       "    </tr>\n",
       "    <tr>\n",
       "      <th>1</th>\n",
       "      <td>Albania</td>\n",
       "      <td>EASTERN EUROPE</td>\n",
       "      <td>3581655</td>\n",
       "      <td>28748</td>\n",
       "      <td>124,6</td>\n",
       "      <td>1,26</td>\n",
       "      <td>-4,93</td>\n",
       "      <td>21,52</td>\n",
       "      <td>4500.0</td>\n",
       "      <td>86,5</td>\n",
       "      <td>71,2</td>\n",
       "      <td>21,09</td>\n",
       "      <td>4,42</td>\n",
       "      <td>74,49</td>\n",
       "      <td>3</td>\n",
       "      <td>15,11</td>\n",
       "      <td>5,22</td>\n",
       "      <td>0,232</td>\n",
       "      <td>0,188</td>\n",
       "      <td>0,579</td>\n",
       "    </tr>\n",
       "    <tr>\n",
       "      <th>2</th>\n",
       "      <td>Algeria</td>\n",
       "      <td>NORTHERN AFRICA</td>\n",
       "      <td>32930091</td>\n",
       "      <td>2381740</td>\n",
       "      <td>13,8</td>\n",
       "      <td>0,04</td>\n",
       "      <td>-0,39</td>\n",
       "      <td>31</td>\n",
       "      <td>6000.0</td>\n",
       "      <td>70,0</td>\n",
       "      <td>78,1</td>\n",
       "      <td>3,22</td>\n",
       "      <td>0,25</td>\n",
       "      <td>96,53</td>\n",
       "      <td>1</td>\n",
       "      <td>17,14</td>\n",
       "      <td>4,61</td>\n",
       "      <td>0,101</td>\n",
       "      <td>0,6</td>\n",
       "      <td>0,298</td>\n",
       "    </tr>\n",
       "    <tr>\n",
       "      <th>3</th>\n",
       "      <td>American Samoa</td>\n",
       "      <td>OCEANIA</td>\n",
       "      <td>57794</td>\n",
       "      <td>199</td>\n",
       "      <td>290,4</td>\n",
       "      <td>58,29</td>\n",
       "      <td>-20,71</td>\n",
       "      <td>9,27</td>\n",
       "      <td>8000.0</td>\n",
       "      <td>97,0</td>\n",
       "      <td>259,5</td>\n",
       "      <td>10</td>\n",
       "      <td>15</td>\n",
       "      <td>75</td>\n",
       "      <td>2</td>\n",
       "      <td>22,46</td>\n",
       "      <td>3,27</td>\n",
       "      <td>NaN</td>\n",
       "      <td>NaN</td>\n",
       "      <td>NaN</td>\n",
       "    </tr>\n",
       "    <tr>\n",
       "      <th>4</th>\n",
       "      <td>Andorra</td>\n",
       "      <td>WESTERN EUROPE</td>\n",
       "      <td>71201</td>\n",
       "      <td>468</td>\n",
       "      <td>152,1</td>\n",
       "      <td>0,00</td>\n",
       "      <td>6,6</td>\n",
       "      <td>4,05</td>\n",
       "      <td>19000.0</td>\n",
       "      <td>100,0</td>\n",
       "      <td>497,2</td>\n",
       "      <td>2,22</td>\n",
       "      <td>0</td>\n",
       "      <td>97,78</td>\n",
       "      <td>3</td>\n",
       "      <td>8,71</td>\n",
       "      <td>6,25</td>\n",
       "      <td>NaN</td>\n",
       "      <td>NaN</td>\n",
       "      <td>NaN</td>\n",
       "    </tr>\n",
       "    <tr>\n",
       "      <th>...</th>\n",
       "      <td>...</td>\n",
       "      <td>...</td>\n",
       "      <td>...</td>\n",
       "      <td>...</td>\n",
       "      <td>...</td>\n",
       "      <td>...</td>\n",
       "      <td>...</td>\n",
       "      <td>...</td>\n",
       "      <td>...</td>\n",
       "      <td>...</td>\n",
       "      <td>...</td>\n",
       "      <td>...</td>\n",
       "      <td>...</td>\n",
       "      <td>...</td>\n",
       "      <td>...</td>\n",
       "      <td>...</td>\n",
       "      <td>...</td>\n",
       "      <td>...</td>\n",
       "      <td>...</td>\n",
       "      <td>...</td>\n",
       "    </tr>\n",
       "    <tr>\n",
       "      <th>222</th>\n",
       "      <td>West Bank</td>\n",
       "      <td>NEAR EAST</td>\n",
       "      <td>2460492</td>\n",
       "      <td>5860</td>\n",
       "      <td>419,9</td>\n",
       "      <td>0,00</td>\n",
       "      <td>2,98</td>\n",
       "      <td>19,62</td>\n",
       "      <td>800.0</td>\n",
       "      <td>NaN</td>\n",
       "      <td>145,2</td>\n",
       "      <td>16,9</td>\n",
       "      <td>18,97</td>\n",
       "      <td>64,13</td>\n",
       "      <td>3</td>\n",
       "      <td>31,67</td>\n",
       "      <td>3,92</td>\n",
       "      <td>0,09</td>\n",
       "      <td>0,28</td>\n",
       "      <td>0,63</td>\n",
       "    </tr>\n",
       "    <tr>\n",
       "      <th>223</th>\n",
       "      <td>Western Sahara</td>\n",
       "      <td>NORTHERN AFRICA</td>\n",
       "      <td>273008</td>\n",
       "      <td>266000</td>\n",
       "      <td>1,0</td>\n",
       "      <td>0,42</td>\n",
       "      <td>NaN</td>\n",
       "      <td>NaN</td>\n",
       "      <td>NaN</td>\n",
       "      <td>NaN</td>\n",
       "      <td>NaN</td>\n",
       "      <td>0,02</td>\n",
       "      <td>0</td>\n",
       "      <td>99,98</td>\n",
       "      <td>1</td>\n",
       "      <td>NaN</td>\n",
       "      <td>NaN</td>\n",
       "      <td>NaN</td>\n",
       "      <td>NaN</td>\n",
       "      <td>0,4</td>\n",
       "    </tr>\n",
       "    <tr>\n",
       "      <th>224</th>\n",
       "      <td>Yemen</td>\n",
       "      <td>NEAR EAST</td>\n",
       "      <td>21456188</td>\n",
       "      <td>527970</td>\n",
       "      <td>40,6</td>\n",
       "      <td>0,36</td>\n",
       "      <td>0</td>\n",
       "      <td>61,5</td>\n",
       "      <td>800.0</td>\n",
       "      <td>50,2</td>\n",
       "      <td>37,2</td>\n",
       "      <td>2,78</td>\n",
       "      <td>0,24</td>\n",
       "      <td>96,98</td>\n",
       "      <td>1</td>\n",
       "      <td>42,89</td>\n",
       "      <td>8,3</td>\n",
       "      <td>0,135</td>\n",
       "      <td>0,472</td>\n",
       "      <td>0,393</td>\n",
       "    </tr>\n",
       "    <tr>\n",
       "      <th>225</th>\n",
       "      <td>Zambia</td>\n",
       "      <td>SUB-SAHARAN AFRICA</td>\n",
       "      <td>11502010</td>\n",
       "      <td>752614</td>\n",
       "      <td>15,3</td>\n",
       "      <td>0,00</td>\n",
       "      <td>0</td>\n",
       "      <td>88,29</td>\n",
       "      <td>800.0</td>\n",
       "      <td>80,6</td>\n",
       "      <td>8,2</td>\n",
       "      <td>7,08</td>\n",
       "      <td>0,03</td>\n",
       "      <td>92,9</td>\n",
       "      <td>2</td>\n",
       "      <td>41</td>\n",
       "      <td>19,93</td>\n",
       "      <td>0,22</td>\n",
       "      <td>0,29</td>\n",
       "      <td>0,489</td>\n",
       "    </tr>\n",
       "    <tr>\n",
       "      <th>226</th>\n",
       "      <td>Zimbabwe</td>\n",
       "      <td>SUB-SAHARAN AFRICA</td>\n",
       "      <td>12236805</td>\n",
       "      <td>390580</td>\n",
       "      <td>31,3</td>\n",
       "      <td>0,00</td>\n",
       "      <td>0</td>\n",
       "      <td>67,69</td>\n",
       "      <td>1900.0</td>\n",
       "      <td>90,7</td>\n",
       "      <td>26,8</td>\n",
       "      <td>8,32</td>\n",
       "      <td>0,34</td>\n",
       "      <td>91,34</td>\n",
       "      <td>2</td>\n",
       "      <td>28,01</td>\n",
       "      <td>21,84</td>\n",
       "      <td>0,179</td>\n",
       "      <td>0,243</td>\n",
       "      <td>0,579</td>\n",
       "    </tr>\n",
       "  </tbody>\n",
       "</table>\n",
       "<p>227 rows × 20 columns</p>\n",
       "</div>"
      ],
      "text/plain": [
       "             Country                               Region  Population  \\\n",
       "0       Afghanistan         ASIA (EX. NEAR EAST)             31056997   \n",
       "1           Albania   EASTERN EUROPE                          3581655   \n",
       "2           Algeria   NORTHERN AFRICA                        32930091   \n",
       "3    American Samoa   OCEANIA                                   57794   \n",
       "4           Andorra   WESTERN EUROPE                            71201   \n",
       "..               ...                                  ...         ...   \n",
       "222       West Bank   NEAR EAST                               2460492   \n",
       "223  Western Sahara   NORTHERN AFRICA                          273008   \n",
       "224           Yemen   NEAR EAST                              21456188   \n",
       "225          Zambia   SUB-SAHARAN AFRICA                     11502010   \n",
       "226        Zimbabwe   SUB-SAHARAN AFRICA                     12236805   \n",
       "\n",
       "     Area (sq. mi.) Pop. Density (per sq. mi.) Coastline (coast/area ratio)  \\\n",
       "0            647500                       48,0                         0,00   \n",
       "1             28748                      124,6                         1,26   \n",
       "2           2381740                       13,8                         0,04   \n",
       "3               199                      290,4                        58,29   \n",
       "4               468                      152,1                         0,00   \n",
       "..              ...                        ...                          ...   \n",
       "222            5860                      419,9                         0,00   \n",
       "223          266000                        1,0                         0,42   \n",
       "224          527970                       40,6                         0,36   \n",
       "225          752614                       15,3                         0,00   \n",
       "226          390580                       31,3                         0,00   \n",
       "\n",
       "    Net migration Infant mortality (per 1000 births)  GDP ($ per capita)  \\\n",
       "0           23,06                             163,07               700.0   \n",
       "1           -4,93                              21,52              4500.0   \n",
       "2           -0,39                                 31              6000.0   \n",
       "3          -20,71                               9,27              8000.0   \n",
       "4             6,6                               4,05             19000.0   \n",
       "..            ...                                ...                 ...   \n",
       "222          2,98                              19,62               800.0   \n",
       "223           NaN                                NaN                 NaN   \n",
       "224             0                               61,5               800.0   \n",
       "225             0                              88,29               800.0   \n",
       "226             0                              67,69              1900.0   \n",
       "\n",
       "    Literacy (%) Phones (per 1000) Arable (%) Crops (%) Other (%) Climate  \\\n",
       "0           36,0               3,2      12,13      0,22     87,65       1   \n",
       "1           86,5              71,2      21,09      4,42     74,49       3   \n",
       "2           70,0              78,1       3,22      0,25     96,53       1   \n",
       "3           97,0             259,5         10        15        75       2   \n",
       "4          100,0             497,2       2,22         0     97,78       3   \n",
       "..           ...               ...        ...       ...       ...     ...   \n",
       "222          NaN             145,2       16,9     18,97     64,13       3   \n",
       "223          NaN               NaN       0,02         0     99,98       1   \n",
       "224         50,2              37,2       2,78      0,24     96,98       1   \n",
       "225         80,6               8,2       7,08      0,03      92,9       2   \n",
       "226         90,7              26,8       8,32      0,34     91,34       2   \n",
       "\n",
       "    Birthrate Deathrate Agriculture Industry Service  \n",
       "0        46,6     20,34        0,38     0,24    0,38  \n",
       "1       15,11      5,22       0,232    0,188   0,579  \n",
       "2       17,14      4,61       0,101      0,6   0,298  \n",
       "3       22,46      3,27         NaN      NaN     NaN  \n",
       "4        8,71      6,25         NaN      NaN     NaN  \n",
       "..        ...       ...         ...      ...     ...  \n",
       "222     31,67      3,92        0,09     0,28    0,63  \n",
       "223       NaN       NaN         NaN      NaN     0,4  \n",
       "224     42,89       8,3       0,135    0,472   0,393  \n",
       "225        41     19,93        0,22     0,29   0,489  \n",
       "226     28,01     21,84       0,179    0,243   0,579  \n",
       "\n",
       "[227 rows x 20 columns]"
      ]
     },
     "execution_count": 2,
     "metadata": {},
     "output_type": "execute_result"
    }
   ],
   "source": [
    "# Assuming a variable \"data\" and storing the data into it using path . \n",
    "\n",
    "data = pd.read_csv(\"/kaggle/input/countries-economy-gdp-and-everything/countries-of-the-world.csv\")\n",
    "data\n"
   ]
  },
  {
   "cell_type": "markdown",
   "id": "e5a96577",
   "metadata": {
    "papermill": {
     "duration": 0.056635,
     "end_time": "2023-07-01T19:09:23.700533",
     "exception": false,
     "start_time": "2023-07-01T19:09:23.643898",
     "status": "completed"
    },
    "tags": []
   },
   "source": [
    "## <span style=\"color: #FF4450;\"> Second Data . "
   ]
  },
  {
   "cell_type": "code",
   "execution_count": 3,
   "id": "97e86421",
   "metadata": {
    "execution": {
     "iopub.execute_input": "2023-07-01T19:09:23.754575Z",
     "iopub.status.busy": "2023-07-01T19:09:23.754138Z",
     "iopub.status.idle": "2023-07-01T19:09:23.777833Z",
     "shell.execute_reply": "2023-07-01T19:09:23.776886Z"
    },
    "papermill": {
     "duration": 0.054373,
     "end_time": "2023-07-01T19:09:23.780925",
     "exception": false,
     "start_time": "2023-07-01T19:09:23.726552",
     "status": "completed"
    },
    "tags": []
   },
   "outputs": [
    {
     "name": "stdout",
     "output_type": "stream",
     "text": [
      "     Number  Year                              Album           Artist  \\\n",
      "0       101  1955             In the Wee Small Hours    Frank Sinatra   \n",
      "1        56  1956                      Elvis Presley    Elvis Presley   \n",
      "2       308  1956         Songs for Swingin' Lovers!    Frank Sinatra   \n",
      "3        50  1957              Here's Little Richard   Little Richard   \n",
      "4       420  1957            The \"Chirping\" Crickets     The Crickets   \n",
      "..      ...   ...                                ...              ...   \n",
      "495     430  2007                    Vampire Weekend  Vampire Weekend   \n",
      "496     494  2007               Oracular Spectacular             MGMT   \n",
      "497     437  2008                     Tha Carter III        Lil Wayne   \n",
      "498     353  2010  My Beautiful Dark Twisted Fantasy       Kanye West   \n",
      "499     381  2011                 The Smile Sessions   The Beach Boys   \n",
      "\n",
      "                     Genre                             Subgenre  \n",
      "0                Jazz, Pop                     Big Band, Ballad  \n",
      "1                     Rock              Rock & Roll, Rockabilly  \n",
      "2                Jazz, Pop                Vocal, Easy Listening  \n",
      "3              Rock, Blues          Rock & Roll, Rhythm & Blues  \n",
      "4                Rock, Pop              Rockabilly, Rock & Roll  \n",
      "..                     ...                                  ...  \n",
      "495                   Rock                           Indie Rock  \n",
      "496  Electronic, Rock, Pop                Synth-pop, Indie Rock  \n",
      "497   Hip Hop, Funk / Soul  RnB/Swing, Screw, Pop Rap, Thug Rap  \n",
      "498                Hip Hop                                 None  \n",
      "499                   Rock           Pop Rock, Psychedelic Rock  \n",
      "\n",
      "[500 rows x 6 columns]\n"
     ]
    }
   ],
   "source": [
    "data2 = pd.read_csv(\"/kaggle/input/500-albums-between-1955-2011/500 albums (1955-2011).csv\")\n",
    "print(data2)"
   ]
  },
  {
   "cell_type": "markdown",
   "id": "8e1a7188",
   "metadata": {
    "papermill": {
     "duration": 0.025113,
     "end_time": "2023-07-01T19:09:23.831967",
     "exception": false,
     "start_time": "2023-07-01T19:09:23.806854",
     "status": "completed"
    },
    "tags": []
   },
   "source": [
    "## <span style=\"color: #FF4450;\"> Third Data . "
   ]
  },
  {
   "cell_type": "code",
   "execution_count": 4,
   "id": "4e5a4b68",
   "metadata": {
    "execution": {
     "iopub.execute_input": "2023-07-01T19:09:23.887302Z",
     "iopub.status.busy": "2023-07-01T19:09:23.886093Z",
     "iopub.status.idle": "2023-07-01T19:09:24.982918Z",
     "shell.execute_reply": "2023-07-01T19:09:24.981235Z"
    },
    "papermill": {
     "duration": 1.126751,
     "end_time": "2023-07-01T19:09:24.985938",
     "exception": false,
     "start_time": "2023-07-01T19:09:23.859187",
     "status": "completed"
    },
    "tags": []
   },
   "outputs": [
    {
     "name": "stdout",
     "output_type": "stream",
     "text": [
      "        row_id                 time  x  y direction  congestion\n",
      "0            0  1991-04-01 00:00:00  0  0        EB          70\n",
      "1            1  1991-04-01 00:00:00  0  0        NB          49\n",
      "2            2  1991-04-01 00:00:00  0  0        SB          24\n",
      "3            3  1991-04-01 00:00:00  0  1        EB          18\n",
      "4            4  1991-04-01 00:00:00  0  1        NB          60\n",
      "...        ...                  ... .. ..       ...         ...\n",
      "848830  848830  1991-09-30 11:40:00  2  3        NB          54\n",
      "848831  848831  1991-09-30 11:40:00  2  3        NE          28\n",
      "848832  848832  1991-09-30 11:40:00  2  3        SB          68\n",
      "848833  848833  1991-09-30 11:40:00  2  3        SW          17\n",
      "848834  848834  1991-09-30 11:40:00  2  3        WB          24\n",
      "\n",
      "[848835 rows x 6 columns]\n"
     ]
    }
   ],
   "source": [
    "data3 = pd.read_csv(\"/kaggle/input/tabular-playground-series-mar-2022/train.csv\")\n",
    "print(data3)"
   ]
  },
  {
   "cell_type": "markdown",
   "id": "2e134989",
   "metadata": {
    "papermill": {
     "duration": 0.026542,
     "end_time": "2023-07-01T19:09:25.039071",
     "exception": false,
     "start_time": "2023-07-01T19:09:25.012529",
     "status": "completed"
    },
    "tags": []
   },
   "source": [
    "# <a id=\"3\"></a>\n",
    "### <div style= \"font-family: Times New Roman; font-weight:bold; letter-spacing: 0px; color:WHITE; font-size:120%; text-align:left;padding:3.0px; background: brown; border-bottom: 8px solid WHITE\" > 3 - head() .  <br><div>\n",
    "## <span style=\"color: #FF4450;\"> Prints first five rows Data . \n"
   ]
  },
  {
   "cell_type": "code",
   "execution_count": 5,
   "id": "8167a1ec",
   "metadata": {
    "execution": {
     "iopub.execute_input": "2023-07-01T19:09:25.093114Z",
     "iopub.status.busy": "2023-07-01T19:09:25.092703Z",
     "iopub.status.idle": "2023-07-01T19:09:25.118449Z",
     "shell.execute_reply": "2023-07-01T19:09:25.117236Z"
    },
    "papermill": {
     "duration": 0.056316,
     "end_time": "2023-07-01T19:09:25.121091",
     "exception": false,
     "start_time": "2023-07-01T19:09:25.064775",
     "status": "completed"
    },
    "tags": []
   },
   "outputs": [
    {
     "data": {
      "text/html": [
       "<div>\n",
       "<style scoped>\n",
       "    .dataframe tbody tr th:only-of-type {\n",
       "        vertical-align: middle;\n",
       "    }\n",
       "\n",
       "    .dataframe tbody tr th {\n",
       "        vertical-align: top;\n",
       "    }\n",
       "\n",
       "    .dataframe thead th {\n",
       "        text-align: right;\n",
       "    }\n",
       "</style>\n",
       "<table border=\"1\" class=\"dataframe\">\n",
       "  <thead>\n",
       "    <tr style=\"text-align: right;\">\n",
       "      <th></th>\n",
       "      <th>Country</th>\n",
       "      <th>Region</th>\n",
       "      <th>Population</th>\n",
       "      <th>Area (sq. mi.)</th>\n",
       "      <th>Pop. Density (per sq. mi.)</th>\n",
       "      <th>Coastline (coast/area ratio)</th>\n",
       "      <th>Net migration</th>\n",
       "      <th>Infant mortality (per 1000 births)</th>\n",
       "      <th>GDP ($ per capita)</th>\n",
       "      <th>Literacy (%)</th>\n",
       "      <th>Phones (per 1000)</th>\n",
       "      <th>Arable (%)</th>\n",
       "      <th>Crops (%)</th>\n",
       "      <th>Other (%)</th>\n",
       "      <th>Climate</th>\n",
       "      <th>Birthrate</th>\n",
       "      <th>Deathrate</th>\n",
       "      <th>Agriculture</th>\n",
       "      <th>Industry</th>\n",
       "      <th>Service</th>\n",
       "    </tr>\n",
       "  </thead>\n",
       "  <tbody>\n",
       "    <tr>\n",
       "      <th>0</th>\n",
       "      <td>Afghanistan</td>\n",
       "      <td>ASIA (EX. NEAR EAST)</td>\n",
       "      <td>31056997</td>\n",
       "      <td>647500</td>\n",
       "      <td>48,0</td>\n",
       "      <td>0,00</td>\n",
       "      <td>23,06</td>\n",
       "      <td>163,07</td>\n",
       "      <td>700.0</td>\n",
       "      <td>36,0</td>\n",
       "      <td>3,2</td>\n",
       "      <td>12,13</td>\n",
       "      <td>0,22</td>\n",
       "      <td>87,65</td>\n",
       "      <td>1</td>\n",
       "      <td>46,6</td>\n",
       "      <td>20,34</td>\n",
       "      <td>0,38</td>\n",
       "      <td>0,24</td>\n",
       "      <td>0,38</td>\n",
       "    </tr>\n",
       "    <tr>\n",
       "      <th>1</th>\n",
       "      <td>Albania</td>\n",
       "      <td>EASTERN EUROPE</td>\n",
       "      <td>3581655</td>\n",
       "      <td>28748</td>\n",
       "      <td>124,6</td>\n",
       "      <td>1,26</td>\n",
       "      <td>-4,93</td>\n",
       "      <td>21,52</td>\n",
       "      <td>4500.0</td>\n",
       "      <td>86,5</td>\n",
       "      <td>71,2</td>\n",
       "      <td>21,09</td>\n",
       "      <td>4,42</td>\n",
       "      <td>74,49</td>\n",
       "      <td>3</td>\n",
       "      <td>15,11</td>\n",
       "      <td>5,22</td>\n",
       "      <td>0,232</td>\n",
       "      <td>0,188</td>\n",
       "      <td>0,579</td>\n",
       "    </tr>\n",
       "    <tr>\n",
       "      <th>2</th>\n",
       "      <td>Algeria</td>\n",
       "      <td>NORTHERN AFRICA</td>\n",
       "      <td>32930091</td>\n",
       "      <td>2381740</td>\n",
       "      <td>13,8</td>\n",
       "      <td>0,04</td>\n",
       "      <td>-0,39</td>\n",
       "      <td>31</td>\n",
       "      <td>6000.0</td>\n",
       "      <td>70,0</td>\n",
       "      <td>78,1</td>\n",
       "      <td>3,22</td>\n",
       "      <td>0,25</td>\n",
       "      <td>96,53</td>\n",
       "      <td>1</td>\n",
       "      <td>17,14</td>\n",
       "      <td>4,61</td>\n",
       "      <td>0,101</td>\n",
       "      <td>0,6</td>\n",
       "      <td>0,298</td>\n",
       "    </tr>\n",
       "    <tr>\n",
       "      <th>3</th>\n",
       "      <td>American Samoa</td>\n",
       "      <td>OCEANIA</td>\n",
       "      <td>57794</td>\n",
       "      <td>199</td>\n",
       "      <td>290,4</td>\n",
       "      <td>58,29</td>\n",
       "      <td>-20,71</td>\n",
       "      <td>9,27</td>\n",
       "      <td>8000.0</td>\n",
       "      <td>97,0</td>\n",
       "      <td>259,5</td>\n",
       "      <td>10</td>\n",
       "      <td>15</td>\n",
       "      <td>75</td>\n",
       "      <td>2</td>\n",
       "      <td>22,46</td>\n",
       "      <td>3,27</td>\n",
       "      <td>NaN</td>\n",
       "      <td>NaN</td>\n",
       "      <td>NaN</td>\n",
       "    </tr>\n",
       "    <tr>\n",
       "      <th>4</th>\n",
       "      <td>Andorra</td>\n",
       "      <td>WESTERN EUROPE</td>\n",
       "      <td>71201</td>\n",
       "      <td>468</td>\n",
       "      <td>152,1</td>\n",
       "      <td>0,00</td>\n",
       "      <td>6,6</td>\n",
       "      <td>4,05</td>\n",
       "      <td>19000.0</td>\n",
       "      <td>100,0</td>\n",
       "      <td>497,2</td>\n",
       "      <td>2,22</td>\n",
       "      <td>0</td>\n",
       "      <td>97,78</td>\n",
       "      <td>3</td>\n",
       "      <td>8,71</td>\n",
       "      <td>6,25</td>\n",
       "      <td>NaN</td>\n",
       "      <td>NaN</td>\n",
       "      <td>NaN</td>\n",
       "    </tr>\n",
       "  </tbody>\n",
       "</table>\n",
       "</div>"
      ],
      "text/plain": [
       "           Country                               Region  Population  \\\n",
       "0     Afghanistan         ASIA (EX. NEAR EAST)             31056997   \n",
       "1         Albania   EASTERN EUROPE                          3581655   \n",
       "2         Algeria   NORTHERN AFRICA                        32930091   \n",
       "3  American Samoa   OCEANIA                                   57794   \n",
       "4         Andorra   WESTERN EUROPE                            71201   \n",
       "\n",
       "   Area (sq. mi.) Pop. Density (per sq. mi.) Coastline (coast/area ratio)  \\\n",
       "0          647500                       48,0                         0,00   \n",
       "1           28748                      124,6                         1,26   \n",
       "2         2381740                       13,8                         0,04   \n",
       "3             199                      290,4                        58,29   \n",
       "4             468                      152,1                         0,00   \n",
       "\n",
       "  Net migration Infant mortality (per 1000 births)  GDP ($ per capita)  \\\n",
       "0         23,06                             163,07               700.0   \n",
       "1         -4,93                              21,52              4500.0   \n",
       "2         -0,39                                 31              6000.0   \n",
       "3        -20,71                               9,27              8000.0   \n",
       "4           6,6                               4,05             19000.0   \n",
       "\n",
       "  Literacy (%) Phones (per 1000) Arable (%) Crops (%) Other (%) Climate  \\\n",
       "0         36,0               3,2      12,13      0,22     87,65       1   \n",
       "1         86,5              71,2      21,09      4,42     74,49       3   \n",
       "2         70,0              78,1       3,22      0,25     96,53       1   \n",
       "3         97,0             259,5         10        15        75       2   \n",
       "4        100,0             497,2       2,22         0     97,78       3   \n",
       "\n",
       "  Birthrate Deathrate Agriculture Industry Service  \n",
       "0      46,6     20,34        0,38     0,24    0,38  \n",
       "1     15,11      5,22       0,232    0,188   0,579  \n",
       "2     17,14      4,61       0,101      0,6   0,298  \n",
       "3     22,46      3,27         NaN      NaN     NaN  \n",
       "4      8,71      6,25         NaN      NaN     NaN  "
      ]
     },
     "execution_count": 5,
     "metadata": {},
     "output_type": "execute_result"
    }
   ],
   "source": [
    "data.head()"
   ]
  },
  {
   "cell_type": "markdown",
   "id": "3fb51a05",
   "metadata": {
    "papermill": {
     "duration": 0.025815,
     "end_time": "2023-07-01T19:09:25.172608",
     "exception": false,
     "start_time": "2023-07-01T19:09:25.146793",
     "status": "completed"
    },
    "tags": []
   },
   "source": [
    "\n",
    "# <a id=\"4\"></a>\n",
    "### <div style= \"font-family: Times New Roman; font-weight:bold; letter-spacing: 0px; color:WHITE; font-size:120%; text-align:left;padding:3.0px; background: brown; border-bottom: 8px solid WHITE\" > 4 - tail() .  <br><div>\n",
    "## <span style=\"color: #FF4450;\"> Prints last five rows Data . \n"
   ]
  },
  {
   "cell_type": "code",
   "execution_count": 6,
   "id": "bcbdc0cc",
   "metadata": {
    "execution": {
     "iopub.execute_input": "2023-07-01T19:09:25.228234Z",
     "iopub.status.busy": "2023-07-01T19:09:25.226091Z",
     "iopub.status.idle": "2023-07-01T19:09:25.256806Z",
     "shell.execute_reply": "2023-07-01T19:09:25.254989Z"
    },
    "papermill": {
     "duration": 0.060707,
     "end_time": "2023-07-01T19:09:25.259461",
     "exception": false,
     "start_time": "2023-07-01T19:09:25.198754",
     "status": "completed"
    },
    "tags": []
   },
   "outputs": [
    {
     "data": {
      "text/html": [
       "<div>\n",
       "<style scoped>\n",
       "    .dataframe tbody tr th:only-of-type {\n",
       "        vertical-align: middle;\n",
       "    }\n",
       "\n",
       "    .dataframe tbody tr th {\n",
       "        vertical-align: top;\n",
       "    }\n",
       "\n",
       "    .dataframe thead th {\n",
       "        text-align: right;\n",
       "    }\n",
       "</style>\n",
       "<table border=\"1\" class=\"dataframe\">\n",
       "  <thead>\n",
       "    <tr style=\"text-align: right;\">\n",
       "      <th></th>\n",
       "      <th>Country</th>\n",
       "      <th>Region</th>\n",
       "      <th>Population</th>\n",
       "      <th>Area (sq. mi.)</th>\n",
       "      <th>Pop. Density (per sq. mi.)</th>\n",
       "      <th>Coastline (coast/area ratio)</th>\n",
       "      <th>Net migration</th>\n",
       "      <th>Infant mortality (per 1000 births)</th>\n",
       "      <th>GDP ($ per capita)</th>\n",
       "      <th>Literacy (%)</th>\n",
       "      <th>Phones (per 1000)</th>\n",
       "      <th>Arable (%)</th>\n",
       "      <th>Crops (%)</th>\n",
       "      <th>Other (%)</th>\n",
       "      <th>Climate</th>\n",
       "      <th>Birthrate</th>\n",
       "      <th>Deathrate</th>\n",
       "      <th>Agriculture</th>\n",
       "      <th>Industry</th>\n",
       "      <th>Service</th>\n",
       "    </tr>\n",
       "  </thead>\n",
       "  <tbody>\n",
       "    <tr>\n",
       "      <th>222</th>\n",
       "      <td>West Bank</td>\n",
       "      <td>NEAR EAST</td>\n",
       "      <td>2460492</td>\n",
       "      <td>5860</td>\n",
       "      <td>419,9</td>\n",
       "      <td>0,00</td>\n",
       "      <td>2,98</td>\n",
       "      <td>19,62</td>\n",
       "      <td>800.0</td>\n",
       "      <td>NaN</td>\n",
       "      <td>145,2</td>\n",
       "      <td>16,9</td>\n",
       "      <td>18,97</td>\n",
       "      <td>64,13</td>\n",
       "      <td>3</td>\n",
       "      <td>31,67</td>\n",
       "      <td>3,92</td>\n",
       "      <td>0,09</td>\n",
       "      <td>0,28</td>\n",
       "      <td>0,63</td>\n",
       "    </tr>\n",
       "    <tr>\n",
       "      <th>223</th>\n",
       "      <td>Western Sahara</td>\n",
       "      <td>NORTHERN AFRICA</td>\n",
       "      <td>273008</td>\n",
       "      <td>266000</td>\n",
       "      <td>1,0</td>\n",
       "      <td>0,42</td>\n",
       "      <td>NaN</td>\n",
       "      <td>NaN</td>\n",
       "      <td>NaN</td>\n",
       "      <td>NaN</td>\n",
       "      <td>NaN</td>\n",
       "      <td>0,02</td>\n",
       "      <td>0</td>\n",
       "      <td>99,98</td>\n",
       "      <td>1</td>\n",
       "      <td>NaN</td>\n",
       "      <td>NaN</td>\n",
       "      <td>NaN</td>\n",
       "      <td>NaN</td>\n",
       "      <td>0,4</td>\n",
       "    </tr>\n",
       "    <tr>\n",
       "      <th>224</th>\n",
       "      <td>Yemen</td>\n",
       "      <td>NEAR EAST</td>\n",
       "      <td>21456188</td>\n",
       "      <td>527970</td>\n",
       "      <td>40,6</td>\n",
       "      <td>0,36</td>\n",
       "      <td>0</td>\n",
       "      <td>61,5</td>\n",
       "      <td>800.0</td>\n",
       "      <td>50,2</td>\n",
       "      <td>37,2</td>\n",
       "      <td>2,78</td>\n",
       "      <td>0,24</td>\n",
       "      <td>96,98</td>\n",
       "      <td>1</td>\n",
       "      <td>42,89</td>\n",
       "      <td>8,3</td>\n",
       "      <td>0,135</td>\n",
       "      <td>0,472</td>\n",
       "      <td>0,393</td>\n",
       "    </tr>\n",
       "    <tr>\n",
       "      <th>225</th>\n",
       "      <td>Zambia</td>\n",
       "      <td>SUB-SAHARAN AFRICA</td>\n",
       "      <td>11502010</td>\n",
       "      <td>752614</td>\n",
       "      <td>15,3</td>\n",
       "      <td>0,00</td>\n",
       "      <td>0</td>\n",
       "      <td>88,29</td>\n",
       "      <td>800.0</td>\n",
       "      <td>80,6</td>\n",
       "      <td>8,2</td>\n",
       "      <td>7,08</td>\n",
       "      <td>0,03</td>\n",
       "      <td>92,9</td>\n",
       "      <td>2</td>\n",
       "      <td>41</td>\n",
       "      <td>19,93</td>\n",
       "      <td>0,22</td>\n",
       "      <td>0,29</td>\n",
       "      <td>0,489</td>\n",
       "    </tr>\n",
       "    <tr>\n",
       "      <th>226</th>\n",
       "      <td>Zimbabwe</td>\n",
       "      <td>SUB-SAHARAN AFRICA</td>\n",
       "      <td>12236805</td>\n",
       "      <td>390580</td>\n",
       "      <td>31,3</td>\n",
       "      <td>0,00</td>\n",
       "      <td>0</td>\n",
       "      <td>67,69</td>\n",
       "      <td>1900.0</td>\n",
       "      <td>90,7</td>\n",
       "      <td>26,8</td>\n",
       "      <td>8,32</td>\n",
       "      <td>0,34</td>\n",
       "      <td>91,34</td>\n",
       "      <td>2</td>\n",
       "      <td>28,01</td>\n",
       "      <td>21,84</td>\n",
       "      <td>0,179</td>\n",
       "      <td>0,243</td>\n",
       "      <td>0,579</td>\n",
       "    </tr>\n",
       "  </tbody>\n",
       "</table>\n",
       "</div>"
      ],
      "text/plain": [
       "             Country                               Region  Population  \\\n",
       "222       West Bank   NEAR EAST                               2460492   \n",
       "223  Western Sahara   NORTHERN AFRICA                          273008   \n",
       "224           Yemen   NEAR EAST                              21456188   \n",
       "225          Zambia   SUB-SAHARAN AFRICA                     11502010   \n",
       "226        Zimbabwe   SUB-SAHARAN AFRICA                     12236805   \n",
       "\n",
       "     Area (sq. mi.) Pop. Density (per sq. mi.) Coastline (coast/area ratio)  \\\n",
       "222            5860                      419,9                         0,00   \n",
       "223          266000                        1,0                         0,42   \n",
       "224          527970                       40,6                         0,36   \n",
       "225          752614                       15,3                         0,00   \n",
       "226          390580                       31,3                         0,00   \n",
       "\n",
       "    Net migration Infant mortality (per 1000 births)  GDP ($ per capita)  \\\n",
       "222          2,98                              19,62               800.0   \n",
       "223           NaN                                NaN                 NaN   \n",
       "224             0                               61,5               800.0   \n",
       "225             0                              88,29               800.0   \n",
       "226             0                              67,69              1900.0   \n",
       "\n",
       "    Literacy (%) Phones (per 1000) Arable (%) Crops (%) Other (%) Climate  \\\n",
       "222          NaN             145,2       16,9     18,97     64,13       3   \n",
       "223          NaN               NaN       0,02         0     99,98       1   \n",
       "224         50,2              37,2       2,78      0,24     96,98       1   \n",
       "225         80,6               8,2       7,08      0,03      92,9       2   \n",
       "226         90,7              26,8       8,32      0,34     91,34       2   \n",
       "\n",
       "    Birthrate Deathrate Agriculture Industry Service  \n",
       "222     31,67      3,92        0,09     0,28    0,63  \n",
       "223       NaN       NaN         NaN      NaN     0,4  \n",
       "224     42,89       8,3       0,135    0,472   0,393  \n",
       "225        41     19,93        0,22     0,29   0,489  \n",
       "226     28,01     21,84       0,179    0,243   0,579  "
      ]
     },
     "execution_count": 6,
     "metadata": {},
     "output_type": "execute_result"
    }
   ],
   "source": [
    "data.tail()"
   ]
  },
  {
   "cell_type": "markdown",
   "id": "29df2f19",
   "metadata": {
    "papermill": {
     "duration": 0.026054,
     "end_time": "2023-07-01T19:09:25.31225",
     "exception": false,
     "start_time": "2023-07-01T19:09:25.286196",
     "status": "completed"
    },
    "tags": []
   },
   "source": [
    "\n",
    "# <a id=\"5\"></a>\n",
    "### <div style= \"font-family: Times New Roman; font-weight:bold; letter-spacing: 0px; color:WHITE; font-size:120%; text-align:left;padding:3.0px; background: brown; border-bottom: 8px solid WHITE\" > 5 - .dtypes .  <br><div>\n",
    "## <span style=\"color: #FF4450;\"> Datatypes of data : "
   ]
  },
  {
   "cell_type": "code",
   "execution_count": 7,
   "id": "ac7802c8",
   "metadata": {
    "execution": {
     "iopub.execute_input": "2023-07-01T19:09:25.369749Z",
     "iopub.status.busy": "2023-07-01T19:09:25.369359Z",
     "iopub.status.idle": "2023-07-01T19:09:25.379186Z",
     "shell.execute_reply": "2023-07-01T19:09:25.377547Z"
    },
    "papermill": {
     "duration": 0.040665,
     "end_time": "2023-07-01T19:09:25.381917",
     "exception": false,
     "start_time": "2023-07-01T19:09:25.341252",
     "status": "completed"
    },
    "tags": []
   },
   "outputs": [
    {
     "data": {
      "text/plain": [
       "Country                                object\n",
       "Region                                 object\n",
       "Population                              int64\n",
       "Area (sq. mi.)                          int64\n",
       "Pop. Density (per sq. mi.)             object\n",
       "Coastline (coast/area ratio)           object\n",
       "Net migration                          object\n",
       "Infant mortality (per 1000 births)     object\n",
       "GDP ($ per capita)                    float64\n",
       "Literacy (%)                           object\n",
       "Phones (per 1000)                      object\n",
       "Arable (%)                             object\n",
       "Crops (%)                              object\n",
       "Other (%)                              object\n",
       "Climate                                object\n",
       "Birthrate                              object\n",
       "Deathrate                              object\n",
       "Agriculture                            object\n",
       "Industry                               object\n",
       "Service                                object\n",
       "dtype: object"
      ]
     },
     "execution_count": 7,
     "metadata": {},
     "output_type": "execute_result"
    }
   ],
   "source": [
    "data.dtypes"
   ]
  },
  {
   "cell_type": "markdown",
   "id": "9e423eb2",
   "metadata": {
    "papermill": {
     "duration": 0.028694,
     "end_time": "2023-07-01T19:09:25.437271",
     "exception": false,
     "start_time": "2023-07-01T19:09:25.408577",
     "status": "completed"
    },
    "tags": []
   },
   "source": [
    "\n",
    "# <a id=\"6\"></a>\n",
    "### <div style= \"font-family: Times New Roman; font-weight:bold; letter-spacing: 0px; color:WHITE; font-size:120%; text-align:left;padding:3.0px; background: brown; border-bottom: 8px solid WHITE\" > 6 - Printing columns with particular dtypes .  <br><div>\n",
    "    \n",
    "# <a id=\"6.1\"></a>\n",
    "## <span style=\"color: #FF4450;\">  Print rows and columns having the datatype as \"object\".\n",
    "\n"
   ]
  },
  {
   "cell_type": "code",
   "execution_count": 8,
   "id": "b5388fcd",
   "metadata": {
    "execution": {
     "iopub.execute_input": "2023-07-01T19:09:25.50501Z",
     "iopub.status.busy": "2023-07-01T19:09:25.504151Z",
     "iopub.status.idle": "2023-07-01T19:09:25.534952Z",
     "shell.execute_reply": "2023-07-01T19:09:25.533834Z"
    },
    "papermill": {
     "duration": 0.070289,
     "end_time": "2023-07-01T19:09:25.537487",
     "exception": false,
     "start_time": "2023-07-01T19:09:25.467198",
     "status": "completed"
    },
    "tags": []
   },
   "outputs": [
    {
     "data": {
      "text/html": [
       "<div>\n",
       "<style scoped>\n",
       "    .dataframe tbody tr th:only-of-type {\n",
       "        vertical-align: middle;\n",
       "    }\n",
       "\n",
       "    .dataframe tbody tr th {\n",
       "        vertical-align: top;\n",
       "    }\n",
       "\n",
       "    .dataframe thead th {\n",
       "        text-align: right;\n",
       "    }\n",
       "</style>\n",
       "<table border=\"1\" class=\"dataframe\">\n",
       "  <thead>\n",
       "    <tr style=\"text-align: right;\">\n",
       "      <th></th>\n",
       "      <th>Country</th>\n",
       "      <th>Region</th>\n",
       "      <th>Pop. Density (per sq. mi.)</th>\n",
       "      <th>Coastline (coast/area ratio)</th>\n",
       "      <th>Net migration</th>\n",
       "      <th>Infant mortality (per 1000 births)</th>\n",
       "      <th>Literacy (%)</th>\n",
       "      <th>Phones (per 1000)</th>\n",
       "      <th>Arable (%)</th>\n",
       "      <th>Crops (%)</th>\n",
       "      <th>Other (%)</th>\n",
       "      <th>Climate</th>\n",
       "      <th>Birthrate</th>\n",
       "      <th>Deathrate</th>\n",
       "      <th>Agriculture</th>\n",
       "      <th>Industry</th>\n",
       "      <th>Service</th>\n",
       "    </tr>\n",
       "  </thead>\n",
       "  <tbody>\n",
       "    <tr>\n",
       "      <th>0</th>\n",
       "      <td>Afghanistan</td>\n",
       "      <td>ASIA (EX. NEAR EAST)</td>\n",
       "      <td>48,0</td>\n",
       "      <td>0,00</td>\n",
       "      <td>23,06</td>\n",
       "      <td>163,07</td>\n",
       "      <td>36,0</td>\n",
       "      <td>3,2</td>\n",
       "      <td>12,13</td>\n",
       "      <td>0,22</td>\n",
       "      <td>87,65</td>\n",
       "      <td>1</td>\n",
       "      <td>46,6</td>\n",
       "      <td>20,34</td>\n",
       "      <td>0,38</td>\n",
       "      <td>0,24</td>\n",
       "      <td>0,38</td>\n",
       "    </tr>\n",
       "    <tr>\n",
       "      <th>1</th>\n",
       "      <td>Albania</td>\n",
       "      <td>EASTERN EUROPE</td>\n",
       "      <td>124,6</td>\n",
       "      <td>1,26</td>\n",
       "      <td>-4,93</td>\n",
       "      <td>21,52</td>\n",
       "      <td>86,5</td>\n",
       "      <td>71,2</td>\n",
       "      <td>21,09</td>\n",
       "      <td>4,42</td>\n",
       "      <td>74,49</td>\n",
       "      <td>3</td>\n",
       "      <td>15,11</td>\n",
       "      <td>5,22</td>\n",
       "      <td>0,232</td>\n",
       "      <td>0,188</td>\n",
       "      <td>0,579</td>\n",
       "    </tr>\n",
       "    <tr>\n",
       "      <th>2</th>\n",
       "      <td>Algeria</td>\n",
       "      <td>NORTHERN AFRICA</td>\n",
       "      <td>13,8</td>\n",
       "      <td>0,04</td>\n",
       "      <td>-0,39</td>\n",
       "      <td>31</td>\n",
       "      <td>70,0</td>\n",
       "      <td>78,1</td>\n",
       "      <td>3,22</td>\n",
       "      <td>0,25</td>\n",
       "      <td>96,53</td>\n",
       "      <td>1</td>\n",
       "      <td>17,14</td>\n",
       "      <td>4,61</td>\n",
       "      <td>0,101</td>\n",
       "      <td>0,6</td>\n",
       "      <td>0,298</td>\n",
       "    </tr>\n",
       "    <tr>\n",
       "      <th>3</th>\n",
       "      <td>American Samoa</td>\n",
       "      <td>OCEANIA</td>\n",
       "      <td>290,4</td>\n",
       "      <td>58,29</td>\n",
       "      <td>-20,71</td>\n",
       "      <td>9,27</td>\n",
       "      <td>97,0</td>\n",
       "      <td>259,5</td>\n",
       "      <td>10</td>\n",
       "      <td>15</td>\n",
       "      <td>75</td>\n",
       "      <td>2</td>\n",
       "      <td>22,46</td>\n",
       "      <td>3,27</td>\n",
       "      <td>NaN</td>\n",
       "      <td>NaN</td>\n",
       "      <td>NaN</td>\n",
       "    </tr>\n",
       "    <tr>\n",
       "      <th>4</th>\n",
       "      <td>Andorra</td>\n",
       "      <td>WESTERN EUROPE</td>\n",
       "      <td>152,1</td>\n",
       "      <td>0,00</td>\n",
       "      <td>6,6</td>\n",
       "      <td>4,05</td>\n",
       "      <td>100,0</td>\n",
       "      <td>497,2</td>\n",
       "      <td>2,22</td>\n",
       "      <td>0</td>\n",
       "      <td>97,78</td>\n",
       "      <td>3</td>\n",
       "      <td>8,71</td>\n",
       "      <td>6,25</td>\n",
       "      <td>NaN</td>\n",
       "      <td>NaN</td>\n",
       "      <td>NaN</td>\n",
       "    </tr>\n",
       "    <tr>\n",
       "      <th>...</th>\n",
       "      <td>...</td>\n",
       "      <td>...</td>\n",
       "      <td>...</td>\n",
       "      <td>...</td>\n",
       "      <td>...</td>\n",
       "      <td>...</td>\n",
       "      <td>...</td>\n",
       "      <td>...</td>\n",
       "      <td>...</td>\n",
       "      <td>...</td>\n",
       "      <td>...</td>\n",
       "      <td>...</td>\n",
       "      <td>...</td>\n",
       "      <td>...</td>\n",
       "      <td>...</td>\n",
       "      <td>...</td>\n",
       "      <td>...</td>\n",
       "    </tr>\n",
       "    <tr>\n",
       "      <th>222</th>\n",
       "      <td>West Bank</td>\n",
       "      <td>NEAR EAST</td>\n",
       "      <td>419,9</td>\n",
       "      <td>0,00</td>\n",
       "      <td>2,98</td>\n",
       "      <td>19,62</td>\n",
       "      <td>NaN</td>\n",
       "      <td>145,2</td>\n",
       "      <td>16,9</td>\n",
       "      <td>18,97</td>\n",
       "      <td>64,13</td>\n",
       "      <td>3</td>\n",
       "      <td>31,67</td>\n",
       "      <td>3,92</td>\n",
       "      <td>0,09</td>\n",
       "      <td>0,28</td>\n",
       "      <td>0,63</td>\n",
       "    </tr>\n",
       "    <tr>\n",
       "      <th>223</th>\n",
       "      <td>Western Sahara</td>\n",
       "      <td>NORTHERN AFRICA</td>\n",
       "      <td>1,0</td>\n",
       "      <td>0,42</td>\n",
       "      <td>NaN</td>\n",
       "      <td>NaN</td>\n",
       "      <td>NaN</td>\n",
       "      <td>NaN</td>\n",
       "      <td>0,02</td>\n",
       "      <td>0</td>\n",
       "      <td>99,98</td>\n",
       "      <td>1</td>\n",
       "      <td>NaN</td>\n",
       "      <td>NaN</td>\n",
       "      <td>NaN</td>\n",
       "      <td>NaN</td>\n",
       "      <td>0,4</td>\n",
       "    </tr>\n",
       "    <tr>\n",
       "      <th>224</th>\n",
       "      <td>Yemen</td>\n",
       "      <td>NEAR EAST</td>\n",
       "      <td>40,6</td>\n",
       "      <td>0,36</td>\n",
       "      <td>0</td>\n",
       "      <td>61,5</td>\n",
       "      <td>50,2</td>\n",
       "      <td>37,2</td>\n",
       "      <td>2,78</td>\n",
       "      <td>0,24</td>\n",
       "      <td>96,98</td>\n",
       "      <td>1</td>\n",
       "      <td>42,89</td>\n",
       "      <td>8,3</td>\n",
       "      <td>0,135</td>\n",
       "      <td>0,472</td>\n",
       "      <td>0,393</td>\n",
       "    </tr>\n",
       "    <tr>\n",
       "      <th>225</th>\n",
       "      <td>Zambia</td>\n",
       "      <td>SUB-SAHARAN AFRICA</td>\n",
       "      <td>15,3</td>\n",
       "      <td>0,00</td>\n",
       "      <td>0</td>\n",
       "      <td>88,29</td>\n",
       "      <td>80,6</td>\n",
       "      <td>8,2</td>\n",
       "      <td>7,08</td>\n",
       "      <td>0,03</td>\n",
       "      <td>92,9</td>\n",
       "      <td>2</td>\n",
       "      <td>41</td>\n",
       "      <td>19,93</td>\n",
       "      <td>0,22</td>\n",
       "      <td>0,29</td>\n",
       "      <td>0,489</td>\n",
       "    </tr>\n",
       "    <tr>\n",
       "      <th>226</th>\n",
       "      <td>Zimbabwe</td>\n",
       "      <td>SUB-SAHARAN AFRICA</td>\n",
       "      <td>31,3</td>\n",
       "      <td>0,00</td>\n",
       "      <td>0</td>\n",
       "      <td>67,69</td>\n",
       "      <td>90,7</td>\n",
       "      <td>26,8</td>\n",
       "      <td>8,32</td>\n",
       "      <td>0,34</td>\n",
       "      <td>91,34</td>\n",
       "      <td>2</td>\n",
       "      <td>28,01</td>\n",
       "      <td>21,84</td>\n",
       "      <td>0,179</td>\n",
       "      <td>0,243</td>\n",
       "      <td>0,579</td>\n",
       "    </tr>\n",
       "  </tbody>\n",
       "</table>\n",
       "<p>227 rows × 17 columns</p>\n",
       "</div>"
      ],
      "text/plain": [
       "             Country                               Region  \\\n",
       "0       Afghanistan         ASIA (EX. NEAR EAST)            \n",
       "1           Albania   EASTERN EUROPE                        \n",
       "2           Algeria   NORTHERN AFRICA                       \n",
       "3    American Samoa   OCEANIA                               \n",
       "4           Andorra   WESTERN EUROPE                        \n",
       "..               ...                                  ...   \n",
       "222       West Bank   NEAR EAST                             \n",
       "223  Western Sahara   NORTHERN AFRICA                       \n",
       "224           Yemen   NEAR EAST                             \n",
       "225          Zambia   SUB-SAHARAN AFRICA                    \n",
       "226        Zimbabwe   SUB-SAHARAN AFRICA                    \n",
       "\n",
       "    Pop. Density (per sq. mi.) Coastline (coast/area ratio) Net migration  \\\n",
       "0                         48,0                         0,00         23,06   \n",
       "1                        124,6                         1,26         -4,93   \n",
       "2                         13,8                         0,04         -0,39   \n",
       "3                        290,4                        58,29        -20,71   \n",
       "4                        152,1                         0,00           6,6   \n",
       "..                         ...                          ...           ...   \n",
       "222                      419,9                         0,00          2,98   \n",
       "223                        1,0                         0,42           NaN   \n",
       "224                       40,6                         0,36             0   \n",
       "225                       15,3                         0,00             0   \n",
       "226                       31,3                         0,00             0   \n",
       "\n",
       "    Infant mortality (per 1000 births) Literacy (%) Phones (per 1000)  \\\n",
       "0                               163,07         36,0               3,2   \n",
       "1                                21,52         86,5              71,2   \n",
       "2                                   31         70,0              78,1   \n",
       "3                                 9,27         97,0             259,5   \n",
       "4                                 4,05        100,0             497,2   \n",
       "..                                 ...          ...               ...   \n",
       "222                              19,62          NaN             145,2   \n",
       "223                                NaN          NaN               NaN   \n",
       "224                               61,5         50,2              37,2   \n",
       "225                              88,29         80,6               8,2   \n",
       "226                              67,69         90,7              26,8   \n",
       "\n",
       "    Arable (%) Crops (%) Other (%) Climate Birthrate Deathrate Agriculture  \\\n",
       "0        12,13      0,22     87,65       1      46,6     20,34        0,38   \n",
       "1        21,09      4,42     74,49       3     15,11      5,22       0,232   \n",
       "2         3,22      0,25     96,53       1     17,14      4,61       0,101   \n",
       "3           10        15        75       2     22,46      3,27         NaN   \n",
       "4         2,22         0     97,78       3      8,71      6,25         NaN   \n",
       "..         ...       ...       ...     ...       ...       ...         ...   \n",
       "222       16,9     18,97     64,13       3     31,67      3,92        0,09   \n",
       "223       0,02         0     99,98       1       NaN       NaN         NaN   \n",
       "224       2,78      0,24     96,98       1     42,89       8,3       0,135   \n",
       "225       7,08      0,03      92,9       2        41     19,93        0,22   \n",
       "226       8,32      0,34     91,34       2     28,01     21,84       0,179   \n",
       "\n",
       "    Industry Service  \n",
       "0       0,24    0,38  \n",
       "1      0,188   0,579  \n",
       "2        0,6   0,298  \n",
       "3        NaN     NaN  \n",
       "4        NaN     NaN  \n",
       "..       ...     ...  \n",
       "222     0,28    0,63  \n",
       "223      NaN     0,4  \n",
       "224    0,472   0,393  \n",
       "225     0,29   0,489  \n",
       "226    0,243   0,579  \n",
       "\n",
       "[227 rows x 17 columns]"
      ]
     },
     "execution_count": 8,
     "metadata": {},
     "output_type": "execute_result"
    }
   ],
   "source": [
    "data.select_dtypes(object)"
   ]
  },
  {
   "cell_type": "markdown",
   "id": "fd3bf6a6",
   "metadata": {
    "papermill": {
     "duration": 0.026568,
     "end_time": "2023-07-01T19:09:25.592057",
     "exception": false,
     "start_time": "2023-07-01T19:09:25.565489",
     "status": "completed"
    },
    "tags": []
   },
   "source": [
    "\n",
    "# <a id=\"6.2\"></a>\n",
    "## <span style=\"color: #FF4450;\">  print rows and columns having the datatype as \"int64\".\n",
    "\n",
    "\n",
    "</p>\n",
    "\n",
    "<p style=\"text-align: center;\">\n",
    "    <!-- Content related to the bar chart can be added here -->\n",
    "</p>"
   ]
  },
  {
   "cell_type": "code",
   "execution_count": 9,
   "id": "fb6b2435",
   "metadata": {
    "execution": {
     "iopub.execute_input": "2023-07-01T19:09:25.648937Z",
     "iopub.status.busy": "2023-07-01T19:09:25.648518Z",
     "iopub.status.idle": "2023-07-01T19:09:25.661232Z",
     "shell.execute_reply": "2023-07-01T19:09:25.66036Z"
    },
    "papermill": {
     "duration": 0.044565,
     "end_time": "2023-07-01T19:09:25.663675",
     "exception": false,
     "start_time": "2023-07-01T19:09:25.61911",
     "status": "completed"
    },
    "tags": []
   },
   "outputs": [
    {
     "data": {
      "text/html": [
       "<div>\n",
       "<style scoped>\n",
       "    .dataframe tbody tr th:only-of-type {\n",
       "        vertical-align: middle;\n",
       "    }\n",
       "\n",
       "    .dataframe tbody tr th {\n",
       "        vertical-align: top;\n",
       "    }\n",
       "\n",
       "    .dataframe thead th {\n",
       "        text-align: right;\n",
       "    }\n",
       "</style>\n",
       "<table border=\"1\" class=\"dataframe\">\n",
       "  <thead>\n",
       "    <tr style=\"text-align: right;\">\n",
       "      <th></th>\n",
       "      <th>Population</th>\n",
       "      <th>Area (sq. mi.)</th>\n",
       "    </tr>\n",
       "  </thead>\n",
       "  <tbody>\n",
       "    <tr>\n",
       "      <th>0</th>\n",
       "      <td>31056997</td>\n",
       "      <td>647500</td>\n",
       "    </tr>\n",
       "    <tr>\n",
       "      <th>1</th>\n",
       "      <td>3581655</td>\n",
       "      <td>28748</td>\n",
       "    </tr>\n",
       "    <tr>\n",
       "      <th>2</th>\n",
       "      <td>32930091</td>\n",
       "      <td>2381740</td>\n",
       "    </tr>\n",
       "    <tr>\n",
       "      <th>3</th>\n",
       "      <td>57794</td>\n",
       "      <td>199</td>\n",
       "    </tr>\n",
       "    <tr>\n",
       "      <th>4</th>\n",
       "      <td>71201</td>\n",
       "      <td>468</td>\n",
       "    </tr>\n",
       "    <tr>\n",
       "      <th>...</th>\n",
       "      <td>...</td>\n",
       "      <td>...</td>\n",
       "    </tr>\n",
       "    <tr>\n",
       "      <th>222</th>\n",
       "      <td>2460492</td>\n",
       "      <td>5860</td>\n",
       "    </tr>\n",
       "    <tr>\n",
       "      <th>223</th>\n",
       "      <td>273008</td>\n",
       "      <td>266000</td>\n",
       "    </tr>\n",
       "    <tr>\n",
       "      <th>224</th>\n",
       "      <td>21456188</td>\n",
       "      <td>527970</td>\n",
       "    </tr>\n",
       "    <tr>\n",
       "      <th>225</th>\n",
       "      <td>11502010</td>\n",
       "      <td>752614</td>\n",
       "    </tr>\n",
       "    <tr>\n",
       "      <th>226</th>\n",
       "      <td>12236805</td>\n",
       "      <td>390580</td>\n",
       "    </tr>\n",
       "  </tbody>\n",
       "</table>\n",
       "<p>227 rows × 2 columns</p>\n",
       "</div>"
      ],
      "text/plain": [
       "     Population  Area (sq. mi.)\n",
       "0      31056997          647500\n",
       "1       3581655           28748\n",
       "2      32930091         2381740\n",
       "3         57794             199\n",
       "4         71201             468\n",
       "..          ...             ...\n",
       "222     2460492            5860\n",
       "223      273008          266000\n",
       "224    21456188          527970\n",
       "225    11502010          752614\n",
       "226    12236805          390580\n",
       "\n",
       "[227 rows x 2 columns]"
      ]
     },
     "execution_count": 9,
     "metadata": {},
     "output_type": "execute_result"
    }
   ],
   "source": [
    "data.select_dtypes('int64')"
   ]
  },
  {
   "cell_type": "code",
   "execution_count": 10,
   "id": "6d860f50",
   "metadata": {
    "execution": {
     "iopub.execute_input": "2023-07-01T19:09:25.721109Z",
     "iopub.status.busy": "2023-07-01T19:09:25.720359Z",
     "iopub.status.idle": "2023-07-01T19:09:25.727137Z",
     "shell.execute_reply": "2023-07-01T19:09:25.726153Z"
    },
    "papermill": {
     "duration": 0.038683,
     "end_time": "2023-07-01T19:09:25.729875",
     "exception": false,
     "start_time": "2023-07-01T19:09:25.691192",
     "status": "completed"
    },
    "tags": []
   },
   "outputs": [
    {
     "data": {
      "text/plain": [
       "\"Categorical Columns ['Country', 'Region', 'Pop. Density (per sq. mi.)', 'Coastline (coast/area ratio)', 'Net migration', 'Infant mortality (per 1000 births)', 'Literacy (%)', 'Phones (per 1000)', 'Arable (%)', 'Crops (%)', 'Other (%)', 'Climate', 'Birthrate', 'Deathrate', 'Agriculture', 'Industry', 'Service']\""
      ]
     },
     "execution_count": 10,
     "metadata": {},
     "output_type": "execute_result"
    }
   ],
   "source": [
    "f\"Categorical Columns {data.select_dtypes('object').columns.tolist()}\""
   ]
  },
  {
   "cell_type": "markdown",
   "id": "6338fc24",
   "metadata": {
    "papermill": {
     "duration": 0.027187,
     "end_time": "2023-07-01T19:09:25.785053",
     "exception": false,
     "start_time": "2023-07-01T19:09:25.757866",
     "status": "completed"
    },
    "tags": []
   },
   "source": [
    "\n",
    "# <a id=\"7\"></a>\n",
    "### <div style= \"font-family: Times New Roman; font-weight:bold; letter-spacing: 0px; color:WHITE; font-size:120%; text-align:left;padding:3.0px; background: brown; border-bottom: 8px solid WHITE\" > 7- Retrieving Columns By The Header Type .  <br><div>\n",
    "    \n",
    "# <a id=\"7.1\"></a>\n",
    "## <span style=\"color: #FF4450;\">  Print column Headers having the datatype as \"int64\".\n",
    "\n"
   ]
  },
  {
   "cell_type": "code",
   "execution_count": 11,
   "id": "bc673b57",
   "metadata": {
    "execution": {
     "iopub.execute_input": "2023-07-01T19:09:25.843296Z",
     "iopub.status.busy": "2023-07-01T19:09:25.842517Z",
     "iopub.status.idle": "2023-07-01T19:09:25.850083Z",
     "shell.execute_reply": "2023-07-01T19:09:25.848677Z"
    },
    "papermill": {
     "duration": 0.03966,
     "end_time": "2023-07-01T19:09:25.852989",
     "exception": false,
     "start_time": "2023-07-01T19:09:25.813329",
     "status": "completed"
    },
    "tags": []
   },
   "outputs": [
    {
     "data": {
      "text/plain": [
       "\"Numerical Columns ['Population', 'Area (sq. mi.)']\""
      ]
     },
     "execution_count": 11,
     "metadata": {},
     "output_type": "execute_result"
    }
   ],
   "source": [
    "f\"Numerical Columns {data.select_dtypes('int64').columns.tolist()}\""
   ]
  },
  {
   "cell_type": "markdown",
   "id": "ea480032",
   "metadata": {
    "papermill": {
     "duration": 0.027551,
     "end_time": "2023-07-01T19:09:25.909086",
     "exception": false,
     "start_time": "2023-07-01T19:09:25.881535",
     "status": "completed"
    },
    "tags": []
   },
   "source": [
    "\n",
    "\n",
    "\n",
    "\n",
    "## <span style=\"color: #FF4450;\"> Retrieving the head or first five records of datatype as int64\n",
    "\n"
   ]
  },
  {
   "cell_type": "code",
   "execution_count": 12,
   "id": "bad4e93d",
   "metadata": {
    "execution": {
     "iopub.execute_input": "2023-07-01T19:09:25.967334Z",
     "iopub.status.busy": "2023-07-01T19:09:25.9665Z",
     "iopub.status.idle": "2023-07-01T19:09:25.979924Z",
     "shell.execute_reply": "2023-07-01T19:09:25.978562Z"
    },
    "papermill": {
     "duration": 0.045236,
     "end_time": "2023-07-01T19:09:25.982594",
     "exception": false,
     "start_time": "2023-07-01T19:09:25.937358",
     "status": "completed"
    },
    "tags": []
   },
   "outputs": [
    {
     "data": {
      "text/html": [
       "<div>\n",
       "<style scoped>\n",
       "    .dataframe tbody tr th:only-of-type {\n",
       "        vertical-align: middle;\n",
       "    }\n",
       "\n",
       "    .dataframe tbody tr th {\n",
       "        vertical-align: top;\n",
       "    }\n",
       "\n",
       "    .dataframe thead th {\n",
       "        text-align: right;\n",
       "    }\n",
       "</style>\n",
       "<table border=\"1\" class=\"dataframe\">\n",
       "  <thead>\n",
       "    <tr style=\"text-align: right;\">\n",
       "      <th></th>\n",
       "      <th>Population</th>\n",
       "      <th>Area (sq. mi.)</th>\n",
       "    </tr>\n",
       "  </thead>\n",
       "  <tbody>\n",
       "    <tr>\n",
       "      <th>0</th>\n",
       "      <td>31056997</td>\n",
       "      <td>647500</td>\n",
       "    </tr>\n",
       "    <tr>\n",
       "      <th>1</th>\n",
       "      <td>3581655</td>\n",
       "      <td>28748</td>\n",
       "    </tr>\n",
       "    <tr>\n",
       "      <th>2</th>\n",
       "      <td>32930091</td>\n",
       "      <td>2381740</td>\n",
       "    </tr>\n",
       "    <tr>\n",
       "      <th>3</th>\n",
       "      <td>57794</td>\n",
       "      <td>199</td>\n",
       "    </tr>\n",
       "    <tr>\n",
       "      <th>4</th>\n",
       "      <td>71201</td>\n",
       "      <td>468</td>\n",
       "    </tr>\n",
       "  </tbody>\n",
       "</table>\n",
       "</div>"
      ],
      "text/plain": [
       "   Population  Area (sq. mi.)\n",
       "0    31056997          647500\n",
       "1     3581655           28748\n",
       "2    32930091         2381740\n",
       "3       57794             199\n",
       "4       71201             468"
      ]
     },
     "execution_count": 12,
     "metadata": {},
     "output_type": "execute_result"
    }
   ],
   "source": [
    "data.select_dtypes('int64').head()"
   ]
  },
  {
   "cell_type": "markdown",
   "id": "afb5191f",
   "metadata": {
    "papermill": {
     "duration": 0.02762,
     "end_time": "2023-07-01T19:09:26.040582",
     "exception": false,
     "start_time": "2023-07-01T19:09:26.012962",
     "status": "completed"
    },
    "tags": []
   },
   "source": [
    "\n",
    "\n",
    "\n",
    "\n",
    "\n",
    "\n",
    "## <span style=\"color: #FF4450;\"> Doing the same for objects:\n"
   ]
  },
  {
   "cell_type": "code",
   "execution_count": 13,
   "id": "15200a97",
   "metadata": {
    "execution": {
     "iopub.execute_input": "2023-07-01T19:09:26.100319Z",
     "iopub.status.busy": "2023-07-01T19:09:26.099877Z",
     "iopub.status.idle": "2023-07-01T19:09:26.122377Z",
     "shell.execute_reply": "2023-07-01T19:09:26.121023Z"
    },
    "papermill": {
     "duration": 0.056319,
     "end_time": "2023-07-01T19:09:26.12479",
     "exception": false,
     "start_time": "2023-07-01T19:09:26.068471",
     "status": "completed"
    },
    "tags": []
   },
   "outputs": [
    {
     "data": {
      "text/html": [
       "<div>\n",
       "<style scoped>\n",
       "    .dataframe tbody tr th:only-of-type {\n",
       "        vertical-align: middle;\n",
       "    }\n",
       "\n",
       "    .dataframe tbody tr th {\n",
       "        vertical-align: top;\n",
       "    }\n",
       "\n",
       "    .dataframe thead th {\n",
       "        text-align: right;\n",
       "    }\n",
       "</style>\n",
       "<table border=\"1\" class=\"dataframe\">\n",
       "  <thead>\n",
       "    <tr style=\"text-align: right;\">\n",
       "      <th></th>\n",
       "      <th>Country</th>\n",
       "      <th>Region</th>\n",
       "      <th>Pop. Density (per sq. mi.)</th>\n",
       "      <th>Coastline (coast/area ratio)</th>\n",
       "      <th>Net migration</th>\n",
       "      <th>Infant mortality (per 1000 births)</th>\n",
       "      <th>Literacy (%)</th>\n",
       "      <th>Phones (per 1000)</th>\n",
       "      <th>Arable (%)</th>\n",
       "      <th>Crops (%)</th>\n",
       "      <th>Other (%)</th>\n",
       "      <th>Climate</th>\n",
       "      <th>Birthrate</th>\n",
       "      <th>Deathrate</th>\n",
       "      <th>Agriculture</th>\n",
       "      <th>Industry</th>\n",
       "      <th>Service</th>\n",
       "    </tr>\n",
       "  </thead>\n",
       "  <tbody>\n",
       "    <tr>\n",
       "      <th>0</th>\n",
       "      <td>Afghanistan</td>\n",
       "      <td>ASIA (EX. NEAR EAST)</td>\n",
       "      <td>48,0</td>\n",
       "      <td>0,00</td>\n",
       "      <td>23,06</td>\n",
       "      <td>163,07</td>\n",
       "      <td>36,0</td>\n",
       "      <td>3,2</td>\n",
       "      <td>12,13</td>\n",
       "      <td>0,22</td>\n",
       "      <td>87,65</td>\n",
       "      <td>1</td>\n",
       "      <td>46,6</td>\n",
       "      <td>20,34</td>\n",
       "      <td>0,38</td>\n",
       "      <td>0,24</td>\n",
       "      <td>0,38</td>\n",
       "    </tr>\n",
       "    <tr>\n",
       "      <th>1</th>\n",
       "      <td>Albania</td>\n",
       "      <td>EASTERN EUROPE</td>\n",
       "      <td>124,6</td>\n",
       "      <td>1,26</td>\n",
       "      <td>-4,93</td>\n",
       "      <td>21,52</td>\n",
       "      <td>86,5</td>\n",
       "      <td>71,2</td>\n",
       "      <td>21,09</td>\n",
       "      <td>4,42</td>\n",
       "      <td>74,49</td>\n",
       "      <td>3</td>\n",
       "      <td>15,11</td>\n",
       "      <td>5,22</td>\n",
       "      <td>0,232</td>\n",
       "      <td>0,188</td>\n",
       "      <td>0,579</td>\n",
       "    </tr>\n",
       "    <tr>\n",
       "      <th>2</th>\n",
       "      <td>Algeria</td>\n",
       "      <td>NORTHERN AFRICA</td>\n",
       "      <td>13,8</td>\n",
       "      <td>0,04</td>\n",
       "      <td>-0,39</td>\n",
       "      <td>31</td>\n",
       "      <td>70,0</td>\n",
       "      <td>78,1</td>\n",
       "      <td>3,22</td>\n",
       "      <td>0,25</td>\n",
       "      <td>96,53</td>\n",
       "      <td>1</td>\n",
       "      <td>17,14</td>\n",
       "      <td>4,61</td>\n",
       "      <td>0,101</td>\n",
       "      <td>0,6</td>\n",
       "      <td>0,298</td>\n",
       "    </tr>\n",
       "    <tr>\n",
       "      <th>3</th>\n",
       "      <td>American Samoa</td>\n",
       "      <td>OCEANIA</td>\n",
       "      <td>290,4</td>\n",
       "      <td>58,29</td>\n",
       "      <td>-20,71</td>\n",
       "      <td>9,27</td>\n",
       "      <td>97,0</td>\n",
       "      <td>259,5</td>\n",
       "      <td>10</td>\n",
       "      <td>15</td>\n",
       "      <td>75</td>\n",
       "      <td>2</td>\n",
       "      <td>22,46</td>\n",
       "      <td>3,27</td>\n",
       "      <td>NaN</td>\n",
       "      <td>NaN</td>\n",
       "      <td>NaN</td>\n",
       "    </tr>\n",
       "    <tr>\n",
       "      <th>4</th>\n",
       "      <td>Andorra</td>\n",
       "      <td>WESTERN EUROPE</td>\n",
       "      <td>152,1</td>\n",
       "      <td>0,00</td>\n",
       "      <td>6,6</td>\n",
       "      <td>4,05</td>\n",
       "      <td>100,0</td>\n",
       "      <td>497,2</td>\n",
       "      <td>2,22</td>\n",
       "      <td>0</td>\n",
       "      <td>97,78</td>\n",
       "      <td>3</td>\n",
       "      <td>8,71</td>\n",
       "      <td>6,25</td>\n",
       "      <td>NaN</td>\n",
       "      <td>NaN</td>\n",
       "      <td>NaN</td>\n",
       "    </tr>\n",
       "  </tbody>\n",
       "</table>\n",
       "</div>"
      ],
      "text/plain": [
       "           Country                               Region  \\\n",
       "0     Afghanistan         ASIA (EX. NEAR EAST)            \n",
       "1         Albania   EASTERN EUROPE                        \n",
       "2         Algeria   NORTHERN AFRICA                       \n",
       "3  American Samoa   OCEANIA                               \n",
       "4         Andorra   WESTERN EUROPE                        \n",
       "\n",
       "  Pop. Density (per sq. mi.) Coastline (coast/area ratio) Net migration  \\\n",
       "0                       48,0                         0,00         23,06   \n",
       "1                      124,6                         1,26         -4,93   \n",
       "2                       13,8                         0,04         -0,39   \n",
       "3                      290,4                        58,29        -20,71   \n",
       "4                      152,1                         0,00           6,6   \n",
       "\n",
       "  Infant mortality (per 1000 births) Literacy (%) Phones (per 1000)  \\\n",
       "0                             163,07         36,0               3,2   \n",
       "1                              21,52         86,5              71,2   \n",
       "2                                 31         70,0              78,1   \n",
       "3                               9,27         97,0             259,5   \n",
       "4                               4,05        100,0             497,2   \n",
       "\n",
       "  Arable (%) Crops (%) Other (%) Climate Birthrate Deathrate Agriculture  \\\n",
       "0      12,13      0,22     87,65       1      46,6     20,34        0,38   \n",
       "1      21,09      4,42     74,49       3     15,11      5,22       0,232   \n",
       "2       3,22      0,25     96,53       1     17,14      4,61       0,101   \n",
       "3         10        15        75       2     22,46      3,27         NaN   \n",
       "4       2,22         0     97,78       3      8,71      6,25         NaN   \n",
       "\n",
       "  Industry Service  \n",
       "0     0,24    0,38  \n",
       "1    0,188   0,579  \n",
       "2      0,6   0,298  \n",
       "3      NaN     NaN  \n",
       "4      NaN     NaN  "
      ]
     },
     "execution_count": 13,
     "metadata": {},
     "output_type": "execute_result"
    }
   ],
   "source": [
    "data.select_dtypes('object').head()"
   ]
  },
  {
   "cell_type": "markdown",
   "id": "7b671aeb",
   "metadata": {
    "papermill": {
     "duration": 0.029385,
     "end_time": "2023-07-01T19:09:26.182701",
     "exception": false,
     "start_time": "2023-07-01T19:09:26.153316",
     "status": "completed"
    },
    "tags": []
   },
   "source": [
    "\n",
    "# <a id=\"8\"></a>\n",
    "### <div style= \"font-family: Times New Roman; font-weight:bold; letter-spacing: 0px; color:WHITE; font-size:120%; text-align:left;padding:3.0px; background: brown; border-bottom: 8px solid WHITE\" > 8 - Formatting Data .  <br><div>"
   ]
  },
  {
   "cell_type": "markdown",
   "id": "dd36dde0",
   "metadata": {
    "papermill": {
     "duration": 0.031315,
     "end_time": "2023-07-01T19:09:26.242818",
     "exception": false,
     "start_time": "2023-07-01T19:09:26.211503",
     "status": "completed"
    },
    "tags": []
   },
   "source": [
    "\n",
    "\n",
    "\n",
    "\n",
    "\n",
    "\n",
    "\n",
    "## <span style=\"color: #FF4450;\"> Formatting the dataframes: \n",
    "\n",
    "\n",
    "</p>\n",
    "\n",
    "<p style=\"text-align: center;\">\n",
    "    <!-- Content related to the bar chart can be added here -->\n",
    "</p>"
   ]
  },
  {
   "cell_type": "code",
   "execution_count": 14,
   "id": "bfb30fd3",
   "metadata": {
    "execution": {
     "iopub.execute_input": "2023-07-01T19:09:26.304248Z",
     "iopub.status.busy": "2023-07-01T19:09:26.303438Z",
     "iopub.status.idle": "2023-07-01T19:09:26.497355Z",
     "shell.execute_reply": "2023-07-01T19:09:26.495879Z"
    },
    "papermill": {
     "duration": 0.228485,
     "end_time": "2023-07-01T19:09:26.500395",
     "exception": false,
     "start_time": "2023-07-01T19:09:26.27191",
     "status": "completed"
    },
    "tags": []
   },
   "outputs": [
    {
     "data": {
      "text/html": [
       "<style type=\"text/css\">\n",
       "#T_0b67c_row0_col0, #T_0b67c_row2_col0, #T_0b67c_row36_col0 {\n",
       "  background-color: #790622;\n",
       "  color: #f1f1f1;\n",
       "}\n",
       "#T_0b67c_row0_col1 {\n",
       "  background-color: #960f27;\n",
       "  color: #f1f1f1;\n",
       "}\n",
       "#T_0b67c_row1_col0, #T_0b67c_row1_col1, #T_0b67c_row3_col0, #T_0b67c_row3_col1, #T_0b67c_row4_col0, #T_0b67c_row4_col1, #T_0b67c_row6_col0, #T_0b67c_row6_col1, #T_0b67c_row7_col0, #T_0b67c_row7_col1, #T_0b67c_row9_col0, #T_0b67c_row9_col1, #T_0b67c_row10_col0, #T_0b67c_row10_col1, #T_0b67c_row14_col0, #T_0b67c_row14_col1, #T_0b67c_row15_col0, #T_0b67c_row15_col1, #T_0b67c_row17_col0, #T_0b67c_row17_col1, #T_0b67c_row19_col1, #T_0b67c_row20_col0, #T_0b67c_row20_col1, #T_0b67c_row22_col0, #T_0b67c_row22_col1, #T_0b67c_row23_col0, #T_0b67c_row25_col0, #T_0b67c_row26_col0, #T_0b67c_row28_col0, #T_0b67c_row28_col1, #T_0b67c_row29_col0, #T_0b67c_row29_col1, #T_0b67c_row33_col1, #T_0b67c_row37_col0, #T_0b67c_row37_col1, #T_0b67c_row38_col0, #T_0b67c_row38_col1, #T_0b67c_row39_col0, #T_0b67c_row44_col0, #T_0b67c_row44_col1, #T_0b67c_row46_col0, #T_0b67c_row47_col0, #T_0b67c_row47_col1, #T_0b67c_row48_col0 {\n",
       "  background-color: #67001f;\n",
       "  color: #f1f1f1;\n",
       "}\n",
       "#T_0b67c_row2_col1 {\n",
       "  background-color: #e27b62;\n",
       "  color: #f1f1f1;\n",
       "}\n",
       "#T_0b67c_row5_col0, #T_0b67c_row12_col1, #T_0b67c_row13_col1, #T_0b67c_row18_col0, #T_0b67c_row19_col0, #T_0b67c_row21_col1, #T_0b67c_row30_col1, #T_0b67c_row31_col0, #T_0b67c_row34_col0 {\n",
       "  background-color: #6d0220;\n",
       "  color: #f1f1f1;\n",
       "}\n",
       "#T_0b67c_row5_col1 {\n",
       "  background-color: #ba2832;\n",
       "  color: #f1f1f1;\n",
       "}\n",
       "#T_0b67c_row8_col0, #T_0b67c_row31_col1 {\n",
       "  background-color: #7c0722;\n",
       "  color: #f1f1f1;\n",
       "}\n",
       "#T_0b67c_row8_col1 {\n",
       "  background-color: #ec9374;\n",
       "  color: #f1f1f1;\n",
       "}\n",
       "#T_0b67c_row11_col0, #T_0b67c_row16_col1, #T_0b67c_row35_col0, #T_0b67c_row41_col0, #T_0b67c_row49_col0 {\n",
       "  background-color: #700320;\n",
       "  color: #f1f1f1;\n",
       "}\n",
       "#T_0b67c_row11_col1 {\n",
       "  background-color: #59a1ca;\n",
       "  color: #f1f1f1;\n",
       "}\n",
       "#T_0b67c_row12_col0, #T_0b67c_row13_col0, #T_0b67c_row21_col0, #T_0b67c_row23_col1, #T_0b67c_row24_col0, #T_0b67c_row25_col1, #T_0b67c_row30_col0, #T_0b67c_row33_col0, #T_0b67c_row40_col0, #T_0b67c_row48_col1 {\n",
       "  background-color: #6a011f;\n",
       "  color: #f1f1f1;\n",
       "}\n",
       "#T_0b67c_row16_col0, #T_0b67c_row24_col1 {\n",
       "  background-color: #b61f2e;\n",
       "  color: #f1f1f1;\n",
       "}\n",
       "#T_0b67c_row18_col1 {\n",
       "  background-color: #760521;\n",
       "  color: #f1f1f1;\n",
       "}\n",
       "#T_0b67c_row26_col1, #T_0b67c_row39_col1 {\n",
       "  background-color: #930e26;\n",
       "  color: #f1f1f1;\n",
       "}\n",
       "#T_0b67c_row27_col0 {\n",
       "  background-color: #c13639;\n",
       "  color: #f1f1f1;\n",
       "}\n",
       "#T_0b67c_row27_col1 {\n",
       "  background-color: #307ab6;\n",
       "  color: #f1f1f1;\n",
       "}\n",
       "#T_0b67c_row32_col0 {\n",
       "  background-color: #810823;\n",
       "  color: #f1f1f1;\n",
       "}\n",
       "#T_0b67c_row32_col1 {\n",
       "  background-color: #991027;\n",
       "  color: #f1f1f1;\n",
       "}\n",
       "#T_0b67c_row34_col1 {\n",
       "  background-color: #730421;\n",
       "  color: #f1f1f1;\n",
       "}\n",
       "#T_0b67c_row35_col1, #T_0b67c_row45_col0 {\n",
       "  background-color: #8a0b25;\n",
       "  color: #f1f1f1;\n",
       "}\n",
       "#T_0b67c_row36_col1, #T_0b67c_row42_col0 {\n",
       "  background-color: #053061;\n",
       "  color: #f1f1f1;\n",
       "}\n",
       "#T_0b67c_row40_col1 {\n",
       "  background-color: #bb2a34;\n",
       "  color: #f1f1f1;\n",
       "}\n",
       "#T_0b67c_row41_col1 {\n",
       "  background-color: #9f1228;\n",
       "  color: #f1f1f1;\n",
       "}\n",
       "#T_0b67c_row42_col1 {\n",
       "  background-color: #0f437b;\n",
       "  color: #f1f1f1;\n",
       "}\n",
       "#T_0b67c_row43_col0, #T_0b67c_row46_col1, #T_0b67c_row49_col1 {\n",
       "  background-color: #7f0823;\n",
       "  color: #f1f1f1;\n",
       "}\n",
       "#T_0b67c_row43_col1 {\n",
       "  background-color: #b72230;\n",
       "  color: #f1f1f1;\n",
       "}\n",
       "#T_0b67c_row45_col1 {\n",
       "  background-color: #e17860;\n",
       "  color: #f1f1f1;\n",
       "}\n",
       "</style>\n",
       "<table id=\"T_0b67c\">\n",
       "  <thead>\n",
       "    <tr>\n",
       "      <th class=\"blank level0\" >&nbsp;</th>\n",
       "      <th id=\"T_0b67c_level0_col0\" class=\"col_heading level0 col0\" >Population</th>\n",
       "      <th id=\"T_0b67c_level0_col1\" class=\"col_heading level0 col1\" >Area (sq. mi.)</th>\n",
       "    </tr>\n",
       "  </thead>\n",
       "  <tbody>\n",
       "    <tr>\n",
       "      <th id=\"T_0b67c_level0_row0\" class=\"row_heading level0 row0\" >0</th>\n",
       "      <td id=\"T_0b67c_row0_col0\" class=\"data row0 col0\" >31056997</td>\n",
       "      <td id=\"T_0b67c_row0_col1\" class=\"data row0 col1\" >647500</td>\n",
       "    </tr>\n",
       "    <tr>\n",
       "      <th id=\"T_0b67c_level0_row1\" class=\"row_heading level0 row1\" >1</th>\n",
       "      <td id=\"T_0b67c_row1_col0\" class=\"data row1 col0\" >3581655</td>\n",
       "      <td id=\"T_0b67c_row1_col1\" class=\"data row1 col1\" >28748</td>\n",
       "    </tr>\n",
       "    <tr>\n",
       "      <th id=\"T_0b67c_level0_row2\" class=\"row_heading level0 row2\" >2</th>\n",
       "      <td id=\"T_0b67c_row2_col0\" class=\"data row2 col0\" >32930091</td>\n",
       "      <td id=\"T_0b67c_row2_col1\" class=\"data row2 col1\" >2381740</td>\n",
       "    </tr>\n",
       "    <tr>\n",
       "      <th id=\"T_0b67c_level0_row3\" class=\"row_heading level0 row3\" >3</th>\n",
       "      <td id=\"T_0b67c_row3_col0\" class=\"data row3 col0\" >57794</td>\n",
       "      <td id=\"T_0b67c_row3_col1\" class=\"data row3 col1\" >199</td>\n",
       "    </tr>\n",
       "    <tr>\n",
       "      <th id=\"T_0b67c_level0_row4\" class=\"row_heading level0 row4\" >4</th>\n",
       "      <td id=\"T_0b67c_row4_col0\" class=\"data row4 col0\" >71201</td>\n",
       "      <td id=\"T_0b67c_row4_col1\" class=\"data row4 col1\" >468</td>\n",
       "    </tr>\n",
       "    <tr>\n",
       "      <th id=\"T_0b67c_level0_row5\" class=\"row_heading level0 row5\" >5</th>\n",
       "      <td id=\"T_0b67c_row5_col0\" class=\"data row5 col0\" >12127071</td>\n",
       "      <td id=\"T_0b67c_row5_col1\" class=\"data row5 col1\" >1246700</td>\n",
       "    </tr>\n",
       "    <tr>\n",
       "      <th id=\"T_0b67c_level0_row6\" class=\"row_heading level0 row6\" >6</th>\n",
       "      <td id=\"T_0b67c_row6_col0\" class=\"data row6 col0\" >13477</td>\n",
       "      <td id=\"T_0b67c_row6_col1\" class=\"data row6 col1\" >102</td>\n",
       "    </tr>\n",
       "    <tr>\n",
       "      <th id=\"T_0b67c_level0_row7\" class=\"row_heading level0 row7\" >7</th>\n",
       "      <td id=\"T_0b67c_row7_col0\" class=\"data row7 col0\" >69108</td>\n",
       "      <td id=\"T_0b67c_row7_col1\" class=\"data row7 col1\" >443</td>\n",
       "    </tr>\n",
       "    <tr>\n",
       "      <th id=\"T_0b67c_level0_row8\" class=\"row_heading level0 row8\" >8</th>\n",
       "      <td id=\"T_0b67c_row8_col0\" class=\"data row8 col0\" >39921833</td>\n",
       "      <td id=\"T_0b67c_row8_col1\" class=\"data row8 col1\" >2766890</td>\n",
       "    </tr>\n",
       "    <tr>\n",
       "      <th id=\"T_0b67c_level0_row9\" class=\"row_heading level0 row9\" >9</th>\n",
       "      <td id=\"T_0b67c_row9_col0\" class=\"data row9 col0\" >2976372</td>\n",
       "      <td id=\"T_0b67c_row9_col1\" class=\"data row9 col1\" >29800</td>\n",
       "    </tr>\n",
       "    <tr>\n",
       "      <th id=\"T_0b67c_level0_row10\" class=\"row_heading level0 row10\" >10</th>\n",
       "      <td id=\"T_0b67c_row10_col0\" class=\"data row10 col0\" >71891</td>\n",
       "      <td id=\"T_0b67c_row10_col1\" class=\"data row10 col1\" >193</td>\n",
       "    </tr>\n",
       "    <tr>\n",
       "      <th id=\"T_0b67c_level0_row11\" class=\"row_heading level0 row11\" >11</th>\n",
       "      <td id=\"T_0b67c_row11_col0\" class=\"data row11 col0\" >20264082</td>\n",
       "      <td id=\"T_0b67c_row11_col1\" class=\"data row11 col1\" >7686850</td>\n",
       "    </tr>\n",
       "    <tr>\n",
       "      <th id=\"T_0b67c_level0_row12\" class=\"row_heading level0 row12\" >12</th>\n",
       "      <td id=\"T_0b67c_row12_col0\" class=\"data row12 col0\" >8192880</td>\n",
       "      <td id=\"T_0b67c_row12_col1\" class=\"data row12 col1\" >83870</td>\n",
       "    </tr>\n",
       "    <tr>\n",
       "      <th id=\"T_0b67c_level0_row13\" class=\"row_heading level0 row13\" >13</th>\n",
       "      <td id=\"T_0b67c_row13_col0\" class=\"data row13 col0\" >7961619</td>\n",
       "      <td id=\"T_0b67c_row13_col1\" class=\"data row13 col1\" >86600</td>\n",
       "    </tr>\n",
       "    <tr>\n",
       "      <th id=\"T_0b67c_level0_row14\" class=\"row_heading level0 row14\" >14</th>\n",
       "      <td id=\"T_0b67c_row14_col0\" class=\"data row14 col0\" >303770</td>\n",
       "      <td id=\"T_0b67c_row14_col1\" class=\"data row14 col1\" >13940</td>\n",
       "    </tr>\n",
       "    <tr>\n",
       "      <th id=\"T_0b67c_level0_row15\" class=\"row_heading level0 row15\" >15</th>\n",
       "      <td id=\"T_0b67c_row15_col0\" class=\"data row15 col0\" >698585</td>\n",
       "      <td id=\"T_0b67c_row15_col1\" class=\"data row15 col1\" >665</td>\n",
       "    </tr>\n",
       "    <tr>\n",
       "      <th id=\"T_0b67c_level0_row16\" class=\"row_heading level0 row16\" >16</th>\n",
       "      <td id=\"T_0b67c_row16_col0\" class=\"data row16 col0\" >147365352</td>\n",
       "      <td id=\"T_0b67c_row16_col1\" class=\"data row16 col1\" >144000</td>\n",
       "    </tr>\n",
       "    <tr>\n",
       "      <th id=\"T_0b67c_level0_row17\" class=\"row_heading level0 row17\" >17</th>\n",
       "      <td id=\"T_0b67c_row17_col0\" class=\"data row17 col0\" >279912</td>\n",
       "      <td id=\"T_0b67c_row17_col1\" class=\"data row17 col1\" >431</td>\n",
       "    </tr>\n",
       "    <tr>\n",
       "      <th id=\"T_0b67c_level0_row18\" class=\"row_heading level0 row18\" >18</th>\n",
       "      <td id=\"T_0b67c_row18_col0\" class=\"data row18 col0\" >10293011</td>\n",
       "      <td id=\"T_0b67c_row18_col1\" class=\"data row18 col1\" >207600</td>\n",
       "    </tr>\n",
       "    <tr>\n",
       "      <th id=\"T_0b67c_level0_row19\" class=\"row_heading level0 row19\" >19</th>\n",
       "      <td id=\"T_0b67c_row19_col0\" class=\"data row19 col0\" >10379067</td>\n",
       "      <td id=\"T_0b67c_row19_col1\" class=\"data row19 col1\" >30528</td>\n",
       "    </tr>\n",
       "    <tr>\n",
       "      <th id=\"T_0b67c_level0_row20\" class=\"row_heading level0 row20\" >20</th>\n",
       "      <td id=\"T_0b67c_row20_col0\" class=\"data row20 col0\" >287730</td>\n",
       "      <td id=\"T_0b67c_row20_col1\" class=\"data row20 col1\" >22966</td>\n",
       "    </tr>\n",
       "    <tr>\n",
       "      <th id=\"T_0b67c_level0_row21\" class=\"row_heading level0 row21\" >21</th>\n",
       "      <td id=\"T_0b67c_row21_col0\" class=\"data row21 col0\" >7862944</td>\n",
       "      <td id=\"T_0b67c_row21_col1\" class=\"data row21 col1\" >112620</td>\n",
       "    </tr>\n",
       "    <tr>\n",
       "      <th id=\"T_0b67c_level0_row22\" class=\"row_heading level0 row22\" >22</th>\n",
       "      <td id=\"T_0b67c_row22_col0\" class=\"data row22 col0\" >65773</td>\n",
       "      <td id=\"T_0b67c_row22_col1\" class=\"data row22 col1\" >53</td>\n",
       "    </tr>\n",
       "    <tr>\n",
       "      <th id=\"T_0b67c_level0_row23\" class=\"row_heading level0 row23\" >23</th>\n",
       "      <td id=\"T_0b67c_row23_col0\" class=\"data row23 col0\" >2279723</td>\n",
       "      <td id=\"T_0b67c_row23_col1\" class=\"data row23 col1\" >47000</td>\n",
       "    </tr>\n",
       "    <tr>\n",
       "      <th id=\"T_0b67c_level0_row24\" class=\"row_heading level0 row24\" >24</th>\n",
       "      <td id=\"T_0b67c_row24_col0\" class=\"data row24 col0\" >8989046</td>\n",
       "      <td id=\"T_0b67c_row24_col1\" class=\"data row24 col1\" >1098580</td>\n",
       "    </tr>\n",
       "    <tr>\n",
       "      <th id=\"T_0b67c_level0_row25\" class=\"row_heading level0 row25\" >25</th>\n",
       "      <td id=\"T_0b67c_row25_col0\" class=\"data row25 col0\" >4498976</td>\n",
       "      <td id=\"T_0b67c_row25_col1\" class=\"data row25 col1\" >51129</td>\n",
       "    </tr>\n",
       "    <tr>\n",
       "      <th id=\"T_0b67c_level0_row26\" class=\"row_heading level0 row26\" >26</th>\n",
       "      <td id=\"T_0b67c_row26_col0\" class=\"data row26 col0\" >1639833</td>\n",
       "      <td id=\"T_0b67c_row26_col1\" class=\"data row26 col1\" >600370</td>\n",
       "    </tr>\n",
       "    <tr>\n",
       "      <th id=\"T_0b67c_level0_row27\" class=\"row_heading level0 row27\" >27</th>\n",
       "      <td id=\"T_0b67c_row27_col0\" class=\"data row27 col0\" >188078227</td>\n",
       "      <td id=\"T_0b67c_row27_col1\" class=\"data row27 col1\" >8511965</td>\n",
       "    </tr>\n",
       "    <tr>\n",
       "      <th id=\"T_0b67c_level0_row28\" class=\"row_heading level0 row28\" >28</th>\n",
       "      <td id=\"T_0b67c_row28_col0\" class=\"data row28 col0\" >23098</td>\n",
       "      <td id=\"T_0b67c_row28_col1\" class=\"data row28 col1\" >153</td>\n",
       "    </tr>\n",
       "    <tr>\n",
       "      <th id=\"T_0b67c_level0_row29\" class=\"row_heading level0 row29\" >29</th>\n",
       "      <td id=\"T_0b67c_row29_col0\" class=\"data row29 col0\" >379444</td>\n",
       "      <td id=\"T_0b67c_row29_col1\" class=\"data row29 col1\" >5770</td>\n",
       "    </tr>\n",
       "    <tr>\n",
       "      <th id=\"T_0b67c_level0_row30\" class=\"row_heading level0 row30\" >30</th>\n",
       "      <td id=\"T_0b67c_row30_col0\" class=\"data row30 col0\" >7385367</td>\n",
       "      <td id=\"T_0b67c_row30_col1\" class=\"data row30 col1\" >110910</td>\n",
       "    </tr>\n",
       "    <tr>\n",
       "      <th id=\"T_0b67c_level0_row31\" class=\"row_heading level0 row31\" >31</th>\n",
       "      <td id=\"T_0b67c_row31_col0\" class=\"data row31 col0\" >13902972</td>\n",
       "      <td id=\"T_0b67c_row31_col1\" class=\"data row31 col1\" >274200</td>\n",
       "    </tr>\n",
       "    <tr>\n",
       "      <th id=\"T_0b67c_level0_row32\" class=\"row_heading level0 row32\" >32</th>\n",
       "      <td id=\"T_0b67c_row32_col0\" class=\"data row32 col0\" >47382633</td>\n",
       "      <td id=\"T_0b67c_row32_col1\" class=\"data row32 col1\" >678500</td>\n",
       "    </tr>\n",
       "    <tr>\n",
       "      <th id=\"T_0b67c_level0_row33\" class=\"row_heading level0 row33\" >33</th>\n",
       "      <td id=\"T_0b67c_row33_col0\" class=\"data row33 col0\" >8090068</td>\n",
       "      <td id=\"T_0b67c_row33_col1\" class=\"data row33 col1\" >27830</td>\n",
       "    </tr>\n",
       "    <tr>\n",
       "      <th id=\"T_0b67c_level0_row34\" class=\"row_heading level0 row34\" >34</th>\n",
       "      <td id=\"T_0b67c_row34_col0\" class=\"data row34 col0\" >13881427</td>\n",
       "      <td id=\"T_0b67c_row34_col1\" class=\"data row34 col1\" >181040</td>\n",
       "    </tr>\n",
       "    <tr>\n",
       "      <th id=\"T_0b67c_level0_row35\" class=\"row_heading level0 row35\" >35</th>\n",
       "      <td id=\"T_0b67c_row35_col0\" class=\"data row35 col0\" >17340702</td>\n",
       "      <td id=\"T_0b67c_row35_col1\" class=\"data row35 col1\" >475440</td>\n",
       "    </tr>\n",
       "    <tr>\n",
       "      <th id=\"T_0b67c_level0_row36\" class=\"row_heading level0 row36\" >36</th>\n",
       "      <td id=\"T_0b67c_row36_col0\" class=\"data row36 col0\" >33098932</td>\n",
       "      <td id=\"T_0b67c_row36_col1\" class=\"data row36 col1\" >9984670</td>\n",
       "    </tr>\n",
       "    <tr>\n",
       "      <th id=\"T_0b67c_level0_row37\" class=\"row_heading level0 row37\" >37</th>\n",
       "      <td id=\"T_0b67c_row37_col0\" class=\"data row37 col0\" >420979</td>\n",
       "      <td id=\"T_0b67c_row37_col1\" class=\"data row37 col1\" >4033</td>\n",
       "    </tr>\n",
       "    <tr>\n",
       "      <th id=\"T_0b67c_level0_row38\" class=\"row_heading level0 row38\" >38</th>\n",
       "      <td id=\"T_0b67c_row38_col0\" class=\"data row38 col0\" >45436</td>\n",
       "      <td id=\"T_0b67c_row38_col1\" class=\"data row38 col1\" >262</td>\n",
       "    </tr>\n",
       "    <tr>\n",
       "      <th id=\"T_0b67c_level0_row39\" class=\"row_heading level0 row39\" >39</th>\n",
       "      <td id=\"T_0b67c_row39_col0\" class=\"data row39 col0\" >4303356</td>\n",
       "      <td id=\"T_0b67c_row39_col1\" class=\"data row39 col1\" >622984</td>\n",
       "    </tr>\n",
       "    <tr>\n",
       "      <th id=\"T_0b67c_level0_row40\" class=\"row_heading level0 row40\" >40</th>\n",
       "      <td id=\"T_0b67c_row40_col0\" class=\"data row40 col0\" >9944201</td>\n",
       "      <td id=\"T_0b67c_row40_col1\" class=\"data row40 col1\" >1284000</td>\n",
       "    </tr>\n",
       "    <tr>\n",
       "      <th id=\"T_0b67c_level0_row41\" class=\"row_heading level0 row41\" >41</th>\n",
       "      <td id=\"T_0b67c_row41_col0\" class=\"data row41 col0\" >16134219</td>\n",
       "      <td id=\"T_0b67c_row41_col1\" class=\"data row41 col1\" >756950</td>\n",
       "    </tr>\n",
       "    <tr>\n",
       "      <th id=\"T_0b67c_level0_row42\" class=\"row_heading level0 row42\" >42</th>\n",
       "      <td id=\"T_0b67c_row42_col0\" class=\"data row42 col0\" >1313973713</td>\n",
       "      <td id=\"T_0b67c_row42_col1\" class=\"data row42 col1\" >9596960</td>\n",
       "    </tr>\n",
       "    <tr>\n",
       "      <th id=\"T_0b67c_level0_row43\" class=\"row_heading level0 row43\" >43</th>\n",
       "      <td id=\"T_0b67c_row43_col0\" class=\"data row43 col0\" >43593035</td>\n",
       "      <td id=\"T_0b67c_row43_col1\" class=\"data row43 col1\" >1138910</td>\n",
       "    </tr>\n",
       "    <tr>\n",
       "      <th id=\"T_0b67c_level0_row44\" class=\"row_heading level0 row44\" >44</th>\n",
       "      <td id=\"T_0b67c_row44_col0\" class=\"data row44 col0\" >690948</td>\n",
       "      <td id=\"T_0b67c_row44_col1\" class=\"data row44 col1\" >2170</td>\n",
       "    </tr>\n",
       "    <tr>\n",
       "      <th id=\"T_0b67c_level0_row45\" class=\"row_heading level0 row45\" >45</th>\n",
       "      <td id=\"T_0b67c_row45_col0\" class=\"data row45 col0\" >62660551</td>\n",
       "      <td id=\"T_0b67c_row45_col1\" class=\"data row45 col1\" >2345410</td>\n",
       "    </tr>\n",
       "    <tr>\n",
       "      <th id=\"T_0b67c_level0_row46\" class=\"row_heading level0 row46\" >46</th>\n",
       "      <td id=\"T_0b67c_row46_col0\" class=\"data row46 col0\" >3702314</td>\n",
       "      <td id=\"T_0b67c_row46_col1\" class=\"data row46 col1\" >342000</td>\n",
       "    </tr>\n",
       "    <tr>\n",
       "      <th id=\"T_0b67c_level0_row47\" class=\"row_heading level0 row47\" >47</th>\n",
       "      <td id=\"T_0b67c_row47_col0\" class=\"data row47 col0\" >21388</td>\n",
       "      <td id=\"T_0b67c_row47_col1\" class=\"data row47 col1\" >240</td>\n",
       "    </tr>\n",
       "    <tr>\n",
       "      <th id=\"T_0b67c_level0_row48\" class=\"row_heading level0 row48\" >48</th>\n",
       "      <td id=\"T_0b67c_row48_col0\" class=\"data row48 col0\" >4075261</td>\n",
       "      <td id=\"T_0b67c_row48_col1\" class=\"data row48 col1\" >51100</td>\n",
       "    </tr>\n",
       "    <tr>\n",
       "      <th id=\"T_0b67c_level0_row49\" class=\"row_heading level0 row49\" >49</th>\n",
       "      <td id=\"T_0b67c_row49_col0\" class=\"data row49 col0\" >17654843</td>\n",
       "      <td id=\"T_0b67c_row49_col1\" class=\"data row49 col1\" >322460</td>\n",
       "    </tr>\n",
       "  </tbody>\n",
       "</table>\n"
      ],
      "text/plain": [
       "<pandas.io.formats.style.Styler at 0x7f5ecffe1e40>"
      ]
     },
     "execution_count": 14,
     "metadata": {},
     "output_type": "execute_result"
    }
   ],
   "source": [
    "data.select_dtypes('int64').head(50).style.background_gradient(cmap = \"RdBu\")"
   ]
  },
  {
   "cell_type": "code",
   "execution_count": 15,
   "id": "8d3192f8",
   "metadata": {
    "execution": {
     "iopub.execute_input": "2023-07-01T19:09:26.562251Z",
     "iopub.status.busy": "2023-07-01T19:09:26.561853Z",
     "iopub.status.idle": "2023-07-01T19:09:26.590696Z",
     "shell.execute_reply": "2023-07-01T19:09:26.589269Z"
    },
    "papermill": {
     "duration": 0.062896,
     "end_time": "2023-07-01T19:09:26.593686",
     "exception": false,
     "start_time": "2023-07-01T19:09:26.53079",
     "status": "completed"
    },
    "tags": []
   },
   "outputs": [
    {
     "data": {
      "text/html": [
       "<style type=\"text/css\">\n",
       "#T_38185_row0_col0, #T_38185_row42_col0 {\n",
       "  background-color: #d4efec;\n",
       "  color: #000000;\n",
       "}\n",
       "#T_38185_row0_col1, #T_38185_row39_col0, #T_38185_row40_col0 {\n",
       "  background-color: #f7fcfd;\n",
       "  color: #000000;\n",
       "}\n",
       "#T_38185_row1_col0, #T_38185_row21_col0 {\n",
       "  background-color: #e7f6f9;\n",
       "  color: #000000;\n",
       "}\n",
       "#T_38185_row1_col1, #T_38185_row2_col1 {\n",
       "  background-color: #eaf7fa;\n",
       "  color: #000000;\n",
       "}\n",
       "#T_38185_row2_col0 {\n",
       "  background-color: #39a569;\n",
       "  color: #f1f1f1;\n",
       "}\n",
       "#T_38185_row3_col0 {\n",
       "  background-color: #e8f6fa;\n",
       "  color: #000000;\n",
       "}\n",
       "#T_38185_row3_col1, #T_38185_row4_col1 {\n",
       "  background-color: #daf1f1;\n",
       "  color: #000000;\n",
       "}\n",
       "#T_38185_row4_col0 {\n",
       "  background-color: #006529;\n",
       "  color: #f1f1f1;\n",
       "}\n",
       "#T_38185_row5_col0 {\n",
       "  background-color: #ade0d4;\n",
       "  color: #000000;\n",
       "}\n",
       "#T_38185_row5_col1 {\n",
       "  background-color: #c4e9e1;\n",
       "  color: #000000;\n",
       "}\n",
       "#T_38185_row6_col0 {\n",
       "  background-color: #f4fbfc;\n",
       "  color: #000000;\n",
       "}\n",
       "#T_38185_row6_col1, #T_38185_row7_col1, #T_38185_row8_col1, #T_38185_row9_col1 {\n",
       "  background-color: #9ddacb;\n",
       "  color: #000000;\n",
       "}\n",
       "#T_38185_row7_col0 {\n",
       "  background-color: #d3eeeb;\n",
       "  color: #000000;\n",
       "}\n",
       "#T_38185_row8_col0 {\n",
       "  background-color: #5dbd99;\n",
       "  color: #000000;\n",
       "}\n",
       "#T_38185_row9_col0 {\n",
       "  background-color: #53b88c;\n",
       "  color: #f1f1f1;\n",
       "}\n",
       "#T_38185_row10_col0 {\n",
       "  background-color: #ccece6;\n",
       "  color: #000000;\n",
       "}\n",
       "#T_38185_row10_col1, #T_38185_row11_col1, #T_38185_row12_col1 {\n",
       "  background-color: #78cab1;\n",
       "  color: #000000;\n",
       "}\n",
       "#T_38185_row11_col0 {\n",
       "  background-color: #248c47;\n",
       "  color: #f1f1f1;\n",
       "}\n",
       "#T_38185_row12_col0 {\n",
       "  background-color: #1f8742;\n",
       "  color: #f1f1f1;\n",
       "}\n",
       "#T_38185_row13_col0 {\n",
       "  background-color: #75c9af;\n",
       "  color: #000000;\n",
       "}\n",
       "#T_38185_row13_col1 {\n",
       "  background-color: #59bb93;\n",
       "  color: #f1f1f1;\n",
       "}\n",
       "#T_38185_row14_col0 {\n",
       "  background-color: #d2eeeb;\n",
       "  color: #000000;\n",
       "}\n",
       "#T_38185_row14_col1, #T_38185_row15_col1 {\n",
       "  background-color: #3fab72;\n",
       "  color: #f1f1f1;\n",
       "}\n",
       "#T_38185_row15_col0, #T_38185_row34_col0 {\n",
       "  background-color: #64c1a2;\n",
       "  color: #000000;\n",
       "}\n",
       "#T_38185_row16_col0 {\n",
       "  background-color: #f0f9fb;\n",
       "  color: #000000;\n",
       "}\n",
       "#T_38185_row16_col1, #T_38185_row17_col1, #T_38185_row18_col1, #T_38185_row19_col1, #T_38185_row20_col1 {\n",
       "  background-color: #28914d;\n",
       "  color: #f1f1f1;\n",
       "}\n",
       "#T_38185_row17_col0 {\n",
       "  background-color: #ecf8fa;\n",
       "  color: #000000;\n",
       "}\n",
       "#T_38185_row18_col0 {\n",
       "  background-color: #d5efed;\n",
       "  color: #000000;\n",
       "}\n",
       "#T_38185_row19_col0, #T_38185_row31_col0 {\n",
       "  background-color: #b8e4db;\n",
       "  color: #000000;\n",
       "}\n",
       "#T_38185_row20_col0 {\n",
       "  background-color: #006428;\n",
       "  color: #f1f1f1;\n",
       "}\n",
       "#T_38185_row21_col1, #T_38185_row22_col1, #T_38185_row23_col1, #T_38185_row24_col1 {\n",
       "  background-color: #107a37;\n",
       "  color: #f1f1f1;\n",
       "}\n",
       "#T_38185_row22_col0 {\n",
       "  background-color: #48b27f;\n",
       "  color: #f1f1f1;\n",
       "}\n",
       "#T_38185_row23_col0 {\n",
       "  background-color: #3aa66a;\n",
       "  color: #f1f1f1;\n",
       "}\n",
       "#T_38185_row24_col0 {\n",
       "  background-color: #005221;\n",
       "  color: #f1f1f1;\n",
       "}\n",
       "#T_38185_row25_col0, #T_38185_row26_col0 {\n",
       "  background-color: #f6fcfd;\n",
       "  color: #000000;\n",
       "}\n",
       "#T_38185_row25_col1, #T_38185_row26_col1, #T_38185_row27_col1, #T_38185_row28_col1, #T_38185_row29_col1, #T_38185_row30_col1, #T_38185_row31_col1, #T_38185_row32_col1, #T_38185_row33_col1, #T_38185_row34_col1, #T_38185_row35_col1, #T_38185_row36_col1, #T_38185_row37_col1, #T_38185_row38_col1 {\n",
       "  background-color: #006227;\n",
       "  color: #f1f1f1;\n",
       "}\n",
       "#T_38185_row27_col0 {\n",
       "  background-color: #eff9fb;\n",
       "  color: #000000;\n",
       "}\n",
       "#T_38185_row28_col0 {\n",
       "  background-color: #e9f7fa;\n",
       "  color: #000000;\n",
       "}\n",
       "#T_38185_row29_col0 {\n",
       "  background-color: #def2f4;\n",
       "  color: #000000;\n",
       "}\n",
       "#T_38185_row30_col0 {\n",
       "  background-color: #cdece7;\n",
       "  color: #000000;\n",
       "}\n",
       "#T_38185_row32_col0 {\n",
       "  background-color: #97d7c7;\n",
       "  color: #000000;\n",
       "}\n",
       "#T_38185_row33_col0 {\n",
       "  background-color: #68c3a6;\n",
       "  color: #000000;\n",
       "}\n",
       "#T_38185_row35_col0 {\n",
       "  background-color: #4fb688;\n",
       "  color: #f1f1f1;\n",
       "}\n",
       "#T_38185_row36_col0 {\n",
       "  background-color: #2e9756;\n",
       "  color: #f1f1f1;\n",
       "}\n",
       "#T_38185_row37_col0 {\n",
       "  background-color: #218944;\n",
       "  color: #f1f1f1;\n",
       "}\n",
       "#T_38185_row38_col0, #T_38185_row39_col1, #T_38185_row40_col1, #T_38185_row41_col1, #T_38185_row42_col1, #T_38185_row43_col1, #T_38185_row44_col1, #T_38185_row45_col1, #T_38185_row46_col1, #T_38185_row47_col1, #T_38185_row48_col1, #T_38185_row49_col1 {\n",
       "  background-color: #00441b;\n",
       "  color: #f1f1f1;\n",
       "}\n",
       "#T_38185_row41_col0 {\n",
       "  background-color: #f5fbfd;\n",
       "  color: #000000;\n",
       "}\n",
       "#T_38185_row43_col0 {\n",
       "  background-color: #d1eee9;\n",
       "  color: #000000;\n",
       "}\n",
       "#T_38185_row44_col0 {\n",
       "  background-color: #cfede8;\n",
       "  color: #000000;\n",
       "}\n",
       "#T_38185_row45_col0 {\n",
       "  background-color: #88d1bd;\n",
       "  color: #000000;\n",
       "}\n",
       "#T_38185_row46_col0 {\n",
       "  background-color: #84cfb9;\n",
       "  color: #000000;\n",
       "}\n",
       "#T_38185_row47_col0 {\n",
       "  background-color: #5ebe9b;\n",
       "  color: #000000;\n",
       "}\n",
       "#T_38185_row48_col0 {\n",
       "  background-color: #5abb95;\n",
       "  color: #f1f1f1;\n",
       "}\n",
       "#T_38185_row49_col0 {\n",
       "  background-color: #4eb586;\n",
       "  color: #f1f1f1;\n",
       "}\n",
       "</style>\n",
       "<table id=\"T_38185\">\n",
       "  <thead>\n",
       "    <tr>\n",
       "      <th class=\"blank level0\" >&nbsp;</th>\n",
       "      <th id=\"T_38185_level0_col0\" class=\"col_heading level0 col0\" >Number</th>\n",
       "      <th id=\"T_38185_level0_col1\" class=\"col_heading level0 col1\" >Year</th>\n",
       "    </tr>\n",
       "  </thead>\n",
       "  <tbody>\n",
       "    <tr>\n",
       "      <th id=\"T_38185_level0_row0\" class=\"row_heading level0 row0\" >0</th>\n",
       "      <td id=\"T_38185_row0_col0\" class=\"data row0 col0\" >101</td>\n",
       "      <td id=\"T_38185_row0_col1\" class=\"data row0 col1\" >1955</td>\n",
       "    </tr>\n",
       "    <tr>\n",
       "      <th id=\"T_38185_level0_row1\" class=\"row_heading level0 row1\" >1</th>\n",
       "      <td id=\"T_38185_row1_col0\" class=\"data row1 col0\" >56</td>\n",
       "      <td id=\"T_38185_row1_col1\" class=\"data row1 col1\" >1956</td>\n",
       "    </tr>\n",
       "    <tr>\n",
       "      <th id=\"T_38185_level0_row2\" class=\"row_heading level0 row2\" >2</th>\n",
       "      <td id=\"T_38185_row2_col0\" class=\"data row2 col0\" >308</td>\n",
       "      <td id=\"T_38185_row2_col1\" class=\"data row2 col1\" >1956</td>\n",
       "    </tr>\n",
       "    <tr>\n",
       "      <th id=\"T_38185_level0_row3\" class=\"row_heading level0 row3\" >3</th>\n",
       "      <td id=\"T_38185_row3_col0\" class=\"data row3 col0\" >50</td>\n",
       "      <td id=\"T_38185_row3_col1\" class=\"data row3 col1\" >1957</td>\n",
       "    </tr>\n",
       "    <tr>\n",
       "      <th id=\"T_38185_level0_row4\" class=\"row_heading level0 row4\" >4</th>\n",
       "      <td id=\"T_38185_row4_col0\" class=\"data row4 col0\" >420</td>\n",
       "      <td id=\"T_38185_row4_col1\" class=\"data row4 col1\" >1957</td>\n",
       "    </tr>\n",
       "    <tr>\n",
       "      <th id=\"T_38185_level0_row5\" class=\"row_heading level0 row5\" >5</th>\n",
       "      <td id=\"T_38185_row5_col0\" class=\"data row5 col0\" >154</td>\n",
       "      <td id=\"T_38185_row5_col1\" class=\"data row5 col1\" >1958</td>\n",
       "    </tr>\n",
       "    <tr>\n",
       "      <th id=\"T_38185_level0_row6\" class=\"row_heading level0 row6\" >6</th>\n",
       "      <td id=\"T_38185_row6_col0\" class=\"data row6 col0\" >12</td>\n",
       "      <td id=\"T_38185_row6_col1\" class=\"data row6 col1\" >1959</td>\n",
       "    </tr>\n",
       "    <tr>\n",
       "      <th id=\"T_38185_level0_row7\" class=\"row_heading level0 row7\" >7</th>\n",
       "      <td id=\"T_38185_row7_col0\" class=\"data row7 col0\" >103</td>\n",
       "      <td id=\"T_38185_row7_col1\" class=\"data row7 col1\" >1959</td>\n",
       "    </tr>\n",
       "    <tr>\n",
       "      <th id=\"T_38185_level0_row8\" class=\"row_heading level0 row8\" >8</th>\n",
       "      <td id=\"T_38185_row8_col0\" class=\"data row8 col0\" >248</td>\n",
       "      <td id=\"T_38185_row8_col1\" class=\"data row8 col1\" >1959</td>\n",
       "    </tr>\n",
       "    <tr>\n",
       "      <th id=\"T_38185_level0_row9\" class=\"row_heading level0 row9\" >9</th>\n",
       "      <td id=\"T_38185_row9_col0\" class=\"data row9 col0\" >265</td>\n",
       "      <td id=\"T_38185_row9_col1\" class=\"data row9 col1\" >1959</td>\n",
       "    </tr>\n",
       "    <tr>\n",
       "      <th id=\"T_38185_level0_row10\" class=\"row_heading level0 row10\" >10</th>\n",
       "      <td id=\"T_38185_row10_col0\" class=\"data row10 col0\" >119</td>\n",
       "      <td id=\"T_38185_row10_col1\" class=\"data row10 col1\" >1960</td>\n",
       "    </tr>\n",
       "    <tr>\n",
       "      <th id=\"T_38185_level0_row11\" class=\"row_heading level0 row11\" >11</th>\n",
       "      <td id=\"T_38185_row11_col0\" class=\"data row11 col0\" >348</td>\n",
       "      <td id=\"T_38185_row11_col1\" class=\"data row11 col1\" >1960</td>\n",
       "    </tr>\n",
       "    <tr>\n",
       "      <th id=\"T_38185_level0_row12\" class=\"row_heading level0 row12\" >12</th>\n",
       "      <td id=\"T_38185_row12_col0\" class=\"data row12 col0\" >358</td>\n",
       "      <td id=\"T_38185_row12_col1\" class=\"data row12 col1\" >1960</td>\n",
       "    </tr>\n",
       "    <tr>\n",
       "      <th id=\"T_38185_level0_row13\" class=\"row_heading level0 row13\" >13</th>\n",
       "      <td id=\"T_38185_row13_col0\" class=\"data row13 col0\" >217</td>\n",
       "      <td id=\"T_38185_row13_col1\" class=\"data row13 col1\" >1961</td>\n",
       "    </tr>\n",
       "    <tr>\n",
       "      <th id=\"T_38185_level0_row14\" class=\"row_heading level0 row14\" >14</th>\n",
       "      <td id=\"T_38185_row14_col0\" class=\"data row14 col0\" >105</td>\n",
       "      <td id=\"T_38185_row14_col1\" class=\"data row14 col1\" >1962</td>\n",
       "    </tr>\n",
       "    <tr>\n",
       "      <th id=\"T_38185_level0_row15\" class=\"row_heading level0 row15\" >15</th>\n",
       "      <td id=\"T_38185_row15_col0\" class=\"data row15 col0\" >238</td>\n",
       "      <td id=\"T_38185_row15_col1\" class=\"data row15 col1\" >1962</td>\n",
       "    </tr>\n",
       "    <tr>\n",
       "      <th id=\"T_38185_level0_row16\" class=\"row_heading level0 row16\" >16</th>\n",
       "      <td id=\"T_38185_row16_col0\" class=\"data row16 col0\" >25</td>\n",
       "      <td id=\"T_38185_row16_col1\" class=\"data row16 col1\" >1963</td>\n",
       "    </tr>\n",
       "    <tr>\n",
       "      <th id=\"T_38185_level0_row17\" class=\"row_heading level0 row17\" >17</th>\n",
       "      <td id=\"T_38185_row17_col0\" class=\"data row17 col0\" >39</td>\n",
       "      <td id=\"T_38185_row17_col1\" class=\"data row17 col1\" >1963</td>\n",
       "    </tr>\n",
       "    <tr>\n",
       "      <th id=\"T_38185_level0_row18\" class=\"row_heading level0 row18\" >18</th>\n",
       "      <td id=\"T_38185_row18_col0\" class=\"data row18 col0\" >97</td>\n",
       "      <td id=\"T_38185_row18_col1\" class=\"data row18 col1\" >1963</td>\n",
       "    </tr>\n",
       "    <tr>\n",
       "      <th id=\"T_38185_level0_row19\" class=\"row_heading level0 row19\" >19</th>\n",
       "      <td id=\"T_38185_row19_col0\" class=\"data row19 col0\" >142</td>\n",
       "      <td id=\"T_38185_row19_col1\" class=\"data row19 col1\" >1963</td>\n",
       "    </tr>\n",
       "    <tr>\n",
       "      <th id=\"T_38185_level0_row20\" class=\"row_heading level0 row20\" >20</th>\n",
       "      <td id=\"T_38185_row20_col0\" class=\"data row20 col0\" >422</td>\n",
       "      <td id=\"T_38185_row20_col1\" class=\"data row20 col1\" >1963</td>\n",
       "    </tr>\n",
       "    <tr>\n",
       "      <th id=\"T_38185_level0_row21\" class=\"row_heading level0 row21\" >21</th>\n",
       "      <td id=\"T_38185_row21_col0\" class=\"data row21 col0\" >53</td>\n",
       "      <td id=\"T_38185_row21_col1\" class=\"data row21 col1\" >1964</td>\n",
       "    </tr>\n",
       "    <tr>\n",
       "      <th id=\"T_38185_level0_row22\" class=\"row_heading level0 row22\" >22</th>\n",
       "      <td id=\"T_38185_row22_col0\" class=\"data row22 col0\" >282</td>\n",
       "      <td id=\"T_38185_row22_col1\" class=\"data row22 col1\" >1964</td>\n",
       "    </tr>\n",
       "    <tr>\n",
       "      <th id=\"T_38185_level0_row23\" class=\"row_heading level0 row23\" >23</th>\n",
       "      <td id=\"T_38185_row23_col0\" class=\"data row23 col0\" >307</td>\n",
       "      <td id=\"T_38185_row23_col1\" class=\"data row23 col1\" >1964</td>\n",
       "    </tr>\n",
       "    <tr>\n",
       "      <th id=\"T_38185_level0_row24\" class=\"row_heading level0 row24\" >24</th>\n",
       "      <td id=\"T_38185_row24_col0\" class=\"data row24 col0\" >447</td>\n",
       "      <td id=\"T_38185_row24_col1\" class=\"data row24 col1\" >1964</td>\n",
       "    </tr>\n",
       "    <tr>\n",
       "      <th id=\"T_38185_level0_row25\" class=\"row_heading level0 row25\" >25</th>\n",
       "      <td id=\"T_38185_row25_col0\" class=\"data row25 col0\" >4</td>\n",
       "      <td id=\"T_38185_row25_col1\" class=\"data row25 col1\" >1965</td>\n",
       "    </tr>\n",
       "    <tr>\n",
       "      <th id=\"T_38185_level0_row26\" class=\"row_heading level0 row26\" >26</th>\n",
       "      <td id=\"T_38185_row26_col0\" class=\"data row26 col0\" >5</td>\n",
       "      <td id=\"T_38185_row26_col1\" class=\"data row26 col1\" >1965</td>\n",
       "    </tr>\n",
       "    <tr>\n",
       "      <th id=\"T_38185_level0_row27\" class=\"row_heading level0 row27\" >27</th>\n",
       "      <td id=\"T_38185_row27_col0\" class=\"data row27 col0\" >31</td>\n",
       "      <td id=\"T_38185_row27_col1\" class=\"data row27 col1\" >1965</td>\n",
       "    </tr>\n",
       "    <tr>\n",
       "      <th id=\"T_38185_level0_row28\" class=\"row_heading level0 row28\" >28</th>\n",
       "      <td id=\"T_38185_row28_col0\" class=\"data row28 col0\" >47</td>\n",
       "      <td id=\"T_38185_row28_col1\" class=\"data row28 col1\" >1965</td>\n",
       "    </tr>\n",
       "    <tr>\n",
       "      <th id=\"T_38185_level0_row29\" class=\"row_heading level0 row29\" >29</th>\n",
       "      <td id=\"T_38185_row29_col0\" class=\"data row29 col0\" >78</td>\n",
       "      <td id=\"T_38185_row29_col1\" class=\"data row29 col1\" >1965</td>\n",
       "    </tr>\n",
       "    <tr>\n",
       "      <th id=\"T_38185_level0_row30\" class=\"row_heading level0 row30\" >30</th>\n",
       "      <td id=\"T_38185_row30_col0\" class=\"data row30 col0\" >116</td>\n",
       "      <td id=\"T_38185_row30_col1\" class=\"data row30 col1\" >1965</td>\n",
       "    </tr>\n",
       "    <tr>\n",
       "      <th id=\"T_38185_level0_row31\" class=\"row_heading level0 row31\" >31</th>\n",
       "      <td id=\"T_38185_row31_col0\" class=\"data row31 col0\" >141</td>\n",
       "      <td id=\"T_38185_row31_col1\" class=\"data row31 col1\" >1965</td>\n",
       "    </tr>\n",
       "    <tr>\n",
       "      <th id=\"T_38185_level0_row32\" class=\"row_heading level0 row32\" >32</th>\n",
       "      <td id=\"T_38185_row32_col0\" class=\"data row32 col0\" >180</td>\n",
       "      <td id=\"T_38185_row32_col1\" class=\"data row32 col1\" >1965</td>\n",
       "    </tr>\n",
       "    <tr>\n",
       "      <th id=\"T_38185_level0_row33\" class=\"row_heading level0 row33\" >33</th>\n",
       "      <td id=\"T_38185_row33_col0\" class=\"data row33 col0\" >233</td>\n",
       "      <td id=\"T_38185_row33_col1\" class=\"data row33 col1\" >1965</td>\n",
       "    </tr>\n",
       "    <tr>\n",
       "      <th id=\"T_38185_level0_row34\" class=\"row_heading level0 row34\" >34</th>\n",
       "      <td id=\"T_38185_row34_col0\" class=\"data row34 col0\" >237</td>\n",
       "      <td id=\"T_38185_row34_col1\" class=\"data row34 col1\" >1965</td>\n",
       "    </tr>\n",
       "    <tr>\n",
       "      <th id=\"T_38185_level0_row35\" class=\"row_heading level0 row35\" >35</th>\n",
       "      <td id=\"T_38185_row35_col0\" class=\"data row35 col0\" >271</td>\n",
       "      <td id=\"T_38185_row35_col1\" class=\"data row35 col1\" >1965</td>\n",
       "    </tr>\n",
       "    <tr>\n",
       "      <th id=\"T_38185_level0_row36\" class=\"row_heading level0 row36\" >36</th>\n",
       "      <td id=\"T_38185_row36_col0\" class=\"data row36 col0\" >331</td>\n",
       "      <td id=\"T_38185_row36_col1\" class=\"data row36 col1\" >1965</td>\n",
       "    </tr>\n",
       "    <tr>\n",
       "      <th id=\"T_38185_level0_row37\" class=\"row_heading level0 row37\" >37</th>\n",
       "      <td id=\"T_38185_row37_col0\" class=\"data row37 col0\" >355</td>\n",
       "      <td id=\"T_38185_row37_col1\" class=\"data row37 col1\" >1965</td>\n",
       "    </tr>\n",
       "    <tr>\n",
       "      <th id=\"T_38185_level0_row38\" class=\"row_heading level0 row38\" >38</th>\n",
       "      <td id=\"T_38185_row38_col0\" class=\"data row38 col0\" >468</td>\n",
       "      <td id=\"T_38185_row38_col1\" class=\"data row38 col1\" >1965</td>\n",
       "    </tr>\n",
       "    <tr>\n",
       "      <th id=\"T_38185_level0_row39\" class=\"row_heading level0 row39\" >39</th>\n",
       "      <td id=\"T_38185_row39_col0\" class=\"data row39 col0\" >2</td>\n",
       "      <td id=\"T_38185_row39_col1\" class=\"data row39 col1\" >1966</td>\n",
       "    </tr>\n",
       "    <tr>\n",
       "      <th id=\"T_38185_level0_row40\" class=\"row_heading level0 row40\" >40</th>\n",
       "      <td id=\"T_38185_row40_col0\" class=\"data row40 col0\" >3</td>\n",
       "      <td id=\"T_38185_row40_col1\" class=\"data row40 col1\" >1966</td>\n",
       "    </tr>\n",
       "    <tr>\n",
       "      <th id=\"T_38185_level0_row41\" class=\"row_heading level0 row41\" >41</th>\n",
       "      <td id=\"T_38185_row41_col0\" class=\"data row41 col0\" >9</td>\n",
       "      <td id=\"T_38185_row41_col1\" class=\"data row41 col1\" >1966</td>\n",
       "    </tr>\n",
       "    <tr>\n",
       "      <th id=\"T_38185_level0_row42\" class=\"row_heading level0 row42\" >42</th>\n",
       "      <td id=\"T_38185_row42_col0\" class=\"data row42 col0\" >102</td>\n",
       "      <td id=\"T_38185_row42_col1\" class=\"data row42 col1\" >1966</td>\n",
       "    </tr>\n",
       "    <tr>\n",
       "      <th id=\"T_38185_level0_row43\" class=\"row_heading level0 row43\" >43</th>\n",
       "      <td id=\"T_38185_row43_col0\" class=\"data row43 col0\" >109</td>\n",
       "      <td id=\"T_38185_row43_col1\" class=\"data row43 col1\" >1966</td>\n",
       "    </tr>\n",
       "    <tr>\n",
       "      <th id=\"T_38185_level0_row44\" class=\"row_heading level0 row44\" >44</th>\n",
       "      <td id=\"T_38185_row44_col0\" class=\"data row44 col0\" >112</td>\n",
       "      <td id=\"T_38185_row44_col1\" class=\"data row44 col1\" >1966</td>\n",
       "    </tr>\n",
       "    <tr>\n",
       "      <th id=\"T_38185_level0_row45\" class=\"row_heading level0 row45\" >45</th>\n",
       "      <td id=\"T_38185_row45_col0\" class=\"data row45 col0\" >195</td>\n",
       "      <td id=\"T_38185_row45_col1\" class=\"data row45 col1\" >1966</td>\n",
       "    </tr>\n",
       "    <tr>\n",
       "      <th id=\"T_38185_level0_row46\" class=\"row_heading level0 row46\" >46</th>\n",
       "      <td id=\"T_38185_row46_col0\" class=\"data row46 col0\" >202</td>\n",
       "      <td id=\"T_38185_row46_col1\" class=\"data row46 col1\" >1966</td>\n",
       "    </tr>\n",
       "    <tr>\n",
       "      <th id=\"T_38185_level0_row47\" class=\"row_heading level0 row47\" >47</th>\n",
       "      <td id=\"T_38185_row47_col0\" class=\"data row47 col0\" >246</td>\n",
       "      <td id=\"T_38185_row47_col1\" class=\"data row47 col1\" >1966</td>\n",
       "    </tr>\n",
       "    <tr>\n",
       "      <th id=\"T_38185_level0_row48\" class=\"row_heading level0 row48\" >48</th>\n",
       "      <td id=\"T_38185_row48_col0\" class=\"data row48 col0\" >254</td>\n",
       "      <td id=\"T_38185_row48_col1\" class=\"data row48 col1\" >1966</td>\n",
       "    </tr>\n",
       "    <tr>\n",
       "      <th id=\"T_38185_level0_row49\" class=\"row_heading level0 row49\" >49</th>\n",
       "      <td id=\"T_38185_row49_col0\" class=\"data row49 col0\" >273</td>\n",
       "      <td id=\"T_38185_row49_col1\" class=\"data row49 col1\" >1966</td>\n",
       "    </tr>\n",
       "  </tbody>\n",
       "</table>\n"
      ],
      "text/plain": [
       "<pandas.io.formats.style.Styler at 0x7f5ecfe93cd0>"
      ]
     },
     "execution_count": 15,
     "metadata": {},
     "output_type": "execute_result"
    }
   ],
   "source": [
    "data2.select_dtypes('int64').head(50).style.background_gradient(cmap = \"BuGn\")"
   ]
  },
  {
   "cell_type": "markdown",
   "id": "b13ccf10",
   "metadata": {
    "papermill": {
     "duration": 0.030748,
     "end_time": "2023-07-01T19:09:26.655194",
     "exception": false,
     "start_time": "2023-07-01T19:09:26.624446",
     "status": "completed"
    },
    "tags": []
   },
   "source": [
    "\n",
    "# <a id=\"9\"></a>\n",
    "### <div style= \"font-family: Times New Roman; font-weight:bold; letter-spacing: 0px; color:WHITE; font-size:120%; text-align:left;padding:3.0px; background: brown; border-bottom: 8px solid WHITE\" >  9 - Rounding off the data : \n",
    "  <br><div>\n",
    "\n",
    "\n",
    "## <span style=\"color: #FF4450;\"> To round the values in a column, you can use the round() function"
   ]
  },
  {
   "cell_type": "code",
   "execution_count": 16,
   "id": "b2e3b377",
   "metadata": {
    "execution": {
     "iopub.execute_input": "2023-07-01T19:09:26.717894Z",
     "iopub.status.busy": "2023-07-01T19:09:26.717478Z",
     "iopub.status.idle": "2023-07-01T19:09:26.730772Z",
     "shell.execute_reply": "2023-07-01T19:09:26.729629Z"
    },
    "papermill": {
     "duration": 0.047415,
     "end_time": "2023-07-01T19:09:26.733267",
     "exception": false,
     "start_time": "2023-07-01T19:09:26.685852",
     "status": "completed"
    },
    "tags": []
   },
   "outputs": [
    {
     "data": {
      "text/html": [
       "<div>\n",
       "<style scoped>\n",
       "    .dataframe tbody tr th:only-of-type {\n",
       "        vertical-align: middle;\n",
       "    }\n",
       "\n",
       "    .dataframe tbody tr th {\n",
       "        vertical-align: top;\n",
       "    }\n",
       "\n",
       "    .dataframe thead th {\n",
       "        text-align: right;\n",
       "    }\n",
       "</style>\n",
       "<table border=\"1\" class=\"dataframe\">\n",
       "  <thead>\n",
       "    <tr style=\"text-align: right;\">\n",
       "      <th></th>\n",
       "      <th>row_id</th>\n",
       "      <th>time</th>\n",
       "      <th>x</th>\n",
       "      <th>y</th>\n",
       "      <th>direction</th>\n",
       "      <th>congestion</th>\n",
       "    </tr>\n",
       "  </thead>\n",
       "  <tbody>\n",
       "    <tr>\n",
       "      <th>0</th>\n",
       "      <td>0</td>\n",
       "      <td>1991-04-01 00:00:00</td>\n",
       "      <td>0</td>\n",
       "      <td>0</td>\n",
       "      <td>EB</td>\n",
       "      <td>70</td>\n",
       "    </tr>\n",
       "    <tr>\n",
       "      <th>1</th>\n",
       "      <td>1</td>\n",
       "      <td>1991-04-01 00:00:00</td>\n",
       "      <td>0</td>\n",
       "      <td>0</td>\n",
       "      <td>NB</td>\n",
       "      <td>49</td>\n",
       "    </tr>\n",
       "    <tr>\n",
       "      <th>2</th>\n",
       "      <td>2</td>\n",
       "      <td>1991-04-01 00:00:00</td>\n",
       "      <td>0</td>\n",
       "      <td>0</td>\n",
       "      <td>SB</td>\n",
       "      <td>24</td>\n",
       "    </tr>\n",
       "    <tr>\n",
       "      <th>3</th>\n",
       "      <td>3</td>\n",
       "      <td>1991-04-01 00:00:00</td>\n",
       "      <td>0</td>\n",
       "      <td>1</td>\n",
       "      <td>EB</td>\n",
       "      <td>18</td>\n",
       "    </tr>\n",
       "    <tr>\n",
       "      <th>4</th>\n",
       "      <td>4</td>\n",
       "      <td>1991-04-01 00:00:00</td>\n",
       "      <td>0</td>\n",
       "      <td>1</td>\n",
       "      <td>NB</td>\n",
       "      <td>60</td>\n",
       "    </tr>\n",
       "  </tbody>\n",
       "</table>\n",
       "</div>"
      ],
      "text/plain": [
       "   row_id                 time  x  y direction  congestion\n",
       "0       0  1991-04-01 00:00:00  0  0        EB          70\n",
       "1       1  1991-04-01 00:00:00  0  0        NB          49\n",
       "2       2  1991-04-01 00:00:00  0  0        SB          24\n",
       "3       3  1991-04-01 00:00:00  0  1        EB          18\n",
       "4       4  1991-04-01 00:00:00  0  1        NB          60"
      ]
     },
     "execution_count": 16,
     "metadata": {},
     "output_type": "execute_result"
    }
   ],
   "source": [
    "data3.head()"
   ]
  },
  {
   "cell_type": "markdown",
   "id": "6a7488d7",
   "metadata": {
    "papermill": {
     "duration": 0.02975,
     "end_time": "2023-07-01T19:09:26.793404",
     "exception": false,
     "start_time": "2023-07-01T19:09:26.763654",
     "status": "completed"
    },
    "tags": []
   },
   "source": [
    "\n",
    "\n",
    "## <span style=\"color: #FF4450;\">  Lets convert characters into real time.\n"
   ]
  },
  {
   "cell_type": "code",
   "execution_count": 17,
   "id": "3b68bc02",
   "metadata": {
    "execution": {
     "iopub.execute_input": "2023-07-01T19:09:26.856353Z",
     "iopub.status.busy": "2023-07-01T19:09:26.855882Z",
     "iopub.status.idle": "2023-07-01T19:09:27.04346Z",
     "shell.execute_reply": "2023-07-01T19:09:27.041695Z"
    },
    "papermill": {
     "duration": 0.222554,
     "end_time": "2023-07-01T19:09:27.046392",
     "exception": false,
     "start_time": "2023-07-01T19:09:26.823838",
     "status": "completed"
    },
    "tags": []
   },
   "outputs": [],
   "source": [
    "data3['time'] = pd.to_datetime(data3['time'])"
   ]
  },
  {
   "cell_type": "markdown",
   "id": "6b0b25f2",
   "metadata": {
    "papermill": {
     "duration": 0.032547,
     "end_time": "2023-07-01T19:09:27.111091",
     "exception": false,
     "start_time": "2023-07-01T19:09:27.078544",
     "status": "completed"
    },
    "tags": []
   },
   "source": [
    "\n",
    "\n",
    "<p style=\"padding: 10px; background-color: #000000; margin: 0; color: ORANGE; font-family: New Times Roman; font-size: 135%; text-align: center; border-radius: 5px; overflow: hidden; font-weight: 500;\">\n",
    "  NOTE :\n",
    " \n",
    "\n",
    "\n",
    "</p>\n",
    "\n",
    "<p style=\"text-align: center;\">\n",
    "    <!-- Content related to the bar chart can be added here -->\n",
    "</p>\n",
    "The line of code `data3_dt = data3.set_index('time')` takes the DataFrame called `data3` and rearranges it so that the column called 'time' becomes the special identifier for each row in the new DataFrame called `data3_dt`. This makes it easier to access and work with the data based on the values in the 'time' column."
   ]
  },
  {
   "cell_type": "code",
   "execution_count": 18,
   "id": "73612f5b",
   "metadata": {
    "execution": {
     "iopub.execute_input": "2023-07-01T19:09:27.176898Z",
     "iopub.status.busy": "2023-07-01T19:09:27.176457Z",
     "iopub.status.idle": "2023-07-01T19:09:27.209341Z",
     "shell.execute_reply": "2023-07-01T19:09:27.208019Z"
    },
    "papermill": {
     "duration": 0.070805,
     "end_time": "2023-07-01T19:09:27.213537",
     "exception": false,
     "start_time": "2023-07-01T19:09:27.142732",
     "status": "completed"
    },
    "tags": []
   },
   "outputs": [
    {
     "name": "stdout",
     "output_type": "stream",
     "text": [
      "                     row_id  x  y direction  congestion\n",
      "time                                                   \n",
      "1991-04-01 00:00:00       0  0  0        EB          70\n",
      "1991-04-01 00:00:00       1  0  0        NB          49\n",
      "1991-04-01 00:00:00       2  0  0        SB          24\n",
      "1991-04-01 00:00:00       3  0  1        EB          18\n",
      "1991-04-01 00:00:00       4  0  1        NB          60\n",
      "...                     ... .. ..       ...         ...\n",
      "1991-09-30 11:40:00  848830  2  3        NB          54\n",
      "1991-09-30 11:40:00  848831  2  3        NE          28\n",
      "1991-09-30 11:40:00  848832  2  3        SB          68\n",
      "1991-09-30 11:40:00  848833  2  3        SW          17\n",
      "1991-09-30 11:40:00  848834  2  3        WB          24\n",
      "\n",
      "[848835 rows x 5 columns]\n"
     ]
    }
   ],
   "source": [
    "data3_dt = data3.set_index('time') # The 'data3_dt' variable is being set as a new DataFrame \n",
    "# by using the 'set_index' function with the column 'time' as the new index.\n",
    "print(data3_dt)"
   ]
  },
  {
   "cell_type": "markdown",
   "id": "22d9e3be",
   "metadata": {
    "papermill": {
     "duration": 0.032736,
     "end_time": "2023-07-01T19:09:27.279864",
     "exception": false,
     "start_time": "2023-07-01T19:09:27.247128",
     "status": "completed"
    },
    "tags": []
   },
   "source": [
    "The 'data3_dt.index' command gives you the list of labels that are used to identify the rows in the DataFrame called 'data3_dt'. It's like a special column that helps you find and organize the data easily."
   ]
  },
  {
   "cell_type": "code",
   "execution_count": 19,
   "id": "2b4b3e6c",
   "metadata": {
    "execution": {
     "iopub.execute_input": "2023-07-01T19:09:27.348335Z",
     "iopub.status.busy": "2023-07-01T19:09:27.34671Z",
     "iopub.status.idle": "2023-07-01T19:09:27.3719Z",
     "shell.execute_reply": "2023-07-01T19:09:27.370061Z"
    },
    "papermill": {
     "duration": 0.062446,
     "end_time": "2023-07-01T19:09:27.375195",
     "exception": false,
     "start_time": "2023-07-01T19:09:27.312749",
     "status": "completed"
    },
    "tags": []
   },
   "outputs": [
    {
     "data": {
      "text/plain": [
       "DatetimeIndex(['1991-04-01 00:00:00', '1991-04-01 00:00:00',\n",
       "               '1991-04-01 00:00:00', '1991-04-01 00:00:00',\n",
       "               '1991-04-01 00:00:00', '1991-04-01 00:00:00',\n",
       "               '1991-04-01 00:00:00', '1991-04-01 00:00:00',\n",
       "               '1991-04-01 00:00:00', '1991-04-01 00:00:00',\n",
       "               ...\n",
       "               '1991-09-30 11:40:00', '1991-09-30 11:40:00',\n",
       "               '1991-09-30 11:40:00', '1991-09-30 11:40:00',\n",
       "               '1991-09-30 11:40:00', '1991-09-30 11:40:00',\n",
       "               '1991-09-30 11:40:00', '1991-09-30 11:40:00',\n",
       "               '1991-09-30 11:40:00', '1991-09-30 11:40:00'],\n",
       "              dtype='datetime64[ns]', name='time', length=848835, freq=None)"
      ]
     },
     "execution_count": 19,
     "metadata": {},
     "output_type": "execute_result"
    }
   ],
   "source": [
    "data3_dt.index"
   ]
  },
  {
   "cell_type": "code",
   "execution_count": 20,
   "id": "7b102db1",
   "metadata": {
    "execution": {
     "iopub.execute_input": "2023-07-01T19:09:27.440639Z",
     "iopub.status.busy": "2023-07-01T19:09:27.43994Z",
     "iopub.status.idle": "2023-07-01T19:09:27.502041Z",
     "shell.execute_reply": "2023-07-01T19:09:27.500509Z"
    },
    "papermill": {
     "duration": 0.09761,
     "end_time": "2023-07-01T19:09:27.504789",
     "exception": false,
     "start_time": "2023-07-01T19:09:27.407179",
     "status": "completed"
    },
    "tags": []
   },
   "outputs": [
    {
     "data": {
      "text/plain": [
       "DatetimeIndex(['1991-04-01 00:00:00', '1991-04-01 00:00:00',\n",
       "               '1991-04-01 00:00:00', '1991-04-01 00:00:00',\n",
       "               '1991-04-01 00:00:00', '1991-04-01 00:00:00',\n",
       "               '1991-04-01 00:00:00', '1991-04-01 00:00:00',\n",
       "               '1991-04-01 00:00:00', '1991-04-01 00:00:00',\n",
       "               ...\n",
       "               '1991-09-30 11:40:00', '1991-09-30 11:40:00',\n",
       "               '1991-09-30 11:40:00', '1991-09-30 11:40:00',\n",
       "               '1991-09-30 11:40:00', '1991-09-30 11:40:00',\n",
       "               '1991-09-30 11:40:00', '1991-09-30 11:40:00',\n",
       "               '1991-09-30 11:40:00', '1991-09-30 11:40:00'],\n",
       "              dtype='datetime64[ns]', name='time', length=848835, freq=None)"
      ]
     },
     "execution_count": 20,
     "metadata": {},
     "output_type": "execute_result"
    }
   ],
   "source": [
    "data3_dt.index.round('S')\n"
   ]
  },
  {
   "cell_type": "markdown",
   "id": "8eb83ddd",
   "metadata": {
    "papermill": {
     "duration": 0.031089,
     "end_time": "2023-07-01T19:09:27.567087",
     "exception": false,
     "start_time": "2023-07-01T19:09:27.535998",
     "status": "completed"
    },
    "tags": []
   },
   "source": [
    "\n",
    "# <a id=\"10\"></a>\n",
    "### <div style= \"font-family: Times New Roman; font-weight:bold; letter-spacing: 0px; color:WHITE; font-size:120%; text-align:left;padding:3.0px; background: brown; border-bottom: 8px solid WHITE\" > 10 - Beginning & End of data.  <br><div>"
   ]
  },
  {
   "cell_type": "markdown",
   "id": "aad521d5",
   "metadata": {
    "papermill": {
     "duration": 0.030179,
     "end_time": "2023-07-01T19:09:27.627756",
     "exception": false,
     "start_time": "2023-07-01T19:09:27.597577",
     "status": "completed"
    },
    "tags": []
   },
   "source": [
    "\n",
    "\n",
    "## <span style=\"color: #FF4450;\">  To view the beginning and end of the DataFrame, you can use the head() and tail() functions together."
   ]
  },
  {
   "cell_type": "code",
   "execution_count": 21,
   "id": "e8c4809f",
   "metadata": {
    "execution": {
     "iopub.execute_input": "2023-07-01T19:09:27.691038Z",
     "iopub.status.busy": "2023-07-01T19:09:27.690304Z",
     "iopub.status.idle": "2023-07-01T19:09:27.703596Z",
     "shell.execute_reply": "2023-07-01T19:09:27.702563Z"
    },
    "papermill": {
     "duration": 0.047728,
     "end_time": "2023-07-01T19:09:27.706124",
     "exception": false,
     "start_time": "2023-07-01T19:09:27.658396",
     "status": "completed"
    },
    "tags": []
   },
   "outputs": [
    {
     "data": {
      "text/html": [
       "<div>\n",
       "<style scoped>\n",
       "    .dataframe tbody tr th:only-of-type {\n",
       "        vertical-align: middle;\n",
       "    }\n",
       "\n",
       "    .dataframe tbody tr th {\n",
       "        vertical-align: top;\n",
       "    }\n",
       "\n",
       "    .dataframe thead th {\n",
       "        text-align: right;\n",
       "    }\n",
       "</style>\n",
       "<table border=\"1\" class=\"dataframe\">\n",
       "  <thead>\n",
       "    <tr style=\"text-align: right;\">\n",
       "      <th></th>\n",
       "      <th>Number</th>\n",
       "      <th>Year</th>\n",
       "      <th>Album</th>\n",
       "      <th>Artist</th>\n",
       "      <th>Genre</th>\n",
       "      <th>Subgenre</th>\n",
       "    </tr>\n",
       "  </thead>\n",
       "  <tbody>\n",
       "    <tr>\n",
       "      <th>0</th>\n",
       "      <td>101</td>\n",
       "      <td>1955</td>\n",
       "      <td>In the Wee Small Hours</td>\n",
       "      <td>Frank Sinatra</td>\n",
       "      <td>Jazz, Pop</td>\n",
       "      <td>Big Band, Ballad</td>\n",
       "    </tr>\n",
       "    <tr>\n",
       "      <th>1</th>\n",
       "      <td>56</td>\n",
       "      <td>1956</td>\n",
       "      <td>Elvis Presley</td>\n",
       "      <td>Elvis Presley</td>\n",
       "      <td>Rock</td>\n",
       "      <td>Rock &amp; Roll, Rockabilly</td>\n",
       "    </tr>\n",
       "    <tr>\n",
       "      <th>2</th>\n",
       "      <td>308</td>\n",
       "      <td>1956</td>\n",
       "      <td>Songs for Swingin' Lovers!</td>\n",
       "      <td>Frank Sinatra</td>\n",
       "      <td>Jazz, Pop</td>\n",
       "      <td>Vocal, Easy Listening</td>\n",
       "    </tr>\n",
       "    <tr>\n",
       "      <th>3</th>\n",
       "      <td>50</td>\n",
       "      <td>1957</td>\n",
       "      <td>Here's Little Richard</td>\n",
       "      <td>Little Richard</td>\n",
       "      <td>Rock, Blues</td>\n",
       "      <td>Rock &amp; Roll, Rhythm &amp; Blues</td>\n",
       "    </tr>\n",
       "    <tr>\n",
       "      <th>4</th>\n",
       "      <td>420</td>\n",
       "      <td>1957</td>\n",
       "      <td>The \"Chirping\" Crickets</td>\n",
       "      <td>The Crickets</td>\n",
       "      <td>Rock, Pop</td>\n",
       "      <td>Rockabilly, Rock &amp; Roll</td>\n",
       "    </tr>\n",
       "  </tbody>\n",
       "</table>\n",
       "</div>"
      ],
      "text/plain": [
       "   Number  Year                       Album          Artist        Genre  \\\n",
       "0     101  1955      In the Wee Small Hours   Frank Sinatra    Jazz, Pop   \n",
       "1      56  1956               Elvis Presley   Elvis Presley         Rock   \n",
       "2     308  1956  Songs for Swingin' Lovers!   Frank Sinatra    Jazz, Pop   \n",
       "3      50  1957       Here's Little Richard  Little Richard  Rock, Blues   \n",
       "4     420  1957     The \"Chirping\" Crickets    The Crickets    Rock, Pop   \n",
       "\n",
       "                      Subgenre  \n",
       "0             Big Band, Ballad  \n",
       "1      Rock & Roll, Rockabilly  \n",
       "2        Vocal, Easy Listening  \n",
       "3  Rock & Roll, Rhythm & Blues  \n",
       "4      Rockabilly, Rock & Roll  "
      ]
     },
     "execution_count": 21,
     "metadata": {},
     "output_type": "execute_result"
    }
   ],
   "source": [
    "data2.head() # First five records"
   ]
  },
  {
   "cell_type": "code",
   "execution_count": 22,
   "id": "20b66615",
   "metadata": {
    "execution": {
     "iopub.execute_input": "2023-07-01T19:09:27.770582Z",
     "iopub.status.busy": "2023-07-01T19:09:27.769842Z",
     "iopub.status.idle": "2023-07-01T19:09:27.783012Z",
     "shell.execute_reply": "2023-07-01T19:09:27.781762Z"
    },
    "papermill": {
     "duration": 0.048267,
     "end_time": "2023-07-01T19:09:27.785599",
     "exception": false,
     "start_time": "2023-07-01T19:09:27.737332",
     "status": "completed"
    },
    "tags": []
   },
   "outputs": [
    {
     "data": {
      "text/html": [
       "<div>\n",
       "<style scoped>\n",
       "    .dataframe tbody tr th:only-of-type {\n",
       "        vertical-align: middle;\n",
       "    }\n",
       "\n",
       "    .dataframe tbody tr th {\n",
       "        vertical-align: top;\n",
       "    }\n",
       "\n",
       "    .dataframe thead th {\n",
       "        text-align: right;\n",
       "    }\n",
       "</style>\n",
       "<table border=\"1\" class=\"dataframe\">\n",
       "  <thead>\n",
       "    <tr style=\"text-align: right;\">\n",
       "      <th></th>\n",
       "      <th>Number</th>\n",
       "      <th>Year</th>\n",
       "      <th>Album</th>\n",
       "      <th>Artist</th>\n",
       "      <th>Genre</th>\n",
       "      <th>Subgenre</th>\n",
       "    </tr>\n",
       "  </thead>\n",
       "  <tbody>\n",
       "    <tr>\n",
       "      <th>495</th>\n",
       "      <td>430</td>\n",
       "      <td>2007</td>\n",
       "      <td>Vampire Weekend</td>\n",
       "      <td>Vampire Weekend</td>\n",
       "      <td>Rock</td>\n",
       "      <td>Indie Rock</td>\n",
       "    </tr>\n",
       "    <tr>\n",
       "      <th>496</th>\n",
       "      <td>494</td>\n",
       "      <td>2007</td>\n",
       "      <td>Oracular Spectacular</td>\n",
       "      <td>MGMT</td>\n",
       "      <td>Electronic, Rock, Pop</td>\n",
       "      <td>Synth-pop, Indie Rock</td>\n",
       "    </tr>\n",
       "    <tr>\n",
       "      <th>497</th>\n",
       "      <td>437</td>\n",
       "      <td>2008</td>\n",
       "      <td>Tha Carter III</td>\n",
       "      <td>Lil Wayne</td>\n",
       "      <td>Hip Hop, Funk / Soul</td>\n",
       "      <td>RnB/Swing, Screw, Pop Rap, Thug Rap</td>\n",
       "    </tr>\n",
       "    <tr>\n",
       "      <th>498</th>\n",
       "      <td>353</td>\n",
       "      <td>2010</td>\n",
       "      <td>My Beautiful Dark Twisted Fantasy</td>\n",
       "      <td>Kanye West</td>\n",
       "      <td>Hip Hop</td>\n",
       "      <td>None</td>\n",
       "    </tr>\n",
       "    <tr>\n",
       "      <th>499</th>\n",
       "      <td>381</td>\n",
       "      <td>2011</td>\n",
       "      <td>The Smile Sessions</td>\n",
       "      <td>The Beach Boys</td>\n",
       "      <td>Rock</td>\n",
       "      <td>Pop Rock, Psychedelic Rock</td>\n",
       "    </tr>\n",
       "  </tbody>\n",
       "</table>\n",
       "</div>"
      ],
      "text/plain": [
       "     Number  Year                              Album           Artist  \\\n",
       "495     430  2007                    Vampire Weekend  Vampire Weekend   \n",
       "496     494  2007               Oracular Spectacular             MGMT   \n",
       "497     437  2008                     Tha Carter III        Lil Wayne   \n",
       "498     353  2010  My Beautiful Dark Twisted Fantasy       Kanye West   \n",
       "499     381  2011                 The Smile Sessions   The Beach Boys   \n",
       "\n",
       "                     Genre                             Subgenre  \n",
       "495                   Rock                           Indie Rock  \n",
       "496  Electronic, Rock, Pop                Synth-pop, Indie Rock  \n",
       "497   Hip Hop, Funk / Soul  RnB/Swing, Screw, Pop Rap, Thug Rap  \n",
       "498                Hip Hop                                 None  \n",
       "499                   Rock           Pop Rock, Psychedelic Rock  "
      ]
     },
     "execution_count": 22,
     "metadata": {},
     "output_type": "execute_result"
    }
   ],
   "source": [
    "data2.tail() # last 5 records "
   ]
  },
  {
   "cell_type": "code",
   "execution_count": 23,
   "id": "740b4e21",
   "metadata": {
    "execution": {
     "iopub.execute_input": "2023-07-01T19:09:27.851431Z",
     "iopub.status.busy": "2023-07-01T19:09:27.850474Z",
     "iopub.status.idle": "2023-07-01T19:09:27.863714Z",
     "shell.execute_reply": "2023-07-01T19:09:27.862477Z"
    },
    "papermill": {
     "duration": 0.049393,
     "end_time": "2023-07-01T19:09:27.866232",
     "exception": false,
     "start_time": "2023-07-01T19:09:27.816839",
     "status": "completed"
    },
    "tags": []
   },
   "outputs": [
    {
     "data": {
      "text/html": [
       "<div>\n",
       "<style scoped>\n",
       "    .dataframe tbody tr th:only-of-type {\n",
       "        vertical-align: middle;\n",
       "    }\n",
       "\n",
       "    .dataframe tbody tr th {\n",
       "        vertical-align: top;\n",
       "    }\n",
       "\n",
       "    .dataframe thead th {\n",
       "        text-align: right;\n",
       "    }\n",
       "</style>\n",
       "<table border=\"1\" class=\"dataframe\">\n",
       "  <thead>\n",
       "    <tr style=\"text-align: right;\">\n",
       "      <th></th>\n",
       "      <th>Number</th>\n",
       "      <th>Year</th>\n",
       "      <th>Album</th>\n",
       "      <th>Artist</th>\n",
       "      <th>Genre</th>\n",
       "      <th>Subgenre</th>\n",
       "    </tr>\n",
       "  </thead>\n",
       "  <tbody>\n",
       "    <tr>\n",
       "      <th>0</th>\n",
       "      <td>101</td>\n",
       "      <td>1955</td>\n",
       "      <td>In the Wee Small Hours</td>\n",
       "      <td>Frank Sinatra</td>\n",
       "      <td>Jazz, Pop</td>\n",
       "      <td>Big Band, Ballad</td>\n",
       "    </tr>\n",
       "    <tr>\n",
       "      <th>1</th>\n",
       "      <td>56</td>\n",
       "      <td>1956</td>\n",
       "      <td>Elvis Presley</td>\n",
       "      <td>Elvis Presley</td>\n",
       "      <td>Rock</td>\n",
       "      <td>Rock &amp; Roll, Rockabilly</td>\n",
       "    </tr>\n",
       "  </tbody>\n",
       "</table>\n",
       "</div>"
      ],
      "text/plain": [
       "   Number  Year                   Album         Artist      Genre  \\\n",
       "0     101  1955  In the Wee Small Hours  Frank Sinatra  Jazz, Pop   \n",
       "1      56  1956           Elvis Presley  Elvis Presley       Rock   \n",
       "\n",
       "                  Subgenre  \n",
       "0         Big Band, Ballad  \n",
       "1  Rock & Roll, Rockabilly  "
      ]
     },
     "execution_count": 23,
     "metadata": {},
     "output_type": "execute_result"
    }
   ],
   "source": [
    "data2.head(2) # prints first two records . "
   ]
  },
  {
   "cell_type": "code",
   "execution_count": 24,
   "id": "c21fa86a",
   "metadata": {
    "execution": {
     "iopub.execute_input": "2023-07-01T19:09:27.931206Z",
     "iopub.status.busy": "2023-07-01T19:09:27.930764Z",
     "iopub.status.idle": "2023-07-01T19:09:27.944506Z",
     "shell.execute_reply": "2023-07-01T19:09:27.943352Z"
    },
    "papermill": {
     "duration": 0.049393,
     "end_time": "2023-07-01T19:09:27.946935",
     "exception": false,
     "start_time": "2023-07-01T19:09:27.897542",
     "status": "completed"
    },
    "tags": []
   },
   "outputs": [
    {
     "data": {
      "text/html": [
       "<div>\n",
       "<style scoped>\n",
       "    .dataframe tbody tr th:only-of-type {\n",
       "        vertical-align: middle;\n",
       "    }\n",
       "\n",
       "    .dataframe tbody tr th {\n",
       "        vertical-align: top;\n",
       "    }\n",
       "\n",
       "    .dataframe thead th {\n",
       "        text-align: right;\n",
       "    }\n",
       "</style>\n",
       "<table border=\"1\" class=\"dataframe\">\n",
       "  <thead>\n",
       "    <tr style=\"text-align: right;\">\n",
       "      <th></th>\n",
       "      <th>Number</th>\n",
       "      <th>Year</th>\n",
       "      <th>Album</th>\n",
       "      <th>Artist</th>\n",
       "      <th>Genre</th>\n",
       "      <th>Subgenre</th>\n",
       "    </tr>\n",
       "  </thead>\n",
       "  <tbody>\n",
       "    <tr>\n",
       "      <th>496</th>\n",
       "      <td>494</td>\n",
       "      <td>2007</td>\n",
       "      <td>Oracular Spectacular</td>\n",
       "      <td>MGMT</td>\n",
       "      <td>Electronic, Rock, Pop</td>\n",
       "      <td>Synth-pop, Indie Rock</td>\n",
       "    </tr>\n",
       "    <tr>\n",
       "      <th>497</th>\n",
       "      <td>437</td>\n",
       "      <td>2008</td>\n",
       "      <td>Tha Carter III</td>\n",
       "      <td>Lil Wayne</td>\n",
       "      <td>Hip Hop, Funk / Soul</td>\n",
       "      <td>RnB/Swing, Screw, Pop Rap, Thug Rap</td>\n",
       "    </tr>\n",
       "    <tr>\n",
       "      <th>498</th>\n",
       "      <td>353</td>\n",
       "      <td>2010</td>\n",
       "      <td>My Beautiful Dark Twisted Fantasy</td>\n",
       "      <td>Kanye West</td>\n",
       "      <td>Hip Hop</td>\n",
       "      <td>None</td>\n",
       "    </tr>\n",
       "    <tr>\n",
       "      <th>499</th>\n",
       "      <td>381</td>\n",
       "      <td>2011</td>\n",
       "      <td>The Smile Sessions</td>\n",
       "      <td>The Beach Boys</td>\n",
       "      <td>Rock</td>\n",
       "      <td>Pop Rock, Psychedelic Rock</td>\n",
       "    </tr>\n",
       "  </tbody>\n",
       "</table>\n",
       "</div>"
      ],
      "text/plain": [
       "     Number  Year                              Album          Artist  \\\n",
       "496     494  2007               Oracular Spectacular            MGMT   \n",
       "497     437  2008                     Tha Carter III       Lil Wayne   \n",
       "498     353  2010  My Beautiful Dark Twisted Fantasy      Kanye West   \n",
       "499     381  2011                 The Smile Sessions  The Beach Boys   \n",
       "\n",
       "                     Genre                             Subgenre  \n",
       "496  Electronic, Rock, Pop                Synth-pop, Indie Rock  \n",
       "497   Hip Hop, Funk / Soul  RnB/Swing, Screw, Pop Rap, Thug Rap  \n",
       "498                Hip Hop                                 None  \n",
       "499                   Rock           Pop Rock, Psychedelic Rock  "
      ]
     },
     "execution_count": 24,
     "metadata": {},
     "output_type": "execute_result"
    }
   ],
   "source": [
    "data2.tail(4) # Will give you last 4 records of table"
   ]
  },
  {
   "cell_type": "markdown",
   "id": "2475ca25",
   "metadata": {
    "papermill": {
     "duration": 0.034508,
     "end_time": "2023-07-01T19:09:28.015735",
     "exception": false,
     "start_time": "2023-07-01T19:09:27.981227",
     "status": "completed"
    },
    "tags": []
   },
   "source": [
    "\n",
    "# <a id=\"11\"></a>\n",
    "### <div style= \"font-family: Times New Roman; font-weight:bold; letter-spacing: 0px; color:WHITE; font-size:120%; text-align:left;padding:3.0px; background: brown; border-bottom: 8px solid WHITE\" > 11 - Exploratory Data Analysis.  <br><div>\n",
    "\n"
   ]
  },
  {
   "cell_type": "code",
   "execution_count": 25,
   "id": "aed60aec",
   "metadata": {
    "execution": {
     "iopub.execute_input": "2023-07-01T19:09:28.084865Z",
     "iopub.status.busy": "2023-07-01T19:09:28.084049Z",
     "iopub.status.idle": "2023-07-01T19:09:28.091328Z",
     "shell.execute_reply": "2023-07-01T19:09:28.090352Z"
    },
    "papermill": {
     "duration": 0.04419,
     "end_time": "2023-07-01T19:09:28.093724",
     "exception": false,
     "start_time": "2023-07-01T19:09:28.049534",
     "status": "completed"
    },
    "tags": []
   },
   "outputs": [
    {
     "data": {
      "text/plain": [
       "Index(['Number', 'Year', 'Album', 'Artist', 'Genre', 'Subgenre'], dtype='object')"
      ]
     },
     "execution_count": 25,
     "metadata": {},
     "output_type": "execute_result"
    }
   ],
   "source": [
    "# Columns of the DataFrame\n",
    "data2.columns\n"
   ]
  },
  {
   "cell_type": "markdown",
   "id": "9b1f4e10",
   "metadata": {
    "papermill": {
     "duration": 0.032528,
     "end_time": "2023-07-01T19:09:28.160304",
     "exception": false,
     "start_time": "2023-07-01T19:09:28.127776",
     "status": "completed"
    },
    "tags": []
   },
   "source": [
    "# <a id=\"11.1\"></a>\n",
    "## <span style=\"color: #FF4450;\"> 11.1 -  Descrpition about index of data</span>\n",
    "#### <span style=\"color: #FF4450;\">To get a description of the index of the DataFrame, you can use the index attribute. "
   ]
  },
  {
   "cell_type": "code",
   "execution_count": 26,
   "id": "e5435fc0",
   "metadata": {
    "execution": {
     "iopub.execute_input": "2023-07-01T19:09:28.230139Z",
     "iopub.status.busy": "2023-07-01T19:09:28.229262Z",
     "iopub.status.idle": "2023-07-01T19:09:28.236714Z",
     "shell.execute_reply": "2023-07-01T19:09:28.23554Z"
    },
    "papermill": {
     "duration": 0.045167,
     "end_time": "2023-07-01T19:09:28.239131",
     "exception": false,
     "start_time": "2023-07-01T19:09:28.193964",
     "status": "completed"
    },
    "tags": []
   },
   "outputs": [
    {
     "data": {
      "text/plain": [
       "RangeIndex(start=0, stop=227, step=1)"
      ]
     },
     "execution_count": 26,
     "metadata": {},
     "output_type": "execute_result"
    }
   ],
   "source": [
    "data.index"
   ]
  },
  {
   "cell_type": "code",
   "execution_count": 27,
   "id": "ab948a95",
   "metadata": {
    "execution": {
     "iopub.execute_input": "2023-07-01T19:09:28.309487Z",
     "iopub.status.busy": "2023-07-01T19:09:28.309065Z",
     "iopub.status.idle": "2023-07-01T19:09:28.31945Z",
     "shell.execute_reply": "2023-07-01T19:09:28.316808Z"
    },
    "papermill": {
     "duration": 0.050114,
     "end_time": "2023-07-01T19:09:28.32277",
     "exception": false,
     "start_time": "2023-07-01T19:09:28.272656",
     "status": "completed"
    },
    "tags": []
   },
   "outputs": [
    {
     "data": {
      "text/plain": [
       "RangeIndex(start=0, stop=500, step=1)"
      ]
     },
     "execution_count": 27,
     "metadata": {},
     "output_type": "execute_result"
    }
   ],
   "source": [
    "data2.index"
   ]
  },
  {
   "cell_type": "code",
   "execution_count": 28,
   "id": "12280562",
   "metadata": {
    "execution": {
     "iopub.execute_input": "2023-07-01T19:09:28.391329Z",
     "iopub.status.busy": "2023-07-01T19:09:28.390876Z",
     "iopub.status.idle": "2023-07-01T19:09:28.398205Z",
     "shell.execute_reply": "2023-07-01T19:09:28.397107Z"
    },
    "papermill": {
     "duration": 0.044487,
     "end_time": "2023-07-01T19:09:28.400629",
     "exception": false,
     "start_time": "2023-07-01T19:09:28.356142",
     "status": "completed"
    },
    "tags": []
   },
   "outputs": [
    {
     "data": {
      "text/plain": [
       "RangeIndex(start=0, stop=848835, step=1)"
      ]
     },
     "execution_count": 28,
     "metadata": {},
     "output_type": "execute_result"
    }
   ],
   "source": [
    "data3.index"
   ]
  },
  {
   "cell_type": "markdown",
   "id": "5c313791",
   "metadata": {
    "papermill": {
     "duration": 0.033853,
     "end_time": "2023-07-01T19:09:28.468931",
     "exception": false,
     "start_time": "2023-07-01T19:09:28.435078",
     "status": "completed"
    },
    "tags": []
   },
   "source": [
    "\n",
    "\n",
    "\n",
    "<p style=\"padding: 10px; background-color: #000000; margin: 0; color: ORANGE; font-family: New Times Roman; font-size: 135%; text-align: center; border-radius: 5px; overflow: hidden; font-weight: 500;\">\n",
    "lets retrieve some information of our dataset: \n",
    "</p>\n",
    "\n",
    "<p style=\"text-align: center;\">\n",
    "    <!-- Content related to the bar chart can be added here -->\n",
    "</p>"
   ]
  },
  {
   "cell_type": "code",
   "execution_count": 29,
   "id": "538a4c43",
   "metadata": {
    "execution": {
     "iopub.execute_input": "2023-07-01T19:09:28.539323Z",
     "iopub.status.busy": "2023-07-01T19:09:28.538156Z",
     "iopub.status.idle": "2023-07-01T19:09:28.558185Z",
     "shell.execute_reply": "2023-07-01T19:09:28.55689Z"
    },
    "papermill": {
     "duration": 0.059077,
     "end_time": "2023-07-01T19:09:28.561018",
     "exception": false,
     "start_time": "2023-07-01T19:09:28.501941",
     "status": "completed"
    },
    "tags": []
   },
   "outputs": [
    {
     "name": "stdout",
     "output_type": "stream",
     "text": [
      "<class 'pandas.core.frame.DataFrame'>\n",
      "RangeIndex: 227 entries, 0 to 226\n",
      "Data columns (total 20 columns):\n",
      " #   Column                              Non-Null Count  Dtype  \n",
      "---  ------                              --------------  -----  \n",
      " 0   Country                             227 non-null    object \n",
      " 1   Region                              227 non-null    object \n",
      " 2   Population                          227 non-null    int64  \n",
      " 3   Area (sq. mi.)                      227 non-null    int64  \n",
      " 4   Pop. Density (per sq. mi.)          227 non-null    object \n",
      " 5   Coastline (coast/area ratio)        227 non-null    object \n",
      " 6   Net migration                       224 non-null    object \n",
      " 7   Infant mortality (per 1000 births)  224 non-null    object \n",
      " 8   GDP ($ per capita)                  226 non-null    float64\n",
      " 9   Literacy (%)                        209 non-null    object \n",
      " 10  Phones (per 1000)                   223 non-null    object \n",
      " 11  Arable (%)                          225 non-null    object \n",
      " 12  Crops (%)                           225 non-null    object \n",
      " 13  Other (%)                           225 non-null    object \n",
      " 14  Climate                             205 non-null    object \n",
      " 15  Birthrate                           224 non-null    object \n",
      " 16  Deathrate                           223 non-null    object \n",
      " 17  Agriculture                         212 non-null    object \n",
      " 18  Industry                            211 non-null    object \n",
      " 19  Service                             212 non-null    object \n",
      "dtypes: float64(1), int64(2), object(17)\n",
      "memory usage: 35.6+ KB\n"
     ]
    }
   ],
   "source": [
    "data.info()"
   ]
  },
  {
   "cell_type": "markdown",
   "id": "fcbaf7b3",
   "metadata": {
    "papermill": {
     "duration": 0.032102,
     "end_time": "2023-07-01T19:09:28.626919",
     "exception": false,
     "start_time": "2023-07-01T19:09:28.594817",
     "status": "completed"
    },
    "tags": []
   },
   "source": [
    "\n",
    "\n",
    "\n",
    "\n",
    "\n",
    "\n",
    "<p style=\"padding: 10px; background-color: #000000; margin: 0; color: ORANGE; font-family: New Times Roman; font-size: 135%; text-align: center; border-radius: 5px; overflow: hidden; font-weight: 500;\">\n",
    "As we can see in the above output not every columns has same output since repeated values are excluded\n",
    "\n",
    "</p>\n",
    "\n",
    "<p style=\"text-align: center;\">\n",
    "    <!-- Content related to the bar chart can be added here -->\n",
    "</p>"
   ]
  },
  {
   "cell_type": "code",
   "execution_count": 30,
   "id": "8f2d391f",
   "metadata": {
    "execution": {
     "iopub.execute_input": "2023-07-01T19:09:28.69612Z",
     "iopub.status.busy": "2023-07-01T19:09:28.695624Z",
     "iopub.status.idle": "2023-07-01T19:09:28.712376Z",
     "shell.execute_reply": "2023-07-01T19:09:28.710629Z"
    },
    "papermill": {
     "duration": 0.055145,
     "end_time": "2023-07-01T19:09:28.715816",
     "exception": false,
     "start_time": "2023-07-01T19:09:28.660671",
     "status": "completed"
    },
    "tags": []
   },
   "outputs": [
    {
     "name": "stdout",
     "output_type": "stream",
     "text": [
      "<class 'pandas.core.frame.DataFrame'>\n",
      "RangeIndex: 500 entries, 0 to 499\n",
      "Data columns (total 6 columns):\n",
      " #   Column    Non-Null Count  Dtype \n",
      "---  ------    --------------  ----- \n",
      " 0   Number    500 non-null    int64 \n",
      " 1   Year      500 non-null    int64 \n",
      " 2   Album     500 non-null    object\n",
      " 3   Artist    500 non-null    object\n",
      " 4   Genre     500 non-null    object\n",
      " 5   Subgenre  500 non-null    object\n",
      "dtypes: int64(2), object(4)\n",
      "memory usage: 23.6+ KB\n"
     ]
    }
   ],
   "source": [
    "data2.info()"
   ]
  },
  {
   "cell_type": "code",
   "execution_count": 31,
   "id": "1cc6d424",
   "metadata": {
    "execution": {
     "iopub.execute_input": "2023-07-01T19:09:28.783606Z",
     "iopub.status.busy": "2023-07-01T19:09:28.783119Z",
     "iopub.status.idle": "2023-07-01T19:09:29.072202Z",
     "shell.execute_reply": "2023-07-01T19:09:29.070894Z"
    },
    "papermill": {
     "duration": 0.326269,
     "end_time": "2023-07-01T19:09:29.075216",
     "exception": false,
     "start_time": "2023-07-01T19:09:28.748947",
     "status": "completed"
    },
    "tags": []
   },
   "outputs": [
    {
     "name": "stdout",
     "output_type": "stream",
     "text": [
      "<class 'pandas.core.frame.DataFrame'>\n",
      "RangeIndex: 848835 entries, 0 to 848834\n",
      "Data columns (total 6 columns):\n",
      " #   Column      Non-Null Count   Dtype         \n",
      "---  ------      --------------   -----         \n",
      " 0   row_id      848835 non-null  int64         \n",
      " 1   time        848835 non-null  datetime64[ns]\n",
      " 2   x           848835 non-null  int64         \n",
      " 3   y           848835 non-null  int64         \n",
      " 4   direction   848835 non-null  object        \n",
      " 5   congestion  848835 non-null  int64         \n",
      "dtypes: datetime64[ns](1), int64(4), object(1)\n",
      "memory usage: 38.9+ MB\n"
     ]
    }
   ],
   "source": [
    "data3.info()"
   ]
  },
  {
   "cell_type": "markdown",
   "id": "af32a4e0",
   "metadata": {
    "papermill": {
     "duration": 0.034232,
     "end_time": "2023-07-01T19:09:29.143348",
     "exception": false,
     "start_time": "2023-07-01T19:09:29.109116",
     "status": "completed"
    },
    "tags": []
   },
   "source": [
    "# <a id=\"11.2\"></a>\n",
    "## <span style=\"color: #FF4450;\"> 11.2 - Statistical descrpition about  of data\n",
    "To get a statistical description of the DataFrame, you can use the describe() function. "
   ]
  },
  {
   "cell_type": "code",
   "execution_count": 32,
   "id": "4424de5f",
   "metadata": {
    "execution": {
     "iopub.execute_input": "2023-07-01T19:09:29.213135Z",
     "iopub.status.busy": "2023-07-01T19:09:29.212698Z",
     "iopub.status.idle": "2023-07-01T19:09:29.226874Z",
     "shell.execute_reply": "2023-07-01T19:09:29.225244Z"
    },
    "papermill": {
     "duration": 0.052446,
     "end_time": "2023-07-01T19:09:29.229603",
     "exception": false,
     "start_time": "2023-07-01T19:09:29.177157",
     "status": "completed"
    },
    "tags": []
   },
   "outputs": [
    {
     "data": {
      "text/plain": [
       "<bound method NDFrame.describe of      Number  Year                              Album           Artist  \\\n",
       "0       101  1955             In the Wee Small Hours    Frank Sinatra   \n",
       "1        56  1956                      Elvis Presley    Elvis Presley   \n",
       "2       308  1956         Songs for Swingin' Lovers!    Frank Sinatra   \n",
       "3        50  1957              Here's Little Richard   Little Richard   \n",
       "4       420  1957            The \"Chirping\" Crickets     The Crickets   \n",
       "..      ...   ...                                ...              ...   \n",
       "495     430  2007                    Vampire Weekend  Vampire Weekend   \n",
       "496     494  2007               Oracular Spectacular             MGMT   \n",
       "497     437  2008                     Tha Carter III        Lil Wayne   \n",
       "498     353  2010  My Beautiful Dark Twisted Fantasy       Kanye West   \n",
       "499     381  2011                 The Smile Sessions   The Beach Boys   \n",
       "\n",
       "                     Genre                             Subgenre  \n",
       "0                Jazz, Pop                     Big Band, Ballad  \n",
       "1                     Rock              Rock & Roll, Rockabilly  \n",
       "2                Jazz, Pop                Vocal, Easy Listening  \n",
       "3              Rock, Blues          Rock & Roll, Rhythm & Blues  \n",
       "4                Rock, Pop              Rockabilly, Rock & Roll  \n",
       "..                     ...                                  ...  \n",
       "495                   Rock                           Indie Rock  \n",
       "496  Electronic, Rock, Pop                Synth-pop, Indie Rock  \n",
       "497   Hip Hop, Funk / Soul  RnB/Swing, Screw, Pop Rap, Thug Rap  \n",
       "498                Hip Hop                                 None  \n",
       "499                   Rock           Pop Rock, Psychedelic Rock  \n",
       "\n",
       "[500 rows x 6 columns]>"
      ]
     },
     "execution_count": 32,
     "metadata": {},
     "output_type": "execute_result"
    }
   ],
   "source": [
    "data2.describe"
   ]
  },
  {
   "cell_type": "markdown",
   "id": "4c43e747",
   "metadata": {
    "papermill": {
     "duration": 0.033102,
     "end_time": "2023-07-01T19:09:29.295457",
     "exception": false,
     "start_time": "2023-07-01T19:09:29.262355",
     "status": "completed"
    },
    "tags": []
   },
   "source": [
    "\n",
    "\n",
    "\n",
    "\n",
    "\n",
    "\n",
    "\n",
    "\n",
    "\n",
    "<p style=\"padding: 10px; background-color: #000000; margin: 0; color: ORANGE; font-family: New Times Roman; font-size: 135%; text-align: center; border-radius: 5px; overflow: hidden; font-weight: 500;\">\n",
    "Using a parenthesis or a \"()\" with describe will give us the statistical summary or statistical values for the dataframe\n",
    "\n",
    "\n",
    "</p>\n",
    "\n",
    "<p style=\"text-align: center;\">\n",
    "    <!-- Content related to the bar chart can be added here -->\n",
    "</p>\n",
    "\n"
   ]
  },
  {
   "cell_type": "code",
   "execution_count": 33,
   "id": "9602b43e",
   "metadata": {
    "execution": {
     "iopub.execute_input": "2023-07-01T19:09:29.365608Z",
     "iopub.status.busy": "2023-07-01T19:09:29.364164Z",
     "iopub.status.idle": "2023-07-01T19:09:29.383738Z",
     "shell.execute_reply": "2023-07-01T19:09:29.382589Z"
    },
    "papermill": {
     "duration": 0.056978,
     "end_time": "2023-07-01T19:09:29.386101",
     "exception": false,
     "start_time": "2023-07-01T19:09:29.329123",
     "status": "completed"
    },
    "tags": []
   },
   "outputs": [
    {
     "data": {
      "text/html": [
       "<div>\n",
       "<style scoped>\n",
       "    .dataframe tbody tr th:only-of-type {\n",
       "        vertical-align: middle;\n",
       "    }\n",
       "\n",
       "    .dataframe tbody tr th {\n",
       "        vertical-align: top;\n",
       "    }\n",
       "\n",
       "    .dataframe thead th {\n",
       "        text-align: right;\n",
       "    }\n",
       "</style>\n",
       "<table border=\"1\" class=\"dataframe\">\n",
       "  <thead>\n",
       "    <tr style=\"text-align: right;\">\n",
       "      <th></th>\n",
       "      <th>Number</th>\n",
       "      <th>Year</th>\n",
       "    </tr>\n",
       "  </thead>\n",
       "  <tbody>\n",
       "    <tr>\n",
       "      <th>count</th>\n",
       "      <td>500.000000</td>\n",
       "      <td>500.000000</td>\n",
       "    </tr>\n",
       "    <tr>\n",
       "      <th>mean</th>\n",
       "      <td>250.500000</td>\n",
       "      <td>1979.270000</td>\n",
       "    </tr>\n",
       "    <tr>\n",
       "      <th>std</th>\n",
       "      <td>144.481833</td>\n",
       "      <td>12.093701</td>\n",
       "    </tr>\n",
       "    <tr>\n",
       "      <th>min</th>\n",
       "      <td>1.000000</td>\n",
       "      <td>1955.000000</td>\n",
       "    </tr>\n",
       "    <tr>\n",
       "      <th>25%</th>\n",
       "      <td>125.750000</td>\n",
       "      <td>1970.000000</td>\n",
       "    </tr>\n",
       "    <tr>\n",
       "      <th>50%</th>\n",
       "      <td>250.500000</td>\n",
       "      <td>1976.000000</td>\n",
       "    </tr>\n",
       "    <tr>\n",
       "      <th>75%</th>\n",
       "      <td>375.250000</td>\n",
       "      <td>1988.000000</td>\n",
       "    </tr>\n",
       "    <tr>\n",
       "      <th>max</th>\n",
       "      <td>500.000000</td>\n",
       "      <td>2011.000000</td>\n",
       "    </tr>\n",
       "  </tbody>\n",
       "</table>\n",
       "</div>"
      ],
      "text/plain": [
       "           Number         Year\n",
       "count  500.000000   500.000000\n",
       "mean   250.500000  1979.270000\n",
       "std    144.481833    12.093701\n",
       "min      1.000000  1955.000000\n",
       "25%    125.750000  1970.000000\n",
       "50%    250.500000  1976.000000\n",
       "75%    375.250000  1988.000000\n",
       "max    500.000000  2011.000000"
      ]
     },
     "execution_count": 33,
     "metadata": {},
     "output_type": "execute_result"
    }
   ],
   "source": [
    "data2.describe()\n"
   ]
  },
  {
   "cell_type": "markdown",
   "id": "b3f1e2da",
   "metadata": {
    "papermill": {
     "duration": 0.03241,
     "end_time": "2023-07-01T19:09:29.451364",
     "exception": false,
     "start_time": "2023-07-01T19:09:29.418954",
     "status": "completed"
    },
    "tags": []
   },
   "source": [
    "# <a id=\"11.3\"></a>\n",
    "## <span style=\"color: #FF4450;\">11.3 -  To get total number of rows\n",
    "</p>\n",
    "\n",
    "<p style=\"text-align: center;\">\n",
    "    <!-- Content related to the bar chart can be added here -->\n",
    "</p>\n",
    "\n"
   ]
  },
  {
   "cell_type": "code",
   "execution_count": 34,
   "id": "221c6fa8",
   "metadata": {
    "execution": {
     "iopub.execute_input": "2023-07-01T19:09:29.521675Z",
     "iopub.status.busy": "2023-07-01T19:09:29.519513Z",
     "iopub.status.idle": "2023-07-01T19:09:29.531725Z",
     "shell.execute_reply": "2023-07-01T19:09:29.530184Z"
    },
    "papermill": {
     "duration": 0.050111,
     "end_time": "2023-07-01T19:09:29.534683",
     "exception": false,
     "start_time": "2023-07-01T19:09:29.484572",
     "status": "completed"
    },
    "tags": []
   },
   "outputs": [
    {
     "data": {
      "text/plain": [
       "Number      500\n",
       "Year        500\n",
       "Album       500\n",
       "Artist      500\n",
       "Genre       500\n",
       "Subgenre    500\n",
       "dtype: int64"
      ]
     },
     "execution_count": 34,
     "metadata": {},
     "output_type": "execute_result"
    }
   ],
   "source": [
    "data2.count()"
   ]
  },
  {
   "cell_type": "code",
   "execution_count": 35,
   "id": "b23a0ab1",
   "metadata": {
    "execution": {
     "iopub.execute_input": "2023-07-01T19:09:29.603833Z",
     "iopub.status.busy": "2023-07-01T19:09:29.603163Z",
     "iopub.status.idle": "2023-07-01T19:09:29.883411Z",
     "shell.execute_reply": "2023-07-01T19:09:29.882433Z"
    },
    "papermill": {
     "duration": 0.31781,
     "end_time": "2023-07-01T19:09:29.885809",
     "exception": false,
     "start_time": "2023-07-01T19:09:29.567999",
     "status": "completed"
    },
    "tags": []
   },
   "outputs": [
    {
     "data": {
      "text/plain": [
       "row_id        848835\n",
       "time          848835\n",
       "x             848835\n",
       "y             848835\n",
       "direction     848835\n",
       "congestion    848835\n",
       "dtype: int64"
      ]
     },
     "execution_count": 35,
     "metadata": {},
     "output_type": "execute_result"
    }
   ],
   "source": [
    "data3.count()"
   ]
  },
  {
   "cell_type": "markdown",
   "id": "6f58ec47",
   "metadata": {
    "papermill": {
     "duration": 0.033658,
     "end_time": "2023-07-01T19:09:29.953628",
     "exception": false,
     "start_time": "2023-07-01T19:09:29.91997",
     "status": "completed"
    },
    "tags": []
   },
   "source": [
    "\n",
    "# <a id=\"12\"></a>\n",
    "### <div style= \"font-family: Times New Roman; font-weight:bold; letter-spacing: 0px; color:WHITE; font-size:120%; text-align:left;padding:3.0px; background: brown; border-bottom: 8px solid WHITE\" > 12 - Groupby().  <br><div> \n",
    "\n"
   ]
  },
  {
   "cell_type": "markdown",
   "id": "df057325",
   "metadata": {
    "papermill": {
     "duration": 0.032988,
     "end_time": "2023-07-01T19:09:30.020507",
     "exception": false,
     "start_time": "2023-07-01T19:09:29.987519",
     "status": "completed"
    },
    "tags": []
   },
   "source": [
    "\n",
    "## <span style=\"color: #FF4450;\">The groupby() function is used to group data based on one or more columns."
   ]
  },
  {
   "cell_type": "code",
   "execution_count": 36,
   "id": "4f166822",
   "metadata": {
    "execution": {
     "iopub.execute_input": "2023-07-01T19:09:30.093353Z",
     "iopub.status.busy": "2023-07-01T19:09:30.092013Z",
     "iopub.status.idle": "2023-07-01T19:09:30.114346Z",
     "shell.execute_reply": "2023-07-01T19:09:30.113153Z"
    },
    "papermill": {
     "duration": 0.059862,
     "end_time": "2023-07-01T19:09:30.116976",
     "exception": false,
     "start_time": "2023-07-01T19:09:30.057114",
     "status": "completed"
    },
    "tags": []
   },
   "outputs": [
    {
     "data": {
      "text/html": [
       "<div>\n",
       "<style scoped>\n",
       "    .dataframe tbody tr th:only-of-type {\n",
       "        vertical-align: middle;\n",
       "    }\n",
       "\n",
       "    .dataframe tbody tr th {\n",
       "        vertical-align: top;\n",
       "    }\n",
       "\n",
       "    .dataframe thead th {\n",
       "        text-align: right;\n",
       "    }\n",
       "</style>\n",
       "<table border=\"1\" class=\"dataframe\">\n",
       "  <thead>\n",
       "    <tr style=\"text-align: right;\">\n",
       "      <th></th>\n",
       "      <th>Group</th>\n",
       "      <th>Value</th>\n",
       "      <th>GroupMean</th>\n",
       "    </tr>\n",
       "  </thead>\n",
       "  <tbody>\n",
       "    <tr>\n",
       "      <th>0</th>\n",
       "      <td>A</td>\n",
       "      <td>1</td>\n",
       "      <td>3.0</td>\n",
       "    </tr>\n",
       "    <tr>\n",
       "      <th>1</th>\n",
       "      <td>B</td>\n",
       "      <td>2</td>\n",
       "      <td>4.0</td>\n",
       "    </tr>\n",
       "    <tr>\n",
       "      <th>2</th>\n",
       "      <td>A</td>\n",
       "      <td>3</td>\n",
       "      <td>3.0</td>\n",
       "    </tr>\n",
       "    <tr>\n",
       "      <th>3</th>\n",
       "      <td>B</td>\n",
       "      <td>4</td>\n",
       "      <td>4.0</td>\n",
       "    </tr>\n",
       "    <tr>\n",
       "      <th>4</th>\n",
       "      <td>A</td>\n",
       "      <td>5</td>\n",
       "      <td>3.0</td>\n",
       "    </tr>\n",
       "    <tr>\n",
       "      <th>5</th>\n",
       "      <td>B</td>\n",
       "      <td>6</td>\n",
       "      <td>4.0</td>\n",
       "    </tr>\n",
       "  </tbody>\n",
       "</table>\n",
       "</div>"
      ],
      "text/plain": [
       "  Group  Value  GroupMean\n",
       "0     A      1        3.0\n",
       "1     B      2        4.0\n",
       "2     A      3        3.0\n",
       "3     B      4        4.0\n",
       "4     A      5        3.0\n",
       "5     B      6        4.0"
      ]
     },
     "execution_count": 36,
     "metadata": {},
     "output_type": "execute_result"
    }
   ],
   "source": [
    "\n",
    "# Create a sample DataFrame\n",
    "data = {\n",
    "    'Group': ['A', 'B', 'A', 'B', 'A', 'B'],\n",
    "    'Value': [1, 2, 3, 4, 5, 6]\n",
    "}\n",
    "\n",
    "# converting the Dictionary into a dataframe\n",
    "df = pd.DataFrame(data)\n",
    "\n",
    "# Calculate the mean value for each group and assign it to a new column\n",
    "df['GroupMean'] = df.groupby('Group')['Value'].transform('mean')\n",
    "\n",
    "df\n"
   ]
  },
  {
   "cell_type": "markdown",
   "id": "28a76eb3",
   "metadata": {
    "papermill": {
     "duration": 0.033718,
     "end_time": "2023-07-01T19:09:30.185495",
     "exception": false,
     "start_time": "2023-07-01T19:09:30.151777",
     "status": "completed"
    },
    "tags": []
   },
   "source": [
    "\n",
    "# <a id=\"13\"></a>\n",
    "### <div style= \"font-family: Times New Roman; font-weight:bold; letter-spacing: 0px; color:WHITE; font-size:120%; text-align:left;padding:3.0px; background: brown; border-bottom: 8px solid WHITE\" > 13 - Crosstab().  <br><div> "
   ]
  },
  {
   "cell_type": "markdown",
   "id": "a900b7c7",
   "metadata": {
    "papermill": {
     "duration": 0.034206,
     "end_time": "2023-07-01T19:09:30.253141",
     "exception": false,
     "start_time": "2023-07-01T19:09:30.218935",
     "status": "completed"
    },
    "tags": []
   },
   "source": [
    "\n",
    "## <span style=\"color: #FF4450;\">The crosstab() function is used to compute a cross-tabulation of two or more factors. "
   ]
  },
  {
   "cell_type": "code",
   "execution_count": 37,
   "id": "088594ae",
   "metadata": {
    "execution": {
     "iopub.execute_input": "2023-07-01T19:09:30.324794Z",
     "iopub.status.busy": "2023-07-01T19:09:30.323982Z",
     "iopub.status.idle": "2023-07-01T19:09:30.367633Z",
     "shell.execute_reply": "2023-07-01T19:09:30.366138Z"
    },
    "papermill": {
     "duration": 0.083689,
     "end_time": "2023-07-01T19:09:30.370531",
     "exception": false,
     "start_time": "2023-07-01T19:09:30.286842",
     "status": "completed"
    },
    "tags": []
   },
   "outputs": [
    {
     "data": {
      "text/html": [
       "<div>\n",
       "<style scoped>\n",
       "    .dataframe tbody tr th:only-of-type {\n",
       "        vertical-align: middle;\n",
       "    }\n",
       "\n",
       "    .dataframe tbody tr th {\n",
       "        vertical-align: top;\n",
       "    }\n",
       "\n",
       "    .dataframe thead th {\n",
       "        text-align: right;\n",
       "    }\n",
       "</style>\n",
       "<table border=\"1\" class=\"dataframe\">\n",
       "  <thead>\n",
       "    <tr style=\"text-align: right;\">\n",
       "      <th>Value</th>\n",
       "      <th>1</th>\n",
       "      <th>2</th>\n",
       "      <th>3</th>\n",
       "      <th>4</th>\n",
       "      <th>5</th>\n",
       "      <th>6</th>\n",
       "    </tr>\n",
       "    <tr>\n",
       "      <th>Category</th>\n",
       "      <th></th>\n",
       "      <th></th>\n",
       "      <th></th>\n",
       "      <th></th>\n",
       "      <th></th>\n",
       "      <th></th>\n",
       "    </tr>\n",
       "  </thead>\n",
       "  <tbody>\n",
       "    <tr>\n",
       "      <th>A</th>\n",
       "      <td>1</td>\n",
       "      <td>0</td>\n",
       "      <td>1</td>\n",
       "      <td>0</td>\n",
       "      <td>1</td>\n",
       "      <td>0</td>\n",
       "    </tr>\n",
       "    <tr>\n",
       "      <th>B</th>\n",
       "      <td>0</td>\n",
       "      <td>1</td>\n",
       "      <td>0</td>\n",
       "      <td>1</td>\n",
       "      <td>0</td>\n",
       "      <td>1</td>\n",
       "    </tr>\n",
       "  </tbody>\n",
       "</table>\n",
       "</div>"
      ],
      "text/plain": [
       "Value     1  2  3  4  5  6\n",
       "Category                  \n",
       "A         1  0  1  0  1  0\n",
       "B         0  1  0  1  0  1"
      ]
     },
     "execution_count": 37,
     "metadata": {},
     "output_type": "execute_result"
    }
   ],
   "source": [
    "# Create a sample DataFrame\n",
    "data = {\n",
    "    'Category': ['A', 'B', 'A', 'B', 'A', 'B'],\n",
    "    'Value': [1, 2, 3, 4, 5, 6]\n",
    "}\n",
    "# converting the Dictionary into a dataframe\n",
    "df = pd.DataFrame(data)\n",
    "\n",
    "# Compute a cross-tabulation table\n",
    "cross_tab = pd.crosstab(df['Category'], df['Value'])\n",
    "cross_tab\n"
   ]
  },
  {
   "cell_type": "markdown",
   "id": "67ea8b5a",
   "metadata": {
    "papermill": {
     "duration": 0.03371,
     "end_time": "2023-07-01T19:09:30.43956",
     "exception": false,
     "start_time": "2023-07-01T19:09:30.40585",
     "status": "completed"
    },
    "tags": []
   },
   "source": [
    "# <a id=\"14\"></a>\n",
    "### <div style= \"font-family: Times New Roman; font-weight:bold; letter-spacing: 0px; color:WHITE; font-size:120%; text-align:left;padding:3.0px; background: brown; border-bottom: 8px solid WHITE\" > 14 -  where():  <br><div> "
   ]
  },
  {
   "cell_type": "markdown",
   "id": "5acdea2a",
   "metadata": {
    "papermill": {
     "duration": 0.033726,
     "end_time": "2023-07-01T19:09:30.507177",
     "exception": false,
     "start_time": "2023-07-01T19:09:30.473451",
     "status": "completed"
    },
    "tags": []
   },
   "source": [
    "\n",
    "## <span style=\"color: #FF4450;\">  The where() function is used to filter rows based on a condition."
   ]
  },
  {
   "cell_type": "code",
   "execution_count": 38,
   "id": "56201488",
   "metadata": {
    "execution": {
     "iopub.execute_input": "2023-07-01T19:09:30.578026Z",
     "iopub.status.busy": "2023-07-01T19:09:30.576678Z",
     "iopub.status.idle": "2023-07-01T19:09:30.591535Z",
     "shell.execute_reply": "2023-07-01T19:09:30.590628Z"
    },
    "papermill": {
     "duration": 0.052846,
     "end_time": "2023-07-01T19:09:30.593866",
     "exception": false,
     "start_time": "2023-07-01T19:09:30.54102",
     "status": "completed"
    },
    "tags": []
   },
   "outputs": [
    {
     "data": {
      "text/html": [
       "<div>\n",
       "<style scoped>\n",
       "    .dataframe tbody tr th:only-of-type {\n",
       "        vertical-align: middle;\n",
       "    }\n",
       "\n",
       "    .dataframe tbody tr th {\n",
       "        vertical-align: top;\n",
       "    }\n",
       "\n",
       "    .dataframe thead th {\n",
       "        text-align: right;\n",
       "    }\n",
       "</style>\n",
       "<table border=\"1\" class=\"dataframe\">\n",
       "  <thead>\n",
       "    <tr style=\"text-align: right;\">\n",
       "      <th></th>\n",
       "      <th>A</th>\n",
       "      <th>B</th>\n",
       "    </tr>\n",
       "  </thead>\n",
       "  <tbody>\n",
       "    <tr>\n",
       "      <th>0</th>\n",
       "      <td>1</td>\n",
       "      <td>6.0</td>\n",
       "    </tr>\n",
       "    <tr>\n",
       "      <th>1</th>\n",
       "      <td>2</td>\n",
       "      <td>7.0</td>\n",
       "    </tr>\n",
       "    <tr>\n",
       "      <th>2</th>\n",
       "      <td>3</td>\n",
       "      <td>NaN</td>\n",
       "    </tr>\n",
       "    <tr>\n",
       "      <th>3</th>\n",
       "      <td>4</td>\n",
       "      <td>NaN</td>\n",
       "    </tr>\n",
       "    <tr>\n",
       "      <th>4</th>\n",
       "      <td>5</td>\n",
       "      <td>NaN</td>\n",
       "    </tr>\n",
       "  </tbody>\n",
       "</table>\n",
       "</div>"
      ],
      "text/plain": [
       "   A    B\n",
       "0  1  6.0\n",
       "1  2  7.0\n",
       "2  3  NaN\n",
       "3  4  NaN\n",
       "4  5  NaN"
      ]
     },
     "execution_count": 38,
     "metadata": {},
     "output_type": "execute_result"
    }
   ],
   "source": [
    "import numpy as np\n",
    "\n",
    "# Create a sample DataFrame\n",
    "data = {\n",
    "    'A': [1, 2, 3, 4, 5],\n",
    "    'B': [6, 7, 8, 9, 10]\n",
    "}\n",
    "\n",
    "# converting the Dictionary into a dataframe\n",
    "df = pd.DataFrame(data)\n",
    "\n",
    "# Replace values in column 'B' where the value in column 'A' is less than 3\n",
    "df['B'] = df['B'].where(df['A'] < 3, np.nan)\n",
    "df\n"
   ]
  },
  {
   "cell_type": "markdown",
   "id": "1280e58b",
   "metadata": {
    "papermill": {
     "duration": 0.035455,
     "end_time": "2023-07-01T19:09:30.663487",
     "exception": false,
     "start_time": "2023-07-01T19:09:30.628032",
     "status": "completed"
    },
    "tags": []
   },
   "source": [
    "\n",
    "# <a id=\"15\"></a>\n",
    "### <div style= \"font-family: Times New Roman; font-weight:bold; letter-spacing: 0px; color:WHITE; font-size:120%; text-align:left;padding:3.0px; background: brown; border-bottom: 8px solid WHITE\" > 15 - nunique()  <br><div> \n",
    "\n",
    "\n",
    "## <span style=\"color: #FF4450;\">  This function returns the number of unique elements in each column of a DataFrame. It can be used to quickly get the count of unique values in a column."
   ]
  },
  {
   "cell_type": "code",
   "execution_count": 39,
   "id": "48880115",
   "metadata": {
    "execution": {
     "iopub.execute_input": "2023-07-01T19:09:30.738074Z",
     "iopub.status.busy": "2023-07-01T19:09:30.736885Z",
     "iopub.status.idle": "2023-07-01T19:09:30.747146Z",
     "shell.execute_reply": "2023-07-01T19:09:30.745745Z"
    },
    "papermill": {
     "duration": 0.049219,
     "end_time": "2023-07-01T19:09:30.749679",
     "exception": false,
     "start_time": "2023-07-01T19:09:30.70046",
     "status": "completed"
    },
    "tags": []
   },
   "outputs": [
    {
     "name": "stdout",
     "output_type": "stream",
     "text": [
      "A    3\n",
      "B    3\n",
      "dtype: int64\n"
     ]
    }
   ],
   "source": [
    "import pandas as pd\n",
    "\n",
    "df = pd.DataFrame({'A': [1, 2, 2, 3, 3, 3],\n",
    "                   'B': ['apple', 'banana', 'banana', 'cherry', 'cherry', 'cherry']})\n",
    "\n",
    "unique_counts = df.nunique()\n",
    "print(unique_counts)\n"
   ]
  },
  {
   "cell_type": "markdown",
   "id": "dd27e7da",
   "metadata": {
    "papermill": {
     "duration": 0.034438,
     "end_time": "2023-07-01T19:09:30.818431",
     "exception": false,
     "start_time": "2023-07-01T19:09:30.783993",
     "status": "completed"
    },
    "tags": []
   },
   "source": [
    "# <a id=\"16\"></a>\n",
    "### <div style= \"font-family: Times New Roman; font-weight:bold; letter-spacing: 0px; color:WHITE; font-size:120%; text-align:left;padding:3.0px; background: brown; border-bottom: 8px solid WHITE\" > 16 - Value Counts()  <br><div> \n"
   ]
  },
  {
   "cell_type": "markdown",
   "id": "62b94f7c",
   "metadata": {
    "papermill": {
     "duration": 0.0344,
     "end_time": "2023-07-01T19:09:30.887442",
     "exception": false,
     "start_time": "2023-07-01T19:09:30.853042",
     "status": "completed"
    },
    "tags": []
   },
   "source": [
    "\n",
    "\n",
    "## <span style=\"color: #FF4450;\">  The value_counts() function is used to count the occurrences of each unique value in a column.The value_counts() function in pandas is used to count the occurrences of unique values in a Series or DataFrame column. It returns a new Series object where the unique values are the index labels and the corresponding counts are the values.The value_counts() function is a handy tool for analyzing the distribution of categorical or discrete data. It provides a quick way to determine the frequencies of unique values and identify the most common or rare categories in a dataset."
   ]
  },
  {
   "cell_type": "code",
   "execution_count": 40,
   "id": "e7807bae",
   "metadata": {
    "execution": {
     "iopub.execute_input": "2023-07-01T19:09:30.959033Z",
     "iopub.status.busy": "2023-07-01T19:09:30.958409Z",
     "iopub.status.idle": "2023-07-01T19:09:30.967413Z",
     "shell.execute_reply": "2023-07-01T19:09:30.965885Z"
    },
    "papermill": {
     "duration": 0.04786,
     "end_time": "2023-07-01T19:09:30.969994",
     "exception": false,
     "start_time": "2023-07-01T19:09:30.922134",
     "status": "completed"
    },
    "tags": []
   },
   "outputs": [
    {
     "name": "stdout",
     "output_type": "stream",
     "text": [
      "cherry    3\n",
      "banana    2\n",
      "apple     1\n",
      "Name: B, dtype: int64\n"
     ]
    }
   ],
   "source": [
    "import pandas as pd\n",
    "\n",
    "df = pd.DataFrame({'A': [1, 2, 2, 3, 3, 3],\n",
    "                   'B': ['apple', 'banana', 'banana', 'cherry', 'cherry', 'cherry']})\n",
    "\n",
    "value_counts = df['B'].value_counts()\n",
    "print(value_counts)"
   ]
  },
  {
   "cell_type": "markdown",
   "id": "5ea86a68",
   "metadata": {
    "papermill": {
     "duration": 0.035458,
     "end_time": "2023-07-01T19:09:31.039655",
     "exception": false,
     "start_time": "2023-07-01T19:09:31.004197",
     "status": "completed"
    },
    "tags": []
   },
   "source": [
    "# <a id=\"17\"></a>\n",
    "### <div style= \"font-family: Times New Roman; font-weight:bold; letter-spacing: 0px; color:WHITE; font-size:120%; text-align:left;padding:3.0px; background: brown; border-bottom: 8px solid WHITE\" > 17 - cut()  <br><div> \n",
    "\n",
    "\n",
    "\n",
    "## <span style=\"color: #FF4450;\">  cut(): This function can be used to segment and sort data into bins. It is particularly useful for creating categorical variables based on numerical data.The cut() function in pandas is used to segment and categorize continuous data into discrete intervals or bins. It allows you to create categorical variables based on the values of a continuous variable. This function is commonly used for data binning, which can be helpful for analyzing and summarizing data across different groups or ranges."
   ]
  },
  {
   "cell_type": "code",
   "execution_count": 41,
   "id": "18c431e3",
   "metadata": {
    "execution": {
     "iopub.execute_input": "2023-07-01T19:09:31.113221Z",
     "iopub.status.busy": "2023-07-01T19:09:31.112421Z",
     "iopub.status.idle": "2023-07-01T19:09:31.134897Z",
     "shell.execute_reply": "2023-07-01T19:09:31.133235Z"
    },
    "papermill": {
     "duration": 0.06253,
     "end_time": "2023-07-01T19:09:31.137539",
     "exception": false,
     "start_time": "2023-07-01T19:09:31.075009",
     "status": "completed"
    },
    "tags": []
   },
   "outputs": [
    {
     "data": {
      "text/html": [
       "<div>\n",
       "<style scoped>\n",
       "    .dataframe tbody tr th:only-of-type {\n",
       "        vertical-align: middle;\n",
       "    }\n",
       "\n",
       "    .dataframe tbody tr th {\n",
       "        vertical-align: top;\n",
       "    }\n",
       "\n",
       "    .dataframe thead th {\n",
       "        text-align: right;\n",
       "    }\n",
       "</style>\n",
       "<table border=\"1\" class=\"dataframe\">\n",
       "  <thead>\n",
       "    <tr style=\"text-align: right;\">\n",
       "      <th></th>\n",
       "      <th>Age</th>\n",
       "      <th>Age Group</th>\n",
       "    </tr>\n",
       "  </thead>\n",
       "  <tbody>\n",
       "    <tr>\n",
       "      <th>0</th>\n",
       "      <td>21</td>\n",
       "      <td>(20, 30]</td>\n",
       "    </tr>\n",
       "    <tr>\n",
       "      <th>1</th>\n",
       "      <td>25</td>\n",
       "      <td>(20, 30]</td>\n",
       "    </tr>\n",
       "    <tr>\n",
       "      <th>2</th>\n",
       "      <td>29</td>\n",
       "      <td>(20, 30]</td>\n",
       "    </tr>\n",
       "    <tr>\n",
       "      <th>3</th>\n",
       "      <td>33</td>\n",
       "      <td>(30, 40]</td>\n",
       "    </tr>\n",
       "    <tr>\n",
       "      <th>4</th>\n",
       "      <td>37</td>\n",
       "      <td>(30, 40]</td>\n",
       "    </tr>\n",
       "    <tr>\n",
       "      <th>5</th>\n",
       "      <td>41</td>\n",
       "      <td>(40, 50]</td>\n",
       "    </tr>\n",
       "    <tr>\n",
       "      <th>6</th>\n",
       "      <td>45</td>\n",
       "      <td>(40, 50]</td>\n",
       "    </tr>\n",
       "    <tr>\n",
       "      <th>7</th>\n",
       "      <td>49</td>\n",
       "      <td>(40, 50]</td>\n",
       "    </tr>\n",
       "    <tr>\n",
       "      <th>8</th>\n",
       "      <td>53</td>\n",
       "      <td>(50, 60]</td>\n",
       "    </tr>\n",
       "    <tr>\n",
       "      <th>9</th>\n",
       "      <td>57</td>\n",
       "      <td>(50, 60]</td>\n",
       "    </tr>\n",
       "  </tbody>\n",
       "</table>\n",
       "</div>"
      ],
      "text/plain": [
       "   Age Age Group\n",
       "0   21  (20, 30]\n",
       "1   25  (20, 30]\n",
       "2   29  (20, 30]\n",
       "3   33  (30, 40]\n",
       "4   37  (30, 40]\n",
       "5   41  (40, 50]\n",
       "6   45  (40, 50]\n",
       "7   49  (40, 50]\n",
       "8   53  (50, 60]\n",
       "9   57  (50, 60]"
      ]
     },
     "execution_count": 41,
     "metadata": {},
     "output_type": "execute_result"
    }
   ],
   "source": [
    "import pandas as pd\n",
    "\n",
    "# Create a sample DataFrame\n",
    "data = {'Age': [21, 25, 29, 33, 37, 41, 45, 49, 53, 57]}\n",
    "df = pd.DataFrame(data)\n",
    "\n",
    "# Define the bin edges for age groups\n",
    "bin_edges = [20, 30, 40, 50, 60]\n",
    "\n",
    "# Create a new column 'Age Group' by cutting the 'Age' column into bins\n",
    "df['Age Group'] = pd.cut(df['Age'], bins=bin_edges)\n",
    "\n",
    "# Display the DataFrame\n",
    "df\n"
   ]
  },
  {
   "cell_type": "markdown",
   "id": "c2b9ed65",
   "metadata": {
    "papermill": {
     "duration": 0.034923,
     "end_time": "2023-07-01T19:09:31.208104",
     "exception": false,
     "start_time": "2023-07-01T19:09:31.173181",
     "status": "completed"
    },
    "tags": []
   },
   "source": [
    "# <a id = \"18\"></a>\n",
    "\n",
    "### <div style= \"font-family: Times New Roman; font-weight:bold; letter-spacing: 0px; color:WHITE; font-size:120%; text-align:left;padding:3.0px; background: brown; border-bottom: 8px solid WHITE\" >18 - MELT()  <br><div>\n",
    "## <span style=\"color: #FF4450;\"> melt() is a pandas function that transforms a wide-format DataFrame into a long-format DataFrame by unpivoting the specified columns.The melt() function in pandas is used to transform a DataFrame from wide format to long format. It takes a DataFrame as input and converts it by unpivoting the data, reshaping it in a way that columns become rows. This operation is particularly useful when you want to restructure data or convert it to a format that is more suitable for analysis or visualization."
   ]
  },
  {
   "cell_type": "code",
   "execution_count": 42,
   "id": "fb03fbfc",
   "metadata": {
    "execution": {
     "iopub.execute_input": "2023-07-01T19:09:31.281416Z",
     "iopub.status.busy": "2023-07-01T19:09:31.280952Z",
     "iopub.status.idle": "2023-07-01T19:09:31.29775Z",
     "shell.execute_reply": "2023-07-01T19:09:31.296661Z"
    },
    "papermill": {
     "duration": 0.056294,
     "end_time": "2023-07-01T19:09:31.300138",
     "exception": false,
     "start_time": "2023-07-01T19:09:31.243844",
     "status": "completed"
    },
    "tags": []
   },
   "outputs": [
    {
     "data": {
      "text/html": [
       "<div>\n",
       "<style scoped>\n",
       "    .dataframe tbody tr th:only-of-type {\n",
       "        vertical-align: middle;\n",
       "    }\n",
       "\n",
       "    .dataframe tbody tr th {\n",
       "        vertical-align: top;\n",
       "    }\n",
       "\n",
       "    .dataframe thead th {\n",
       "        text-align: right;\n",
       "    }\n",
       "</style>\n",
       "<table border=\"1\" class=\"dataframe\">\n",
       "  <thead>\n",
       "    <tr style=\"text-align: right;\">\n",
       "      <th></th>\n",
       "      <th>Name</th>\n",
       "      <th>Subject</th>\n",
       "      <th>Score</th>\n",
       "    </tr>\n",
       "  </thead>\n",
       "  <tbody>\n",
       "    <tr>\n",
       "      <th>0</th>\n",
       "      <td>John</td>\n",
       "      <td>Math</td>\n",
       "      <td>85</td>\n",
       "    </tr>\n",
       "    <tr>\n",
       "      <th>1</th>\n",
       "      <td>Jane</td>\n",
       "      <td>Math</td>\n",
       "      <td>90</td>\n",
       "    </tr>\n",
       "    <tr>\n",
       "      <th>2</th>\n",
       "      <td>Mike</td>\n",
       "      <td>Math</td>\n",
       "      <td>92</td>\n",
       "    </tr>\n",
       "    <tr>\n",
       "      <th>3</th>\n",
       "      <td>John</td>\n",
       "      <td>Science</td>\n",
       "      <td>78</td>\n",
       "    </tr>\n",
       "    <tr>\n",
       "      <th>4</th>\n",
       "      <td>Jane</td>\n",
       "      <td>Science</td>\n",
       "      <td>88</td>\n",
       "    </tr>\n",
       "    <tr>\n",
       "      <th>5</th>\n",
       "      <td>Mike</td>\n",
       "      <td>Science</td>\n",
       "      <td>84</td>\n",
       "    </tr>\n",
       "    <tr>\n",
       "      <th>6</th>\n",
       "      <td>John</td>\n",
       "      <td>English</td>\n",
       "      <td>80</td>\n",
       "    </tr>\n",
       "    <tr>\n",
       "      <th>7</th>\n",
       "      <td>Jane</td>\n",
       "      <td>English</td>\n",
       "      <td>82</td>\n",
       "    </tr>\n",
       "    <tr>\n",
       "      <th>8</th>\n",
       "      <td>Mike</td>\n",
       "      <td>English</td>\n",
       "      <td>86</td>\n",
       "    </tr>\n",
       "  </tbody>\n",
       "</table>\n",
       "</div>"
      ],
      "text/plain": [
       "   Name  Subject  Score\n",
       "0  John     Math     85\n",
       "1  Jane     Math     90\n",
       "2  Mike     Math     92\n",
       "3  John  Science     78\n",
       "4  Jane  Science     88\n",
       "5  Mike  Science     84\n",
       "6  John  English     80\n",
       "7  Jane  English     82\n",
       "8  Mike  English     86"
      ]
     },
     "execution_count": 42,
     "metadata": {},
     "output_type": "execute_result"
    }
   ],
   "source": [
    "import pandas as pd\n",
    "\n",
    "data = {\n",
    "    'Name': ['John', 'Jane', 'Mike'],\n",
    "    'Math': [85, 90, 92],\n",
    "    'Science': [78, 88, 84],\n",
    "    'English': [80, 82, 86]\n",
    "}\n",
    "\n",
    "df = pd.DataFrame(data)\n",
    "melted_df = df.melt(id_vars='Name', var_name='Subject', value_name='Score')\n",
    "\n",
    "melted_df\n"
   ]
  },
  {
   "cell_type": "markdown",
   "id": "43e86231",
   "metadata": {
    "papermill": {
     "duration": 0.037544,
     "end_time": "2023-07-01T19:09:31.37355",
     "exception": false,
     "start_time": "2023-07-01T19:09:31.336006",
     "status": "completed"
    },
    "tags": []
   },
   "source": [
    "# <a id = \"19\"></a>\n",
    "\n",
    "### <div style= \"font-family: Times New Roman; font-weight:bold; letter-spacing: 0px; color:WHITE; font-size:120%; text-align:left;padding:3.0px; background: brown; border-bottom: 8px solid WHITE\" >19 - pivot_table  <br><div>\n",
    "## <span style=\"color: #FF4450;\">The pivot_table() function allows you to summarize and aggregate data in a tabular format based on one or more columns.The pivot_table() function in pandas is used to create a spreadsheet-style pivot table from a DataFrame. It allows you to summarize and aggregate data based on one or more columns, providing a compact representation of data that facilitates analysis and comparison."
   ]
  },
  {
   "cell_type": "code",
   "execution_count": 43,
   "id": "92124c4c",
   "metadata": {
    "execution": {
     "iopub.execute_input": "2023-07-01T19:09:31.44873Z",
     "iopub.status.busy": "2023-07-01T19:09:31.447858Z",
     "iopub.status.idle": "2023-07-01T19:09:31.46904Z",
     "shell.execute_reply": "2023-07-01T19:09:31.467807Z"
    },
    "papermill": {
     "duration": 0.061126,
     "end_time": "2023-07-01T19:09:31.471557",
     "exception": false,
     "start_time": "2023-07-01T19:09:31.410431",
     "status": "completed"
    },
    "tags": []
   },
   "outputs": [
    {
     "name": "stdout",
     "output_type": "stream",
     "text": [
      "Subject  Math  Science\n",
      "Name                  \n",
      "Alice     NaN     87.5\n",
      "Bob      75.0      NaN\n",
      "John     80.0     92.0\n"
     ]
    }
   ],
   "source": [
    "import pandas as pd\n",
    "\n",
    "# Create a sample DataFrame\n",
    "data = {\n",
    "    'Name': ['John', 'Alice', 'Bob', 'Alice', 'John'],\n",
    "    'Subject': ['Math', 'Science', 'Math', 'Science', 'Science'],\n",
    "    'Score': [80, 90, 75, 85, 92]\n",
    "}\n",
    "df = pd.DataFrame(data)\n",
    "\n",
    "# Apply pivot_table() to summarize and aggregate data\n",
    "pivot_df = pd.pivot_table(df, values='Score', index='Name', columns='Subject', aggfunc='mean')\n",
    "\n",
    "# Print the resulting pivot table\n",
    "print(pivot_df)\n"
   ]
  },
  {
   "cell_type": "markdown",
   "id": "9d2678a3",
   "metadata": {
    "papermill": {
     "duration": 0.036285,
     "end_time": "2023-07-01T19:09:31.543828",
     "exception": false,
     "start_time": "2023-07-01T19:09:31.507543",
     "status": "completed"
    },
    "tags": []
   },
   "source": [
    "# <a id = \"20\"></a>\n",
    "\n",
    "### <div style= \"font-family: Times New Roman; font-weight:bold; letter-spacing: 0px; color:WHITE; font-size:120%; text-align:left;padding:3.0px; background: brown; border-bottom: 8px solid WHITE\" >  20 - CATEGORIES. <br><div>\n",
    "## <span style=\"color: #FF4450;\">This function is used to create a categorical variable from a given array or column. Categorical variables are useful for representing data with a limited number of unique values or categories . The pd.Categorical() function in pandas is used to create a categorical variable from a Series or an array-like object. It provides a way to represent data that has a fixed number of unique values or categories. The pd.Categorical() function is useful when working with categorical data in pandas. It provides a way to represent and work with fixed categories, enabling efficient storage and computations on categorical variables. Categorical variables have advantages such as reduced memory usage and improved performance in certain operations, particularly when dealing with large datasets."
   ]
  },
  {
   "cell_type": "code",
   "execution_count": 44,
   "id": "cc7c0b86",
   "metadata": {
    "execution": {
     "iopub.execute_input": "2023-07-01T19:09:31.618257Z",
     "iopub.status.busy": "2023-07-01T19:09:31.617486Z",
     "iopub.status.idle": "2023-07-01T19:09:31.626818Z",
     "shell.execute_reply": "2023-07-01T19:09:31.625576Z"
    },
    "papermill": {
     "duration": 0.049684,
     "end_time": "2023-07-01T19:09:31.629263",
     "exception": false,
     "start_time": "2023-07-01T19:09:31.579579",
     "status": "completed"
    },
    "tags": []
   },
   "outputs": [
    {
     "data": {
      "text/plain": [
       "['Number', 'Year', 'Album', 'Artist', 'Genre', 'Subgenre']\n",
       "Categories (6, object): ['Album', 'Artist', 'Genre', 'Number', 'Subgenre', 'Year']"
      ]
     },
     "execution_count": 44,
     "metadata": {},
     "output_type": "execute_result"
    }
   ],
   "source": [
    "import pandas as pd\n",
    "\n",
    "categories = pd.Categorical(data2)\n",
    "categories\n"
   ]
  },
  {
   "cell_type": "markdown",
   "id": "cc147ee5",
   "metadata": {
    "papermill": {
     "duration": 0.035469,
     "end_time": "2023-07-01T19:09:31.701419",
     "exception": false,
     "start_time": "2023-07-01T19:09:31.66595",
     "status": "completed"
    },
    "tags": []
   },
   "source": [
    "# <a id = \"21\"></a>\n",
    "\n",
    "### <div style= \"font-family: Times New Roman; font-weight:bold; letter-spacing: 0px; color:WHITE; font-size:120%; text-align:left;padding:3.0px; background: brown; border-bottom: 8px solid WHITE\" >  21 - FACTORIZE. <br><div>\n",
    "    \n",
    "## <span style=\"color: #FF4450;\"> pd.factorize(). The function assigns a unique numeric label to each category, represented by the labels array. The unique categories are returned as an Index object in the categories variable.The factorize() function is particularly useful when dealing with categorical data in machine learning or data analysis tasks where algorithms typically require numerical inputs.It's important to note that the factorize() function does not create separate columns for each category like one-hot encoding. Instead, it assigns a unique code to each distinct category, allowing you to work with categorical data using numerical representations."
   ]
  },
  {
   "cell_type": "code",
   "execution_count": 45,
   "id": "d9d020bc",
   "metadata": {
    "execution": {
     "iopub.execute_input": "2023-07-01T19:09:31.777207Z",
     "iopub.status.busy": "2023-07-01T19:09:31.776396Z",
     "iopub.status.idle": "2023-07-01T19:09:31.785314Z",
     "shell.execute_reply": "2023-07-01T19:09:31.784404Z"
    },
    "papermill": {
     "duration": 0.050134,
     "end_time": "2023-07-01T19:09:31.787883",
     "exception": false,
     "start_time": "2023-07-01T19:09:31.737749",
     "status": "completed"
    },
    "tags": []
   },
   "outputs": [
    {
     "name": "stdout",
     "output_type": "stream",
     "text": [
      "Encoded Labels: [0 1 0 2 1]\n",
      "Unique Categories: Index(['A', 'B', 'C'], dtype='object')\n"
     ]
    }
   ],
   "source": [
    "import pandas as pd\n",
    "\n",
    "# Create a DataFrame\n",
    "data = {\n",
    "    'Category': ['A', 'B', 'A', 'C', 'B']\n",
    "}\n",
    "df = pd.DataFrame(data)\n",
    "\n",
    "# Encode categorical variable\n",
    "labels, categories = pd.factorize(df['Category'])\n",
    "\n",
    "print(\"Encoded Labels:\", labels)\n",
    "print(\"Unique Categories:\", categories)\n"
   ]
  },
  {
   "cell_type": "markdown",
   "id": "ee485ef5",
   "metadata": {
    "papermill": {
     "duration": 0.034702,
     "end_time": "2023-07-01T19:09:31.857916",
     "exception": false,
     "start_time": "2023-07-01T19:09:31.823214",
     "status": "completed"
    },
    "tags": []
   },
   "source": [
    "# <a id = \"22\"></a>\n",
    "\n",
    "### <div style= \"font-family: Times New Roman; font-weight:bold; letter-spacing: 0px; color:WHITE; font-size:120%; text-align:left;padding:3.0px; background: brown; border-bottom: 8px solid WHITE\" >  22 - AGGREGRATION. <br><div>\n",
    "    \n",
    "   \n",
    "## <span style=\"color: #FF4450;\"> This function is used to apply aggregation functions to one or more columns in a DataFrame. It allows you to calculate multiple summary statistics at once.Aggregation in pandas refers to the process of combining multiple data points into a single summary value. It involves applying a specific function to a set of data to derive meaningful insights. Pandas provides several aggregation functions that operate on Series or DataFrame objects. Other functions such as median(), std(), var(), quantile(), and describe() provide additional insights into the data distribution, variability, and summary statistics. Aggregation functions are commonly used in data analysis and exploratory data analysis (EDA) to gain insights and summarize data efficiently."
   ]
  },
  {
   "cell_type": "code",
   "execution_count": 46,
   "id": "0aff32cc",
   "metadata": {
    "execution": {
     "iopub.execute_input": "2023-07-01T19:09:31.93159Z",
     "iopub.status.busy": "2023-07-01T19:09:31.931148Z",
     "iopub.status.idle": "2023-07-01T19:09:31.953713Z",
     "shell.execute_reply": "2023-07-01T19:09:31.952682Z"
    },
    "papermill": {
     "duration": 0.062877,
     "end_time": "2023-07-01T19:09:31.956001",
     "exception": false,
     "start_time": "2023-07-01T19:09:31.893124",
     "status": "completed"
    },
    "tags": []
   },
   "outputs": [
    {
     "name": "stdout",
     "output_type": "stream",
     "text": [
      "Summary Statistics:\n"
     ]
    },
    {
     "data": {
      "text/html": [
       "<div>\n",
       "<style scoped>\n",
       "    .dataframe tbody tr th:only-of-type {\n",
       "        vertical-align: middle;\n",
       "    }\n",
       "\n",
       "    .dataframe tbody tr th {\n",
       "        vertical-align: top;\n",
       "    }\n",
       "\n",
       "    .dataframe thead th {\n",
       "        text-align: right;\n",
       "    }\n",
       "</style>\n",
       "<table border=\"1\" class=\"dataframe\">\n",
       "  <thead>\n",
       "    <tr style=\"text-align: right;\">\n",
       "      <th></th>\n",
       "      <th>Age</th>\n",
       "      <th>Height</th>\n",
       "      <th>Weight</th>\n",
       "    </tr>\n",
       "  </thead>\n",
       "  <tbody>\n",
       "    <tr>\n",
       "      <th>min</th>\n",
       "      <td>25.0</td>\n",
       "      <td>NaN</td>\n",
       "      <td>NaN</td>\n",
       "    </tr>\n",
       "    <tr>\n",
       "      <th>max</th>\n",
       "      <td>35.0</td>\n",
       "      <td>NaN</td>\n",
       "      <td>NaN</td>\n",
       "    </tr>\n",
       "    <tr>\n",
       "      <th>mean</th>\n",
       "      <td>NaN</td>\n",
       "      <td>170.0</td>\n",
       "      <td>NaN</td>\n",
       "    </tr>\n",
       "    <tr>\n",
       "      <th>sum</th>\n",
       "      <td>NaN</td>\n",
       "      <td>NaN</td>\n",
       "      <td>328.0</td>\n",
       "    </tr>\n",
       "  </tbody>\n",
       "</table>\n",
       "</div>"
      ],
      "text/plain": [
       "       Age  Height  Weight\n",
       "min   25.0     NaN     NaN\n",
       "max   35.0     NaN     NaN\n",
       "mean   NaN   170.0     NaN\n",
       "sum    NaN     NaN   328.0"
      ]
     },
     "execution_count": 46,
     "metadata": {},
     "output_type": "execute_result"
    }
   ],
   "source": [
    "import pandas as pd\n",
    "\n",
    "data = {\n",
    "    'Name': ['John', 'Alice', 'Bob', 'Alice', 'John'],\n",
    "    'Age': [25, 30, 35, 30, 25],\n",
    "    'Height': [175, 160, 180, 165, 170],\n",
    "    'Weight': [70, 55, 75, 60, 68]\n",
    "}\n",
    "df = pd.DataFrame(data)\n",
    "\n",
    "summary_stats = df.agg({'Age': ['min', 'max'], 'Height': 'mean', 'Weight': 'sum'})\n",
    "print(\"Summary Statistics:\")\n",
    "summary_stats"
   ]
  },
  {
   "cell_type": "markdown",
   "id": "8a5f5238",
   "metadata": {
    "papermill": {
     "duration": 0.03596,
     "end_time": "2023-07-01T19:09:32.027735",
     "exception": false,
     "start_time": "2023-07-01T19:09:31.991775",
     "status": "completed"
    },
    "tags": []
   },
   "source": [
    "# <a id = \"23\"></a>\n",
    "\n",
    "### <div style= \"font-family: Times New Roman; font-weight:bold; letter-spacing: 0px; color:WHITE; font-size:120%; text-align:left;padding:3.0px; background: brown; border-bottom: 8px solid WHITE\" >  23 - GET_DUMMIES. <br><div>"
   ]
  },
  {
   "cell_type": "markdown",
   "id": "4e557a35",
   "metadata": {
    "papermill": {
     "duration": 0.035188,
     "end_time": "2023-07-01T19:09:32.098712",
     "exception": false,
     "start_time": "2023-07-01T19:09:32.063524",
     "status": "completed"
    },
    "tags": []
   },
   "source": [
    "   \n",
    "## <span style=\"color: #FF4450;\">pd.get_dummies() is a pandas function used for creating dummy variables from categorical data. It is a convenient way to convert categorical variables into numerical representations suitable for machine learning algorithms or other data analysis tasks.This technique of creating dummy variables allows categorical data to be represented in a numerical format that can be used as input for various data analysis or machine learning tasks."
   ]
  },
  {
   "cell_type": "code",
   "execution_count": 47,
   "id": "79425bf5",
   "metadata": {
    "execution": {
     "iopub.execute_input": "2023-07-01T19:09:32.173937Z",
     "iopub.status.busy": "2023-07-01T19:09:32.172962Z",
     "iopub.status.idle": "2023-07-01T19:09:32.185543Z",
     "shell.execute_reply": "2023-07-01T19:09:32.184676Z"
    },
    "papermill": {
     "duration": 0.052031,
     "end_time": "2023-07-01T19:09:32.188066",
     "exception": false,
     "start_time": "2023-07-01T19:09:32.136035",
     "status": "completed"
    },
    "tags": []
   },
   "outputs": [
    {
     "data": {
      "text/html": [
       "<div>\n",
       "<style scoped>\n",
       "    .dataframe tbody tr th:only-of-type {\n",
       "        vertical-align: middle;\n",
       "    }\n",
       "\n",
       "    .dataframe tbody tr th {\n",
       "        vertical-align: top;\n",
       "    }\n",
       "\n",
       "    .dataframe thead th {\n",
       "        text-align: right;\n",
       "    }\n",
       "</style>\n",
       "<table border=\"1\" class=\"dataframe\">\n",
       "  <thead>\n",
       "    <tr style=\"text-align: right;\">\n",
       "      <th></th>\n",
       "      <th>Blue</th>\n",
       "      <th>Green</th>\n",
       "      <th>Red</th>\n",
       "    </tr>\n",
       "  </thead>\n",
       "  <tbody>\n",
       "    <tr>\n",
       "      <th>0</th>\n",
       "      <td>0</td>\n",
       "      <td>0</td>\n",
       "      <td>1</td>\n",
       "    </tr>\n",
       "    <tr>\n",
       "      <th>1</th>\n",
       "      <td>0</td>\n",
       "      <td>1</td>\n",
       "      <td>0</td>\n",
       "    </tr>\n",
       "    <tr>\n",
       "      <th>2</th>\n",
       "      <td>1</td>\n",
       "      <td>0</td>\n",
       "      <td>0</td>\n",
       "    </tr>\n",
       "    <tr>\n",
       "      <th>3</th>\n",
       "      <td>0</td>\n",
       "      <td>0</td>\n",
       "      <td>1</td>\n",
       "    </tr>\n",
       "    <tr>\n",
       "      <th>4</th>\n",
       "      <td>0</td>\n",
       "      <td>1</td>\n",
       "      <td>0</td>\n",
       "    </tr>\n",
       "    <tr>\n",
       "      <th>5</th>\n",
       "      <td>1</td>\n",
       "      <td>0</td>\n",
       "      <td>0</td>\n",
       "    </tr>\n",
       "    <tr>\n",
       "      <th>6</th>\n",
       "      <td>1</td>\n",
       "      <td>0</td>\n",
       "      <td>0</td>\n",
       "    </tr>\n",
       "  </tbody>\n",
       "</table>\n",
       "</div>"
      ],
      "text/plain": [
       "   Blue  Green  Red\n",
       "0     0      0    1\n",
       "1     0      1    0\n",
       "2     1      0    0\n",
       "3     0      0    1\n",
       "4     0      1    0\n",
       "5     1      0    0\n",
       "6     1      0    0"
      ]
     },
     "execution_count": 47,
     "metadata": {},
     "output_type": "execute_result"
    }
   ],
   "source": [
    "import pandas as pd\n",
    "\n",
    "data = {'Color': ['Red', 'Green', 'Blue', 'Red',\"Green\",\"Blue\",\"Blue\",]}\n",
    "df = pd.DataFrame(data)\n",
    "\n",
    "dummy_df = pd.get_dummies(df['Color'])\n",
    "dummy_df\n"
   ]
  },
  {
   "cell_type": "markdown",
   "id": "8b47f860",
   "metadata": {
    "papermill": {
     "duration": 0.035474,
     "end_time": "2023-07-01T19:09:32.261645",
     "exception": false,
     "start_time": "2023-07-01T19:09:32.226171",
     "status": "completed"
    },
    "tags": []
   },
   "source": [
    "# <a id = \"24\"></a>\n",
    "\n",
    "### <div style= \"font-family: Times New Roman; font-weight:bold; letter-spacing: 0px; color:WHITE; font-size:120%; text-align:left;padding:3.0px; background: brown; border-bottom: 8px solid WHITE\" >  24 - PERIOD RANGE. <br><div>\n",
    "   \n",
    "## <span style=\"color: #FF4450;\">This function generates a fixed-frequency sequence of periods. It is useful for creating a range of dates or time periods with a specified frequency IN python . pd.period_range() is a pandas function used to generate a fixed-frequency sequence of periods. It is particularly useful when working with time-based data and allows you to create a range of dates or time periods with a specified frequency. pd.period_range() is particularly useful for creating time-based indices or for slicing and selecting specific periods within a given range.\n"
   ]
  },
  {
   "cell_type": "code",
   "execution_count": 48,
   "id": "a374211a",
   "metadata": {
    "execution": {
     "iopub.execute_input": "2023-07-01T19:09:32.334578Z",
     "iopub.status.busy": "2023-07-01T19:09:32.33414Z",
     "iopub.status.idle": "2023-07-01T19:09:32.342775Z",
     "shell.execute_reply": "2023-07-01T19:09:32.34147Z"
    },
    "papermill": {
     "duration": 0.048184,
     "end_time": "2023-07-01T19:09:32.345297",
     "exception": false,
     "start_time": "2023-07-01T19:09:32.297113",
     "status": "completed"
    },
    "tags": []
   },
   "outputs": [
    {
     "name": "stdout",
     "output_type": "stream",
     "text": [
      "PeriodIndex(['2022-01', '2022-02', '2022-03', '2022-04', '2022-05', '2022-06',\n",
      "             '2022-07', '2022-08', '2022-09', '2022-10', '2022-11', '2022-12'],\n",
      "            dtype='period[M]')\n"
     ]
    }
   ],
   "source": [
    "import pandas as pd\n",
    "\n",
    "periods = pd.period_range(start='2022-01-01', end='2022-12-31', freq='M')\n",
    "print(periods)\n"
   ]
  },
  {
   "cell_type": "markdown",
   "id": "bb950302",
   "metadata": {
    "papermill": {
     "duration": 0.035395,
     "end_time": "2023-07-01T19:09:32.419144",
     "exception": false,
     "start_time": "2023-07-01T19:09:32.383749",
     "status": "completed"
    },
    "tags": []
   },
   "source": [
    "# <a id = \"25\"></a>\n",
    "\n",
    "### <div style= \"font-family: Times New Roman; font-weight:bold; letter-spacing: 0px; color:WHITE; font-size:120%; text-align:left;padding:3.0px; background: brown; border-bottom: 8px solid WHITE\" >  25 - QCUT. <br><div>\n",
    "   \n",
    "## <span style=\"color: #FF4450;\"> pd.qcut() is a pandas function used for quantile-based discretization of continuous data. It divides a continuous variable into discrete intervals (or bins) based on sample quantiles. The goal of pd.qcut() is to ensure that each bin contains approximately an equal number of data points.This code will divide the data Series into 5 equal-sized bins based on quantiles and assign a categorical label to each data point indicating the bin it belongs to. The resulting categories will be a Categorical object representing the discretized data."
   ]
  },
  {
   "cell_type": "code",
   "execution_count": 49,
   "id": "0c6bab1c",
   "metadata": {
    "execution": {
     "iopub.execute_input": "2023-07-01T19:09:32.492615Z",
     "iopub.status.busy": "2023-07-01T19:09:32.492174Z",
     "iopub.status.idle": "2023-07-01T19:09:32.508688Z",
     "shell.execute_reply": "2023-07-01T19:09:32.507149Z"
    },
    "papermill": {
     "duration": 0.056338,
     "end_time": "2023-07-01T19:09:32.511293",
     "exception": false,
     "start_time": "2023-07-01T19:09:32.454955",
     "status": "completed"
    },
    "tags": []
   },
   "outputs": [
    {
     "name": "stdout",
     "output_type": "stream",
     "text": [
      "0      (0.581, 0.76]\n",
      "1     (0.429, 0.581]\n",
      "2      (0.581, 0.76]\n",
      "3     (0.429, 0.581]\n",
      "4     (0.429, 0.581]\n",
      "           ...      \n",
      "95     (0.76, 0.997]\n",
      "96     (0.76, 0.997]\n",
      "97    (0.429, 0.581]\n",
      "98    (0.172, 0.429]\n",
      "99    (0.429, 0.581]\n",
      "Length: 100, dtype: category\n",
      "Categories (5, interval[float64, right]): [(0.00149, 0.172] < (0.172, 0.429] < (0.429, 0.581] < (0.581, 0.76] < (0.76, 0.997]]\n"
     ]
    }
   ],
   "source": [
    "import pandas as pd\n",
    "import numpy as np\n",
    "\n",
    "data = pd.Series(np.random.rand(100))\n",
    "categories = pd.qcut(data, q=5)\n",
    "print(categories)\n"
   ]
  },
  {
   "cell_type": "markdown",
   "id": "cb6c548c",
   "metadata": {
    "papermill": {
     "duration": 0.03558,
     "end_time": "2023-07-01T19:09:32.583518",
     "exception": false,
     "start_time": "2023-07-01T19:09:32.547938",
     "status": "completed"
    },
    "tags": []
   },
   "source": [
    "   \n",
    "## <span style=\"color: #FF4500;\"> THANK YOU :\n",
    "\n",
    "\n",
    "\n",
    "<p style=\"padding: 10px; background-color: #000000; margin: 0; color: ORANGE; font-family: New Times Roman; font-size: 135%; text-align: center; border-radius: 5px; overflow: hidden; font-weight: 500;\">\n",
    "THANK YOU . \n",
    "</p>\n",
    "\n",
    "<p style=\"text-align: center;\">\n",
    "    <!-- Content related to the bar chart can be added here -->\n",
    "</p>\n",
    "\n",
    "\n",
    "\n",
    "\n",
    "## <span style=\"color: #FF4450;\"> I hope you all learnt something or atleast it was a revision for most of you users , I would love your opinions on this let me know , If I am missing out something in this notebook , And do upvote as it keeps me motivated and helps me to perform and provide better.</span>\n",
    "## <span style=\"color: #FF4450;\"> THANKING YOU IN ANTICIPATON;"
   ]
  },
  {
   "cell_type": "markdown",
   "id": "a30e0792",
   "metadata": {
    "papermill": {
     "duration": 0.036071,
     "end_time": "2023-07-01T19:09:32.655693",
     "exception": false,
     "start_time": "2023-07-01T19:09:32.619622",
     "status": "completed"
    },
    "tags": []
   },
   "source": [
    "![Alt Text](https://media.giphy.com/media/9V8You0A1G64JmiBUi/giphy.gif)\n",
    "\n"
   ]
  }
 ],
 "metadata": {
  "kernelspec": {
   "display_name": "Python 3 (ipykernel)",
   "language": "python",
   "name": "python3"
  },
  "language_info": {
   "codemirror_mode": {
    "name": "ipython",
    "version": 3
   },
   "file_extension": ".py",
   "mimetype": "text/x-python",
   "name": "python",
   "nbconvert_exporter": "python",
   "pygments_lexer": "ipython3",
   "version": "3.9.7"
  },
  "papermill": {
   "default_parameters": {},
   "duration": 25.543339,
   "end_time": "2023-07-01T19:09:33.615082",
   "environment_variables": {},
   "exception": null,
   "input_path": "__notebook__.ipynb",
   "output_path": "__notebook__.ipynb",
   "parameters": {},
   "start_time": "2023-07-01T19:09:08.071743",
   "version": "2.4.0"
  }
 },
 "nbformat": 4,
 "nbformat_minor": 5
}
